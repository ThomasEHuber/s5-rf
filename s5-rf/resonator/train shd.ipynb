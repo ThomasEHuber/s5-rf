{
 "cells": [
  {
   "cell_type": "code",
   "execution_count": 1,
   "metadata": {},
   "outputs": [
    {
     "name": "stdout",
     "output_type": "stream",
     "text": [
      "/home/thomas/Development/resonator-hackathon/ssm/equinox\n"
     ]
    },
    {
     "name": "stderr",
     "output_type": "stream",
     "text": [
      "/home/thomas/Development/resonator-hackathon/.venv/lib/python3.10/site-packages/IPython/core/magics/osm.py:417: UserWarning: This is now an optional IPython functionality, setting dhist requires you to install the `pickleshare` library.\n",
      "  self.shell.db['dhist'] = compress_dhist(dhist)[-100:]\n"
     ]
    },
    {
     "data": {
      "text/plain": [
       "'/home/thomas/Development/resonator-hackathon/ssm/equinox'"
      ]
     },
     "execution_count": 1,
     "metadata": {},
     "output_type": "execute_result"
    }
   ],
   "source": [
    "# sets the correct path, don't know how to toggle this once it is set\n",
    "%cd ../\n",
    "%pwd"
   ]
  },
  {
   "cell_type": "code",
   "execution_count": 2,
   "metadata": {},
   "outputs": [
    {
     "name": "stderr",
     "output_type": "stream",
     "text": [
      "/home/thomas/Development/resonator-hackathon/.venv/lib/python3.10/site-packages/tqdm/auto.py:21: TqdmWarning: IProgress not found. Please update jupyter and ipywidgets. See https://ipywidgets.readthedocs.io/en/stable/user_install.html\n",
      "  from .autonotebook import tqdm as notebook_tqdm\n"
     ]
    }
   ],
   "source": [
    "import torch\n",
    "import torchvision\n",
    "from torchvision import datasets, transforms\n",
    "import jax \n",
    "import jax.numpy as jnp\n",
    "import equinox as eqx\n",
    "import optax\n",
    "from tqdm import tqdm\n",
    "from typing import Callable\n",
    "import wandb\n",
    "import math\n",
    "import numpy as np\n",
    "\n",
    "from resonator_s5.classifier import Classifier\n",
    "from functools import partial\n",
    "\n",
    "import tonic\n",
    "import tonic.transforms as transforms\n",
    "from tonic import DiskCachedDataset\n",
    "\n",
    "\n",
    "def downsample(x: np.ndarray) -> np.ndarray:\n",
    "    \"\"\"\n",
    "    Input: (T, 700)\n",
    "    Output: (T, 140)\n",
    "    \"\"\"\n",
    "    x = x.reshape((-1, 14, 50))\n",
    "    x = x.sum(axis=-1)\n",
    "    return x\n",
    "\n",
    "\n",
    "shd_sensor_size = (700, 1, 1)\n",
    "bins = 250\n",
    "pre_cache_transform = transforms.Compose([\n",
    "    # tonic.transforms.ToFrame(\n",
    "    #     sensor_size=(700, 1, 1), # ssc.sensor_size = (700, 1, 1) \n",
    "    #     time_window=1000,\n",
    "    # ),\n",
    "    # tonic.transforms.CropTime(max=100000),\n",
    "    tonic.transforms.Downsample(sensor_size=shd_sensor_size, target_size=(140, 1)),\n",
    "])\n",
    "post_cache_train_transform = transforms.Compose([\n",
    "    # tonic.transforms.UniformNoise(sensor_size=shd_sensor_size, n=1000),\n",
    "    # tonic.transforms.SpatialJitter(\n",
    "    #         sensor_size=shd_sensor_size, \n",
    "    #         var_x=1, \n",
    "    #         var_y=1, \n",
    "    #         clip_outliers=True\n",
    "    #     ),\n",
    "    tonic.transforms.TimeJitter(std=100, clip_negative=True),\n",
    "    # tonic.transforms.DropEvent(p=0.33),\n",
    "    tonic.transforms.ToFrame(\n",
    "        sensor_size=(140, 1, 1), \n",
    "        n_time_bins=bins,\n",
    "    ),\n",
    "    torchvision.transforms.Lambda(lambda x: x[:, 0, :]),\n",
    "    torchvision.transforms.Lambda(lambda x: (x > 0).astype(np.int32)),\n",
    "])\n",
    "post_cache_val_transform = transforms.Compose([\n",
    "    # tonic.transforms.UniformNoise(sensor_size=shd_sensor_size, n=1000),\n",
    "    # tonic.transforms.SpatialJitter(\n",
    "    #         sensor_size=shd_sensor_size, \n",
    "    #         var_x=1, \n",
    "    #         var_y=1, \n",
    "    #         clip_outliers=True\n",
    "    #     ),\n",
    "    # tonic.transforms.TimeJitter(std=100, clip_negative=True),\n",
    "    # tonic.transforms.DropEvent(p=0.33),\n",
    "    tonic.transforms.ToFrame(\n",
    "        sensor_size=(140, 1, 1), \n",
    "        n_time_bins=bins,\n",
    "    ),\n",
    "    torchvision.transforms.Lambda(lambda x: x[:, 0, :]),\n",
    "    torchvision.transforms.Lambda(lambda x: (x > 0).astype(np.int32)),\n",
    "])\n",
    "\n",
    "\n",
    "train_dataset = tonic.datasets.SHD(save_to=\"../../data\", train=True, transform=pre_cache_transform)\n",
    "train_dataset, val_dataset = torch.utils.data.random_split(train_dataset, [0.9, 0.1])\n",
    "test_dataset = tonic.datasets.SHD(save_to=\"../../data\", train=False, transform=pre_cache_transform)\n",
    "\n",
    "train_dataset = DiskCachedDataset(train_dataset, cache_path=\"../../data/tonic/cache/shd/train\", transform=post_cache_train_transform)\n",
    "val_dataset = DiskCachedDataset(val_dataset, cache_path=\"../../data/tonic/cache/shd/val\", transform=post_cache_val_transform)\n",
    "test_dataset = DiskCachedDataset(test_dataset, cache_path=\"../../data/tonic/cache/shd/test\", transform=post_cache_val_transform)\n",
    "\n",
    "\n",
    "BATCH_SIZE = 32\n",
    "NUM_CLASSES = 20\n",
    "EPOCHS = 20\n",
    "\n",
    "train_dataloader = torch.utils.data.DataLoader(train_dataset, batch_size=BATCH_SIZE, shuffle=True)\n",
    "val_dataloader = torch.utils.data.DataLoader(val_dataset, batch_size=BATCH_SIZE, shuffle=False)\n",
    "test_dataloader = torch.utils.data.DataLoader(test_dataset, batch_size=BATCH_SIZE, shuffle=False)"
   ]
  },
  {
   "cell_type": "code",
   "execution_count": 3,
   "metadata": {},
   "outputs": [
    {
     "data": {
      "text/plain": [
       "torch.Size([32, 250, 140])"
      ]
     },
     "execution_count": 3,
     "metadata": {},
     "output_type": "execute_result"
    }
   ],
   "source": [
    "x, y = next(iter(train_dataloader))\n",
    "x.shape"
   ]
  },
  {
   "cell_type": "code",
   "execution_count": 4,
   "metadata": {},
   "outputs": [
    {
     "name": "stderr",
     "output_type": "stream",
     "text": [
      "2024-06-16 23:18:55.483406: W external/xla/xla/service/gpu/nvptx_compiler.cc:760] The NVIDIA driver's CUDA version is 12.3 which is older than the ptxas CUDA version (12.4.131). Because the driver is older than the ptxas version, XLA is disabling parallel compilation, which may slow down compilation. You should update your NVIDIA driver or use the NVIDIA-provided CUDA forward compatibility packages.\n"
     ]
    },
    {
     "data": {
      "text/plain": [
       "Classifier(\n",
       "  dense_layers=[\n",
       "    RFDense(\n",
       "      C=f32[128,140,2],\n",
       "      keep_imag=True,\n",
       "      norm=RadialNorm(\n",
       "        norm=LayerNorm(\n",
       "          shape=(128,),\n",
       "          eps=1e-05,\n",
       "          use_weight=True,\n",
       "          use_bias=True,\n",
       "          weight=f32[128],\n",
       "          bias=f32[128]\n",
       "        ),\n",
       "        keep_imag=True\n",
       "      )\n",
       "    )\n",
       "  ],\n",
       "  neuron_layers=[\n",
       "    RF(\n",
       "      Lambda=f32[128,2],\n",
       "      V=c64[128,128],\n",
       "      log_step=f32[128,1],\n",
       "      keep_imag=True,\n",
       "      discretization='zoh',\n",
       "      activation='cartesian_spike',\n",
       "      bidirectional=False,\n",
       "      step_rescale=1.0\n",
       "    )\n",
       "  ],\n",
       "  drop=Dropout(p=0.2, inference=False),\n",
       "  output_dense=RFDense(\n",
       "    C=f32[20,128,2],\n",
       "    keep_imag=False,\n",
       "    norm=RadialNorm(\n",
       "      norm=LayerNorm(\n",
       "        shape=(20,),\n",
       "        eps=1e-05,\n",
       "        use_weight=True,\n",
       "        use_bias=True,\n",
       "        weight=f32[20],\n",
       "        bias=f32[20]\n",
       "      ),\n",
       "      keep_imag=False\n",
       "    )\n",
       "  ),\n",
       "  li=LI(tau=f32[20], dim=20),\n",
       "  apply_skip=True,\n",
       "  dense_dropout=False\n",
       ")"
      ]
     },
     "execution_count": 4,
     "metadata": {},
     "output_type": "execute_result"
    }
   ],
   "source": [
    "rng_key = jax.random.PRNGKey(42)\n",
    "rng_key, model_key = jax.random.split(rng_key, num=2)\n",
    "\n",
    "model = Classifier(\n",
    "    rng_key=model_key,\n",
    "    input_dim=140,\n",
    "    output_dim=NUM_CLASSES,\n",
    "    num_neurons=[128],\n",
    "    # num_neurons=[4],\n",
    "    num_blocks=[16],\n",
    "    # num_blocks=[1],\n",
    "    dt_min=0.001,\n",
    "    dt_max=0.1,\n",
    "    activation=\"cartesian_spike\",\n",
    "    discretization=\"zoh\",\n",
    "    bidirectional=False,\n",
    "    keep_imag=True,\n",
    "    v_pos=\"before_spike\",\n",
    "    apply_skip=True,\n",
    "    dropout=0.2,\n",
    "    dense_dropout = False,\n",
    ")\n",
    "model"
   ]
  },
  {
   "cell_type": "code",
   "execution_count": 5,
   "metadata": {},
   "outputs": [
    {
     "data": {
      "text/plain": [
       "Array([-19.857405  ,  -5.3542137 ,  -1.9577932 ,  -0.427489  ,\n",
       "         0.42748874,   1.9577956 ,   5.354209  ,  19.85741   ,\n",
       "       -19.857405  ,  -5.3542137 ,  -1.9577932 ,  -0.427489  ,\n",
       "         0.42748874,   1.9577956 ,   5.354209  ,  19.85741   ,\n",
       "       -19.857405  ,  -5.3542137 ,  -1.9577932 ,  -0.427489  ,\n",
       "         0.42748874,   1.9577956 ,   5.354209  ,  19.85741   ,\n",
       "       -19.857405  ,  -5.3542137 ,  -1.9577932 ,  -0.427489  ,\n",
       "         0.42748874,   1.9577956 ,   5.354209  ,  19.85741   ,\n",
       "       -19.857405  ,  -5.3542137 ,  -1.9577932 ,  -0.427489  ,\n",
       "         0.42748874,   1.9577956 ,   5.354209  ,  19.85741   ,\n",
       "       -19.857405  ,  -5.3542137 ,  -1.9577932 ,  -0.427489  ,\n",
       "         0.42748874,   1.9577956 ,   5.354209  ,  19.85741   ,\n",
       "       -19.857405  ,  -5.3542137 ,  -1.9577932 ,  -0.427489  ,\n",
       "         0.42748874,   1.9577956 ,   5.354209  ,  19.85741   ,\n",
       "       -19.857405  ,  -5.3542137 ,  -1.9577932 ,  -0.427489  ,\n",
       "         0.42748874,   1.9577956 ,   5.354209  ,  19.85741   ,\n",
       "       -19.857405  ,  -5.3542137 ,  -1.9577932 ,  -0.427489  ,\n",
       "         0.42748874,   1.9577956 ,   5.354209  ,  19.85741   ,\n",
       "       -19.857405  ,  -5.3542137 ,  -1.9577932 ,  -0.427489  ,\n",
       "         0.42748874,   1.9577956 ,   5.354209  ,  19.85741   ,\n",
       "       -19.857405  ,  -5.3542137 ,  -1.9577932 ,  -0.427489  ,\n",
       "         0.42748874,   1.9577956 ,   5.354209  ,  19.85741   ,\n",
       "       -19.857405  ,  -5.3542137 ,  -1.9577932 ,  -0.427489  ,\n",
       "         0.42748874,   1.9577956 ,   5.354209  ,  19.85741   ,\n",
       "       -19.857405  ,  -5.3542137 ,  -1.9577932 ,  -0.427489  ,\n",
       "         0.42748874,   1.9577956 ,   5.354209  ,  19.85741   ,\n",
       "       -19.857405  ,  -5.3542137 ,  -1.9577932 ,  -0.427489  ,\n",
       "         0.42748874,   1.9577956 ,   5.354209  ,  19.85741   ,\n",
       "       -19.857405  ,  -5.3542137 ,  -1.9577932 ,  -0.427489  ,\n",
       "         0.42748874,   1.9577956 ,   5.354209  ,  19.85741   ,\n",
       "       -19.857405  ,  -5.3542137 ,  -1.9577932 ,  -0.427489  ,\n",
       "         0.42748874,   1.9577956 ,   5.354209  ,  19.85741   ],      dtype=float32)"
      ]
     },
     "execution_count": 5,
     "metadata": {},
     "output_type": "execute_result"
    }
   ],
   "source": [
    "model.neuron_layers[0].Lambda[...,1]"
   ]
  },
  {
   "cell_type": "code",
   "execution_count": 6,
   "metadata": {},
   "outputs": [
    {
     "data": {
      "text/plain": [
       "Array([0.02207322, 0.03181761, 0.01594134, 0.01285311, 0.01851891,\n",
       "       0.03588828, 0.00778592, 0.04508015, 0.6173819 , 0.00984775,\n",
       "       0.05325211, 0.03863542, 0.00599819, 0.00469681, 0.0166162 ,\n",
       "       0.00471476, 0.00552831, 0.00344825, 0.0370319 , 0.01288987],      dtype=float32)"
      ]
     },
     "execution_count": 6,
     "metadata": {},
     "output_type": "execute_result"
    }
   ],
   "source": [
    "jnp.exp(model.forward(jnp.ones([4, 140]), rng_key=rng_key))"
   ]
  },
  {
   "cell_type": "code",
   "execution_count": 7,
   "metadata": {},
   "outputs": [],
   "source": [
    "from resonator_s5.optax_helper import init_optimizer\n",
    "\n",
    "decay_steps = EPOCHS * len(train_dataloader)\n",
    "# if PERMUTE:\n",
    "# standard_lr = 0.004\n",
    "# ssm_lr = 0.001\n",
    "# else:\n",
    "standard_lr = 0.012\n",
    "ssm_lr = 0.004\n",
    "\n",
    "optim, opt_state = init_optimizer(model, standard_lr=standard_lr, ssm_lr=ssm_lr, weight_decay=0.0001, decay_steps=decay_steps)"
   ]
  },
  {
   "cell_type": "code",
   "execution_count": 8,
   "metadata": {},
   "outputs": [
    {
     "data": {
      "text/plain": [
       "Array(0.012, dtype=float32)"
      ]
     },
     "execution_count": 8,
     "metadata": {},
     "output_type": "execute_result"
    }
   ],
   "source": [
    "opt_state.inner_states['standard'].inner_state.hyperparams['learning_rate']"
   ]
  },
  {
   "cell_type": "code",
   "execution_count": 9,
   "metadata": {},
   "outputs": [],
   "source": [
    "def loss_fn(model: Classifier, train_key, x: jax.Array, y: jax.Array):\n",
    "    call = partial(model.forward, rng_key=train_key)\n",
    "    batched_model = jax.vmap(call, in_axes=(0), out_axes=(0)) # add batch dim to x only\n",
    "    logits = batched_model(x)\n",
    "    loss = optax.softmax_cross_entropy(logits=logits, labels=y)\n",
    "    loss = loss.mean()\n",
    "    return loss, (logits)\n",
    "\n",
    "\n",
    "# x , y = next(iter(test_dataloader))\n",
    "# x = jnp.asarray(x.numpy())\n",
    "# y = jnp.asarray(y.numpy())\n",
    "\n",
    "# value, grads = eqx.filter_value_and_grad(loss_fn, has_aux=True)(model, rng_key, x, y)\n",
    "\n",
    "# lrs = []\n",
    "# for _ in tqdm(range(1080)):\n",
    "#     updates, opt_state = optim.update(grads, opt_state, model)\n",
    "#     lr = opt_state.inner_states['standard'].inner_state.hyperparams['learning_rate']\n",
    "#     lrs.append(lr)\n",
    "\n",
    "# model = eqx.apply_updates(model, updates)"
   ]
  },
  {
   "cell_type": "code",
   "execution_count": 10,
   "metadata": {},
   "outputs": [
    {
     "data": {
      "text/plain": [
       "[<matplotlib.lines.Line2D at 0x7eb1c830f8b0>]"
      ]
     },
     "execution_count": 10,
     "metadata": {},
     "output_type": "execute_result"
    },
    {
     "data": {
      "image/png": "[encoded data removed]",
      "text/plain": [
       "<Figure size 640x480 with 1 Axes>"
      ]
     },
     "metadata": {},
     "output_type": "display_data"
    }
   ],
   "source": [
    "import matplotlib.pyplot as plt\n",
    "x = jnp.linspace(0, 1080*300)\n",
    "y = 0.008 * (1-1e-6)/2 * (1 + jnp.cos(jnp.pi * x/decay_steps)) + 1e-6\n",
    "plt.plot(x, y)"
   ]
  },
  {
   "cell_type": "code",
   "execution_count": 11,
   "metadata": {},
   "outputs": [
    {
     "data": {
      "text/plain": [
       "Array(0.012, dtype=float32)"
      ]
     },
     "execution_count": 11,
     "metadata": {},
     "output_type": "execute_result"
    }
   ],
   "source": [
    "opt_state.inner_states['standard'].inner_state.hyperparams['learning_rate']"
   ]
  },
  {
   "cell_type": "code",
   "execution_count": 12,
   "metadata": {},
   "outputs": [],
   "source": [
    "# @jax.jit\n",
    "def cut_mix(x: np.ndarray, y: np.ndarray) -> tuple[np.ndarray, np.ndarray]:\n",
    "    \"\"\"\n",
    "    Performs cut mix augmentation: https://arxiv.org/pdf/1905.04899 but for a sequence.\n",
    "    Code is deliberately in numpy and not jax.numpy cause it is simpler to work on mutable arrays.\n",
    "    Input:\n",
    "        x: (B, T, C)\n",
    "        y: (B, 1)\n",
    "    Output:\n",
    "        x: (B, T, C)\n",
    "        y: (B, 1)\n",
    "    \"\"\"\n",
    "    B = x.shape[0]\n",
    "    T = x.shape[1]\n",
    "\n",
    "    lmbda = np.random.uniform(low=0, high=1)\n",
    "    rand_index = np.random.permutation(np.arange(B))\n",
    "    \n",
    "    t1 = np.random.randint(low=0, high=T)\n",
    "    t2 = int(T * (1-lmbda))\n",
    "    \n",
    "    t1_cut = np.clip((t1 - t2) // 2, a_min=0, a_max=T)\n",
    "    t2_cut = np.clip((t1 + t2) // 2, a_min=0, a_max=T)\n",
    "\n",
    "    lmbda = 1 - t2/T\n",
    "\n",
    "    x[:, t1_cut:t2_cut, :] = x[rand_index, t1_cut:t2_cut, :]\n",
    "    y = lmbda * y + (1-lmbda) * y[rand_index]\n",
    "    return x, y\n",
    "\n",
    "# @jax.jit\n",
    "def one_hot(x: np.ndarray) -> np.ndarray:\n",
    "    \"\"\"\n",
    "    Input: (B)\n",
    "    Output: (B)\n",
    "    \"\"\"\n",
    "    # x = x[:, 0]\n",
    "    x = np.eye(NUM_CLASSES)[x]\n",
    "    # x = x[:, None]\n",
    "    return x \n",
    "\n",
    "\n",
    "def prep_data(x: torch.Tensor, y: torch.Tensor, training: bool) -> tuple[jax.Array, jax.Array]:\n",
    "    x = x.numpy()\n",
    "    y = y.numpy()\n",
    "    y = one_hot(y)\n",
    "    if training: \n",
    "        x, y = cut_mix(x, y)\n",
    "    x = jnp.asarray(x)\n",
    "    y = jnp.asarray(y)\n",
    "    return x, y"
   ]
  },
  {
   "cell_type": "code",
   "execution_count": 13,
   "metadata": {},
   "outputs": [],
   "source": [
    "@eqx.filter_jit\n",
    "def train_step(model: Classifier, train_key, opt_state, x: jax.Array, y: jax.Array):\n",
    "    (loss_value, (logits)), grads = eqx.filter_value_and_grad(loss_fn, has_aux=True)(model, train_key, x, y)\n",
    "    updates, opt_state = optim.update(grads, opt_state, model)\n",
    "    model = eqx.apply_updates(model, updates)\n",
    "    metrics = {\n",
    "        'loss': loss_value,\n",
    "        'accuracy': jnp.mean(jnp.argmax(logits, axis=-1) == jnp.argmax(y, axis=-1)),\n",
    "    }\n",
    "    return model, opt_state, metrics\n",
    "\n",
    "\n",
    "@eqx.filter_jit\n",
    "def test_step(model: Classifier, rng_key, x, y):\n",
    "    loss_value, (logits) = loss_fn(model, rng_key, x, y)\n",
    "    metrics = {\n",
    "        'loss': loss_value,\n",
    "        # 'accuracy': jnp.mean(jnp.argmax(logits, -1) == y),\n",
    "        'accuracy': jnp.mean(jnp.argmax(logits, axis=-1) == jnp.argmax(y, axis=-1)),\n",
    "    }\n",
    "    return metrics\n",
    "\n",
    "\n",
    "@eqx.filter_jit\n",
    "def get_average_spikes(model: Classifier, x: jax.Array, layer: int) -> tuple[jax.Array, jax.Array]:\n",
    "    spikes_fn = partial(model.gen_spikes, layer=layer)\n",
    "    spikes = jax.vmap(spikes_fn)(x)\n",
    "    return (jnp.sum(spikes) / BATCH_SIZE).astype(jnp.int32), jnp.mean(spikes)\n",
    "\n",
    "\n",
    "\n",
    "def train_epoch(model: Classifier, rng_key, opt_state, track_layer: int):\n",
    "    train_metrics = {\n",
    "        'loss': [],\n",
    "        'accuracy': [],\n",
    "    }\n",
    "    val_metrics = {\n",
    "        'loss': [],\n",
    "        'accuracy': [],\n",
    "        'num_spikes': [],\n",
    "        'avg_spikes': [],\n",
    "    }\n",
    "    test_metrics = {\n",
    "        'loss': [],\n",
    "        'accuracy': [],\n",
    "        'num_spikes': [],\n",
    "        'avg_spikes': [],\n",
    "    }\n",
    "    print(\"training\")\n",
    "    for x, y in tqdm(train_dataloader):\n",
    "        x, y = prep_data(x, y, training=True)\n",
    "        rng_key, train_key = jax.random.split(rng_key, num=2)\n",
    "        model, opt_state, metric = train_step(model, train_key, opt_state, x, y)\n",
    "        train_metrics['loss'].append(metric['loss'])\n",
    "        train_metrics['accuracy'].append(metric['accuracy'])\n",
    "\n",
    "        # wandb.log({\n",
    "        #      \"loss\": metric[\"loss\"],\n",
    "        #      \"acc\": metric[\"accuracy\"],\n",
    "        # })\n",
    "    \n",
    "    print(\"validating\")\n",
    "    inference_model = eqx.nn.inference_mode(model)\n",
    "    for x, y in tqdm(val_dataloader): \n",
    "        x, y = prep_data(x, y, training=False)\n",
    "        metric = test_step(inference_model, rng_key, x, y)\n",
    "        val_metrics['loss'].append(metric['loss'])\n",
    "        val_metrics['accuracy'].append(metric['accuracy'])\n",
    "\n",
    "    num_spikes, avg_spikes = get_average_spikes(model, x, layer=track_layer)\n",
    "    val_metrics['num_spikes'] = num_spikes\n",
    "    val_metrics['avg_spikes'] = avg_spikes\n",
    "\n",
    "    print(\"testing\")\n",
    "    for x, y in tqdm(test_dataloader): \n",
    "        x, y = prep_data(x, y, training=False)\n",
    "        metric = test_step(inference_model, rng_key, x, y)\n",
    "        test_metrics['loss'].append(metric['loss'])\n",
    "        test_metrics['accuracy'].append(metric['accuracy'])\n",
    "    \n",
    "    num_spikes, avg_spikes = get_average_spikes(model, x, layer=track_layer)\n",
    "    test_metrics['num_spikes'] = num_spikes\n",
    "    test_metrics['avg_spikes'] = avg_spikes\n",
    "\n",
    "    train_metrics['loss'] = jnp.array(train_metrics['loss']).mean()\n",
    "    train_metrics['accuracy'] = jnp.array(train_metrics['accuracy']).mean()\n",
    "    val_metrics['loss'] = jnp.array(val_metrics['loss']).mean()\n",
    "    val_metrics['accuracy'] = jnp.array(val_metrics['accuracy']).mean()\n",
    "    test_metrics['loss'] = jnp.array(test_metrics['loss']).mean()\n",
    "    test_metrics['accuracy'] = jnp.array(test_metrics['accuracy']).mean()\n",
    "\n",
    "    print(f\"Train Loss: {train_metrics['loss']}\")\n",
    "    print(f\"Train Acc: {train_metrics['accuracy']}\")\n",
    "    print(f\"Val Loss: {val_metrics['loss']}\")\n",
    "    print(f\"Val Acc: {val_metrics['accuracy']}\")\n",
    "    print(f\"Test Loss: {test_metrics['loss']}\")\n",
    "    print(f\"Test Acc: {test_metrics['accuracy']}\\n\")\n",
    "\n",
    "    return model, opt_state, train_metrics, val_metrics, test_metrics"
   ]
  },
  {
   "cell_type": "code",
   "execution_count": 14,
   "metadata": {},
   "outputs": [],
   "source": [
    "class BestAccTracker:\n",
    "    def __init__(self) -> None:\n",
    "        self.counter = 0\n",
    "        self.best_acc = 0\n",
    "    \n",
    "    def update(self, x: jax.Array | float) -> None:\n",
    "        if x > self.best_acc:\n",
    "            self.best_acc = x\n",
    "            self.reset_counter()\n",
    "        else:\n",
    "            self.counter += 1\n",
    "    \n",
    "    def reset_counter(self) -> None:\n",
    "        self.counter = 0\n",
    "\n",
    "\n",
    "\n",
    "some_nan = lambda x: np.sum(np.isnan(x)) > 0"
   ]
  },
  {
   "cell_type": "code",
   "execution_count": 15,
   "metadata": {},
   "outputs": [
    {
     "name": "stdout",
     "output_type": "stream",
     "text": [
      "Epoch: 16/20\n",
      "training\n"
     ]
    },
    {
     "name": "stderr",
     "output_type": "stream",
     "text": [
      "100%|██████████| 230/230 [00:21<00:00, 10.89it/s]\n"
     ]
    },
    {
     "name": "stdout",
     "output_type": "stream",
     "text": [
      "validating\n"
     ]
    },
    {
     "name": "stderr",
     "output_type": "stream",
     "text": [
      "100%|██████████| 26/26 [00:02<00:00, 12.99it/s]\n"
     ]
    },
    {
     "name": "stdout",
     "output_type": "stream",
     "text": [
      "testing\n"
     ]
    },
    {
     "name": "stderr",
     "output_type": "stream",
     "text": [
      "100%|██████████| 71/71 [00:05<00:00, 12.70it/s]\n"
     ]
    },
    {
     "name": "stdout",
     "output_type": "stream",
     "text": [
      "Train Loss: 1.5268211364746094\n",
      "Train Acc: 0.6741220355033875\n",
      "Val Loss: 0.405047208070755\n",
      "Val Acc: 0.934935986995697\n",
      "Test Loss: 0.5043389797210693\n",
      "Test Acc: 0.873826265335083\n",
      "\n",
      "Epoch: 17/20\n",
      "training\n"
     ]
    },
    {
     "name": "stderr",
     "output_type": "stream",
     "text": [
      "100%|██████████| 230/230 [00:21<00:00, 10.94it/s]\n"
     ]
    },
    {
     "name": "stdout",
     "output_type": "stream",
     "text": [
      "validating\n"
     ]
    },
    {
     "name": "stderr",
     "output_type": "stream",
     "text": [
      "100%|██████████| 26/26 [00:02<00:00, 12.47it/s]\n"
     ]
    },
    {
     "name": "stdout",
     "output_type": "stream",
     "text": [
      "testing\n"
     ]
    },
    {
     "name": "stderr",
     "output_type": "stream",
     "text": [
      "100%|██████████| 71/71 [00:05<00:00, 12.49it/s]\n"
     ]
    },
    {
     "name": "stdout",
     "output_type": "stream",
     "text": [
      "Train Loss: 1.5055928230285645\n",
      "Train Acc: 0.6967390775680542\n",
      "Val Loss: 0.36952415108680725\n",
      "Val Acc: 0.9421474933624268\n",
      "Test Loss: 0.45366528630256653\n",
      "Test Acc: 0.9002347588539124\n",
      "\n",
      "Epoch: 18/20\n",
      "training\n"
     ]
    },
    {
     "name": "stderr",
     "output_type": "stream",
     "text": [
      "100%|██████████| 230/230 [00:20<00:00, 11.15it/s]\n"
     ]
    },
    {
     "name": "stdout",
     "output_type": "stream",
     "text": [
      "validating\n"
     ]
    },
    {
     "name": "stderr",
     "output_type": "stream",
     "text": [
      "100%|██████████| 26/26 [00:01<00:00, 13.22it/s]\n"
     ]
    },
    {
     "name": "stdout",
     "output_type": "stream",
     "text": [
      "testing\n"
     ]
    },
    {
     "name": "stderr",
     "output_type": "stream",
     "text": [
      "100%|██████████| 71/71 [00:05<00:00, 12.64it/s]\n"
     ]
    },
    {
     "name": "stdout",
     "output_type": "stream",
     "text": [
      "Train Loss: 1.4434901475906372\n",
      "Train Acc: 0.7217391133308411\n",
      "Val Loss: 0.36426717042922974\n",
      "Val Acc: 0.9421474933624268\n",
      "Test Loss: 0.4603614807128906\n",
      "Test Acc: 0.8896713852882385\n",
      "\n",
      "Epoch: 19/20\n",
      "training\n"
     ]
    },
    {
     "name": "stderr",
     "output_type": "stream",
     "text": [
      "100%|██████████| 230/230 [00:20<00:00, 11.04it/s]\n"
     ]
    },
    {
     "name": "stdout",
     "output_type": "stream",
     "text": [
      "validating\n"
     ]
    },
    {
     "name": "stderr",
     "output_type": "stream",
     "text": [
      "100%|██████████| 26/26 [00:01<00:00, 13.11it/s]\n"
     ]
    },
    {
     "name": "stdout",
     "output_type": "stream",
     "text": [
      "testing\n"
     ]
    },
    {
     "name": "stderr",
     "output_type": "stream",
     "text": [
      "100%|██████████| 71/71 [00:05<00:00, 12.73it/s]\n"
     ]
    },
    {
     "name": "stdout",
     "output_type": "stream",
     "text": [
      "Train Loss: 1.5637776851654053\n",
      "Train Acc: 0.6625731587409973\n",
      "Val Loss: 0.3618309497833252\n",
      "Val Acc: 0.9433494210243225\n",
      "Test Loss: 0.45721161365509033\n",
      "Test Acc: 0.89011150598526\n",
      "\n",
      "Epoch: 20/20\n",
      "training\n"
     ]
    },
    {
     "name": "stderr",
     "output_type": "stream",
     "text": [
      "100%|██████████| 230/230 [00:20<00:00, 11.05it/s]\n"
     ]
    },
    {
     "name": "stdout",
     "output_type": "stream",
     "text": [
      "validating\n"
     ]
    },
    {
     "name": "stderr",
     "output_type": "stream",
     "text": [
      "100%|██████████| 26/26 [00:02<00:00, 12.41it/s]\n"
     ]
    },
    {
     "name": "stdout",
     "output_type": "stream",
     "text": [
      "testing\n"
     ]
    },
    {
     "name": "stderr",
     "output_type": "stream",
     "text": [
      "100%|██████████| 71/71 [00:05<00:00, 12.83it/s]\n"
     ]
    },
    {
     "name": "stdout",
     "output_type": "stream",
     "text": [
      "Train Loss: 1.4875482320785522\n",
      "Train Acc: 0.6962687969207764\n",
      "Val Loss: 0.36116454005241394\n",
      "Val Acc: 0.9445513486862183\n",
      "Test Loss: 0.45818549394607544\n",
      "Test Acc: 0.8918720483779907\n",
      "\n"
     ]
    },
    {
     "data": {
      "text/html": [
       "<style>\n",
       "    table.wandb td:nth-child(1) { padding: 0 10px; text-align: left ; width: auto;} td:nth-child(2) {text-align: left ; width: 100%}\n",
       "    .wandb-row { display: flex; flex-direction: row; flex-wrap: wrap; justify-content: flex-start; width: 100% }\n",
       "    .wandb-col { display: flex; flex-direction: column; flex-basis: 100%; flex: 1; padding: 10px; }\n",
       "    </style>\n",
       "<div class=\"wandb-row\"><div class=\"wandb-col\"><h3>Run history:</h3><br/><table class=\"wandb\"><tr><td>Counter</td><td>▁▁▁▁▅▁▁▁▁▁▅█▁▁▅▁▁▅▁▁</td></tr><tr><td>Learning Rate SSM</td><td>███▇▇▇▆▆▅▅▄▃▃▂▂▂▁▁▁▁</td></tr><tr><td>Learning Rate Standard</td><td>███▇▇▇▆▆▅▅▄▃▃▂▂▂▁▁▁▁</td></tr><tr><td>Max C imag</td><td>▁▂▃▄▄▄▅▆▆▇▇▇▇███████</td></tr><tr><td>Max C real</td><td>▁▃▄▅▆▆▇▇▇▇▇▇████████</td></tr><tr><td>Max Delta</td><td>▁▁▂▃▄▄▅▆▆▇▇▇████████</td></tr><tr><td>Max Lambda imag</td><td>▁▃▃▄▆▆▆▇█▇▆▇▆▆▆▆▆▆▆▆</td></tr><tr><td>Max Lambda real</td><td>▁▄▅▆▆▇▇▇▇▇▇█████████</td></tr><tr><td>Max Tau</td><td>▄██▆▃▂▂▄▁▂▃▃▃▄▄▄▄▅▅▅</td></tr><tr><td>Min C imag</td><td>█▆▅▃▃▃▂▂▂▁▂▁▁▁▁▁▁▁▁▁</td></tr><tr><td>Min C real</td><td>█▇▆▅▄▄▃▄▃▃▂▂▂▂▁▁▁▁▁▁</td></tr><tr><td>Min Delta</td><td>▅▇█▆▄▂▃▁▃▂▂▃▄▄▄▄▄▄▄▄</td></tr><tr><td>Min Lambda imag</td><td>█▆▆▆▄▃▃▃▂▁▁▁▂▂▂▂▂▂▂▂</td></tr><tr><td>Min Lambda real</td><td>█▆▅▃▃▃▃▃▂▂▁▂▁▁▁▁▁▁▁▁</td></tr><tr><td>Min Tau</td><td>▁▄▆▆▆▅▇▅▆▆██▇█▇▇█▇██</td></tr><tr><td>Test Accuracy</td><td>▁▄▅▇▅▇▆▇▇▇▇▇▇█▇▇████</td></tr><tr><td>Test Avg Spikes</td><td>▁▁▃▃▅▅▄▅▄▆▇▆▆███████</td></tr><tr><td>Test Loss</td><td>█▆▄▃▄▃▃▂▂▂▂▂▂▁▁▁▁▁▁▁</td></tr><tr><td>Test Num Spikes</td><td>▁▁▃▃▅▅▄▅▄▆▇▆▆███████</td></tr><tr><td>Train Accuracy</td><td>▁▄▄▅▆▆▆▆▇▇▇▇▇▇▇▇██▇█</td></tr><tr><td>Train Loss</td><td>█▅▄▄▃▃▃▃▂▂▂▂▂▁▂▁▁▁▂▁</td></tr><tr><td>Val Accuracy</td><td>▁▂▅▆▅▆▆▇▇▇▇▇████████</td></tr><tr><td>Val Avg Spikes</td><td>▂▁▃▃▄▅▄▅▄▆▇▆▇▇██████</td></tr><tr><td>Val Loss</td><td>█▆▄▄▄▃▃▃▂▂▂▂▂▁▁▁▁▁▁▁</td></tr><tr><td>Val Num Spikes</td><td>▂▁▃▃▄▅▄▅▄▆▇▆▇▇██████</td></tr></table><br/></div><div class=\"wandb-col\"><h3>Run summary:</h3><br/><table class=\"wandb\"><tr><td>Counter</td><td>0</td></tr><tr><td>Learning Rate SSM</td><td>0.0</td></tr><tr><td>Learning Rate Standard</td><td>0.0</td></tr><tr><td>Max C imag</td><td>3.77027</td></tr><tr><td>Max C real</td><td>2.85528</td></tr><tr><td>Max Delta</td><td>0.26541</td></tr><tr><td>Max Lambda imag</td><td>20.21633</td></tr><tr><td>Max Lambda real</td><td>-0.20126</td></tr><tr><td>Max Tau</td><td>0.8364</td></tr><tr><td>Min C imag</td><td>-2.35437</td></tr><tr><td>Min C real</td><td>-2.64807</td></tr><tr><td>Min Delta</td><td>0.00106</td></tr><tr><td>Min Lambda imag</td><td>-20.15857</td></tr><tr><td>Min Lambda real</td><td>-0.91154</td></tr><tr><td>Min Tau</td><td>0.73717</td></tr><tr><td>Test Accuracy</td><td>0.89187</td></tr><tr><td>Test Avg Spikes</td><td>0.08644</td></tr><tr><td>Test Loss</td><td>0.45819</td></tr><tr><td>Test Num Spikes</td><td>2074</td></tr><tr><td>Train Accuracy</td><td>0.69627</td></tr><tr><td>Train Loss</td><td>1.48755</td></tr><tr><td>Val Accuracy</td><td>0.94455</td></tr><tr><td>Val Avg Spikes</td><td>0.0875</td></tr><tr><td>Val Loss</td><td>0.36116</td></tr><tr><td>Val Num Spikes</td><td>1312</td></tr></table><br/></div></div>"
      ],
      "text/plain": [
       "<IPython.core.display.HTML object>"
      ]
     },
     "metadata": {},
     "output_type": "display_data"
    },
    {
     "data": {
      "text/html": [
       " View run <strong style=\"color:#cdcd00\">bumbling-rain-62</strong> at: <a href='https://wandb.ai/thomashuber/S5_SHD/runs/dw0o813x' target=\"_blank\">https://wandb.ai/thomashuber/S5_SHD/runs/dw0o813x</a><br/> View project at: <a href='https://wandb.ai/thomashuber/S5_SHD' target=\"_blank\">https://wandb.ai/thomashuber/S5_SHD</a><br/>Synced 5 W&B file(s), 0 media file(s), 0 artifact file(s) and 0 other file(s)"
      ],
      "text/plain": [
       "<IPython.core.display.HTML object>"
      ]
     },
     "metadata": {},
     "output_type": "display_data"
    },
    {
     "data": {
      "text/html": [
       "Find logs at: <code>./wandb/run-20240616_231902-dw0o813x/logs</code>"
      ],
      "text/plain": [
       "<IPython.core.display.HTML object>"
      ]
     },
     "metadata": {},
     "output_type": "display_data"
    }
   ],
   "source": [
    "from IPython.display import clear_output\n",
    "\n",
    "wandb.init(project=\"S5_SHD\")\n",
    "\n",
    "rng_key = jax.random.PRNGKey(42)\n",
    "tracker = BestAccTracker()\n",
    "track_layer = 0\n",
    "for epoch in range(EPOCHS):\n",
    "    if (epoch % 5) == 0: \n",
    "        clear_output(wait=True)\n",
    "    print(f\"Epoch: {epoch+1}/{EPOCHS}\")\n",
    "    model, opt_state, train_metrics, val_metrics, test_metrics = train_epoch(model, rng_key, opt_state, track_layer=track_layer)\n",
    "    tracker.update(val_metrics[\"accuracy\"])\n",
    "\n",
    "    wandb.log({\n",
    "        \"Train Loss\": train_metrics['loss'], \n",
    "        \"Train Accuracy\": train_metrics['accuracy'], \n",
    "        \"Val Loss\": val_metrics['loss'], \n",
    "        \"Val Accuracy\": val_metrics['accuracy'],\n",
    "        \"Test Loss\": test_metrics['loss'], \n",
    "        \"Test Accuracy\": test_metrics['accuracy'],\n",
    "        \"Max Lambda real\": -jnp.exp(model.neuron_layers[track_layer].Lambda[...,0].min()),\n",
    "        \"Min Lambda real\": -jnp.exp(model.neuron_layers[track_layer].Lambda[...,0].max()),\n",
    "        \"Max Lambda imag\": model.neuron_layers[track_layer].Lambda[...,1].max(),\n",
    "        \"Min Lambda imag\": model.neuron_layers[track_layer].Lambda[...,1].min(),\n",
    "        \"Max C real\": model.dense_layers[track_layer].C[...,0].max(),\n",
    "        \"Min C real\": model.dense_layers[track_layer].C[...,0].min(),\n",
    "        \"Max C imag\": model.dense_layers[track_layer].C[...,1].max(),\n",
    "        \"Min C imag\": model.dense_layers[track_layer].C[...,1].min(),\n",
    "        \"Max Delta\": jnp.exp(model.neuron_layers[track_layer].log_step.max()),\n",
    "        \"Min Delta\": jnp.exp(model.neuron_layers[track_layer].log_step.min()),\n",
    "        \"Val Num Spikes\": val_metrics['num_spikes'], \n",
    "        \"Val Avg Spikes\": val_metrics['avg_spikes'],\n",
    "        \"Test Num Spikes\": test_metrics['num_spikes'], \n",
    "        \"Test Avg Spikes\": test_metrics['avg_spikes'],\n",
    "        \"Learning Rate Standard\": opt_state.inner_states['standard'].inner_state.hyperparams['learning_rate'],\n",
    "        \"Learning Rate SSM\": opt_state.inner_states['ssm'].inner_state.hyperparams['learning_rate'],\n",
    "        \"Counter\": tracker.counter,\n",
    "        \"Max Tau\": jnp.exp(model.li.tau.max()),\n",
    "        \"Min Tau\": jnp.exp(model.li.tau.min()),\n",
    "        }\n",
    "    )\n",
    "\n",
    "    if tracker.counter >= 20:\n",
    "        lr_standard = opt_state.inner_states['standard'].inner_state.hyperparams['learning_rate']\n",
    "        lr_ssm = opt_state.inner_states['ssm'].inner_state.hyperparams['learning_rate']\n",
    "        lr_standard = max(0.2 * lr_standard, 1e-6) \n",
    "        lr_ssm = max(0.2 * lr_ssm, 1e-6)\n",
    "        opt_state.inner_states['standard'].inner_state.hyperparams['learning_rate'] = lr_standard\n",
    "        opt_state.inner_states['ssm'].inner_state.hyperparams['learning_rate'] = lr_ssm\n",
    "        tracker.reset_counter()\n",
    "\n",
    "    if some_nan(model.neuron_layers[track_layer].Lambda):\n",
    "        print(\"Lambda nan\")\n",
    "        break\n",
    "    if some_nan(model.dense_layers[track_layer].C):\n",
    "        print(\"C nan\")\n",
    "        break\n",
    "    if some_nan(model.neuron_layers[track_layer].log_step):\n",
    "        print(\"Delta nan\")\n",
    "        break\n",
    "\n",
    "wandb.finish()"
   ]
  },
  {
   "cell_type": "code",
   "execution_count": 16,
   "metadata": {},
   "outputs": [
    {
     "data": {
      "text/plain": [
       "InjectStatefulHyperparamsState(count=Array(4600, dtype=int32), hyperparams={'b1': Array(0.9, dtype=float32), 'b2': Array(0.999, dtype=float32), 'eps': Array(1.e-08, dtype=float32), 'eps_root': Array(0., dtype=float32), 'learning_rate': Array(1.343051e-08, dtype=float32), 'weight_decay': Array(1.e-04, dtype=float32)}, hyperparams_states={'learning_rate': WrappedScheduleState(count=Array(4600, dtype=int32))}, inner_state=(ScaleByAdamState(count=Array(4600, dtype=int32), mu=Classifier(\n",
       "  dense_layers=[\n",
       "    RFDense(\n",
       "      C=f32[128,140,2],\n",
       "      keep_imag=None,\n",
       "      norm=RadialNorm(\n",
       "        norm=LayerNorm(\n",
       "          shape=(128,),\n",
       "          eps=1e-05,\n",
       "          use_weight=True,\n",
       "          use_bias=True,\n",
       "          weight=f32[128],\n",
       "          bias=f32[128]\n",
       "        ),\n",
       "        keep_imag=None\n",
       "      )\n",
       "    )\n",
       "  ],\n",
       "  neuron_layers=[\n",
       "    RF(\n",
       "      Lambda=MaskedNode(),\n",
       "      V=c64[128,128],\n",
       "      log_step=MaskedNode(),\n",
       "      keep_imag=None,\n",
       "      discretization=None,\n",
       "      activation=None,\n",
       "      bidirectional=None,\n",
       "      step_rescale=None\n",
       "    )\n",
       "  ],\n",
       "  drop=Dropout(p=None, inference=None),\n",
       "  output_dense=RFDense(\n",
       "    C=f32[20,128,2],\n",
       "    keep_imag=None,\n",
       "    norm=RadialNorm(\n",
       "      norm=LayerNorm(\n",
       "        shape=(20,),\n",
       "        eps=1e-05,\n",
       "        use_weight=True,\n",
       "        use_bias=True,\n",
       "        weight=f32[20],\n",
       "        bias=f32[20]\n",
       "      ),\n",
       "      keep_imag=None\n",
       "    )\n",
       "  ),\n",
       "  li=LI(tau=f32[20], dim=None),\n",
       "  apply_skip=None,\n",
       "  dense_dropout=None\n",
       "), nu=Classifier(\n",
       "  dense_layers=[\n",
       "    RFDense(\n",
       "      C=f32[128,140,2],\n",
       "      keep_imag=None,\n",
       "      norm=RadialNorm(\n",
       "        norm=LayerNorm(\n",
       "          shape=(128,),\n",
       "          eps=1e-05,\n",
       "          use_weight=True,\n",
       "          use_bias=True,\n",
       "          weight=f32[128],\n",
       "          bias=f32[128]\n",
       "        ),\n",
       "        keep_imag=None\n",
       "      )\n",
       "    )\n",
       "  ],\n",
       "  neuron_layers=[\n",
       "    RF(\n",
       "      Lambda=MaskedNode(),\n",
       "      V=c64[128,128],\n",
       "      log_step=MaskedNode(),\n",
       "      keep_imag=None,\n",
       "      discretization=None,\n",
       "      activation=None,\n",
       "      bidirectional=None,\n",
       "      step_rescale=None\n",
       "    )\n",
       "  ],\n",
       "  drop=Dropout(p=None, inference=None),\n",
       "  output_dense=RFDense(\n",
       "    C=f32[20,128,2],\n",
       "    keep_imag=None,\n",
       "    norm=RadialNorm(\n",
       "      norm=LayerNorm(\n",
       "        shape=(20,),\n",
       "        eps=1e-05,\n",
       "        use_weight=True,\n",
       "        use_bias=True,\n",
       "        weight=f32[20],\n",
       "        bias=f32[20]\n",
       "      ),\n",
       "      keep_imag=None\n",
       "    )\n",
       "  ),\n",
       "  li=LI(tau=f32[20], dim=None),\n",
       "  apply_skip=None,\n",
       "  dense_dropout=None\n",
       ")), EmptyState(), EmptyState()))"
      ]
     },
     "execution_count": 16,
     "metadata": {},
     "output_type": "execute_result"
    }
   ],
   "source": [
    "opt_state.inner_states['standard'].inner_state#.hyperparams['learning_rate']"
   ]
  },
  {
   "cell_type": "code",
   "execution_count": 17,
   "metadata": {},
   "outputs": [],
   "source": [
    "wandb.finish()"
   ]
  },
  {
   "cell_type": "code",
   "execution_count": 18,
   "metadata": {},
   "outputs": [
    {
     "data": {
      "text/plain": [
       "Array([[[ 1.6945453 , -0.09105453],\n",
       "        [ 0.9472304 , -0.7211818 ],\n",
       "        [ 0.60550076,  0.20982085],\n",
       "        ...,\n",
       "        [-0.14313047, -0.5309315 ],\n",
       "        [-0.96435076, -1.2079037 ],\n",
       "        [-0.48484454, -0.8738583 ]],\n",
       "\n",
       "       [[ 0.15371886,  0.47946122],\n",
       "        [-0.226671  ,  0.29307988],\n",
       "        [-0.01795749,  0.6776771 ],\n",
       "        ...,\n",
       "        [-0.44939607,  0.04389553],\n",
       "        [-0.22446273, -0.55251193],\n",
       "        [ 0.19170943, -0.59145325]],\n",
       "\n",
       "       [[ 0.01760202, -0.6743335 ],\n",
       "        [ 0.14417213, -0.33295318],\n",
       "        [-0.557708  ,  0.32900468],\n",
       "        ...,\n",
       "        [ 0.6475489 ,  0.74674433],\n",
       "        [ 0.7771657 ,  0.21456248],\n",
       "        [ 0.97595125, -0.37696716]],\n",
       "\n",
       "       ...,\n",
       "\n",
       "       [[ 0.44710022, -1.4274929 ],\n",
       "        [-0.03711724, -0.12770925],\n",
       "        [-0.22633979, -0.12638308],\n",
       "        ...,\n",
       "        [ 0.6466803 ,  0.1394302 ],\n",
       "        [ 0.76558745,  0.08087797],\n",
       "        [ 0.65164644,  0.38011366]],\n",
       "\n",
       "       [[-0.54201615,  0.6657986 ],\n",
       "        [-0.2630955 ,  0.5549991 ],\n",
       "        [-1.2283533 ,  0.27618676],\n",
       "        ...,\n",
       "        [-0.26504797, -0.07253356],\n",
       "        [ 0.6443146 , -0.11492515],\n",
       "        [ 0.9186718 ,  0.33474806]],\n",
       "\n",
       "       [[ 0.38872936,  1.4678867 ],\n",
       "        [ 0.4123996 ,  0.04476628],\n",
       "        [ 0.72091913,  0.8753155 ],\n",
       "        ...,\n",
       "        [-0.27084768,  0.9589244 ],\n",
       "        [-0.8478949 ,  0.86566913],\n",
       "        [-0.08032633,  0.45187438]]], dtype=float32)"
      ]
     },
     "execution_count": 18,
     "metadata": {},
     "output_type": "execute_result"
    }
   ],
   "source": [
    "model.dense_layers[0].C"
   ]
  },
  {
   "cell_type": "code",
   "execution_count": 19,
   "metadata": {},
   "outputs": [
    {
     "data": {
      "text/plain": [
       "Array([[-3.0628486],\n",
       "       [-4.94615  ],\n",
       "       [-6.3977046],\n",
       "       [-4.408176 ],\n",
       "       [-1.3264714],\n",
       "       [-2.689687 ],\n",
       "       [-4.6144447],\n",
       "       [-5.351161 ],\n",
       "       [-4.0214357],\n",
       "       [-3.8148272],\n",
       "       [-3.6163616],\n",
       "       [-6.355222 ],\n",
       "       [-6.688379 ],\n",
       "       [-2.2003102],\n",
       "       [-4.943305 ],\n",
       "       [-5.910438 ],\n",
       "       [-4.7858396],\n",
       "       [-3.6547344],\n",
       "       [-2.3981118],\n",
       "       [-6.782806 ],\n",
       "       [-5.4899073],\n",
       "       [-1.6012477],\n",
       "       [-6.164247 ],\n",
       "       [-6.507986 ],\n",
       "       [-3.7550929],\n",
       "       [-5.0030875],\n",
       "       [-5.787726 ],\n",
       "       [-5.6876864],\n",
       "       [-5.1835117],\n",
       "       [-3.569763 ],\n",
       "       [-4.4375043],\n",
       "       [-5.1648498],\n",
       "       [-4.6933746],\n",
       "       [-6.397506 ],\n",
       "       [-3.237535 ],\n",
       "       [-1.6212237],\n",
       "       [-5.867413 ],\n",
       "       [-2.097501 ],\n",
       "       [-3.9255226],\n",
       "       [-3.8473647],\n",
       "       [-6.854124 ],\n",
       "       [-2.8672235],\n",
       "       [-4.8099895],\n",
       "       [-6.1673417],\n",
       "       [-1.9558371],\n",
       "       [-2.0972188],\n",
       "       [-6.0526094],\n",
       "       [-3.5704985],\n",
       "       [-2.579871 ],\n",
       "       [-3.1830397],\n",
       "       [-3.5172098],\n",
       "       [-4.7231255],\n",
       "       [-2.3652835],\n",
       "       [-3.9904406],\n",
       "       [-6.294811 ],\n",
       "       [-5.6461396],\n",
       "       [-4.273185 ],\n",
       "       [-2.8020945],\n",
       "       [-4.7791557],\n",
       "       [-3.1543024],\n",
       "       [-5.106493 ],\n",
       "       [-2.734853 ],\n",
       "       [-5.039974 ],\n",
       "       [-3.7463698],\n",
       "       [-4.500224 ],\n",
       "       [-2.2351615],\n",
       "       [-5.299709 ],\n",
       "       [-6.05875  ],\n",
       "       [-2.0848777],\n",
       "       [-2.049824 ],\n",
       "       [-6.0146923],\n",
       "       [-3.820836 ],\n",
       "       [-5.3475237],\n",
       "       [-2.7266529],\n",
       "       [-5.1278567],\n",
       "       [-6.3140435],\n",
       "       [-4.9336696],\n",
       "       [-2.3341973],\n",
       "       [-4.4281116],\n",
       "       [-6.3874307],\n",
       "       [-5.007893 ],\n",
       "       [-4.24313  ],\n",
       "       [-4.936251 ],\n",
       "       [-2.854757 ],\n",
       "       [-6.5710487],\n",
       "       [-5.9690323],\n",
       "       [-1.8648511],\n",
       "       [-4.81869  ],\n",
       "       [-3.75538  ],\n",
       "       [-4.0028787],\n",
       "       [-6.5918803],\n",
       "       [-1.6306971],\n",
       "       [-2.51659  ],\n",
       "       [-6.7167807],\n",
       "       [-6.4144697],\n",
       "       [-2.310166 ],\n",
       "       [-6.632247 ],\n",
       "       [-2.4370277],\n",
       "       [-6.511515 ],\n",
       "       [-5.2831063],\n",
       "       [-2.3772435],\n",
       "       [-2.9217315],\n",
       "       [-2.8072915],\n",
       "       [-3.3115416],\n",
       "       [-3.0829062],\n",
       "       [-6.0429597],\n",
       "       [-5.1632886],\n",
       "       [-4.2355742],\n",
       "       [-4.9716754],\n",
       "       [-4.2211685],\n",
       "       [-2.901864 ],\n",
       "       [-3.6575406],\n",
       "       [-2.9581194],\n",
       "       [-4.5630198],\n",
       "       [-4.880508 ],\n",
       "       [-4.404969 ],\n",
       "       [-5.4617047],\n",
       "       [-6.4783983],\n",
       "       [-1.9912133],\n",
       "       [-6.7378807],\n",
       "       [-3.6429427],\n",
       "       [-2.4989812],\n",
       "       [-5.7148294],\n",
       "       [-5.7430973],\n",
       "       [-2.081821 ],\n",
       "       [-6.717215 ],\n",
       "       [-4.342198 ],\n",
       "       [-5.8362556]], dtype=float32)"
      ]
     },
     "execution_count": 19,
     "metadata": {},
     "output_type": "execute_result"
    }
   ],
   "source": [
    "model.neuron_layers[0].log_step"
   ]
  },
  {
   "cell_type": "code",
   "execution_count": 20,
   "metadata": {},
   "outputs": [
    {
     "data": {
      "text/plain": [
       "Array([[ -0.47959086, -20.158566  ],\n",
       "       [ -0.5775701 ,  -5.1191583 ],\n",
       "       [ -0.59938186,  -1.7237703 ],\n",
       "       [ -0.29595813,  -0.39190152],\n",
       "       [ -0.7254591 ,   0.575239  ],\n",
       "       [ -0.4579649 ,   1.9516871 ],\n",
       "       [ -0.3966342 ,   5.216302  ],\n",
       "       [ -0.763338  ,  19.759146  ],\n",
       "       [ -0.4422997 , -19.753523  ],\n",
       "       [ -0.3113312 ,  -5.107909  ],\n",
       "       [ -1.0330007 ,  -1.8259252 ],\n",
       "       [ -1.1595767 ,  -0.56729466],\n",
       "       [ -0.8670107 ,  -0.03221381],\n",
       "       [ -0.73065406,   1.8678153 ],\n",
       "       [ -0.89001   ,   5.194512  ],\n",
       "       [ -1.4404446 ,  19.668474  ],\n",
       "       [ -0.4098064 , -19.71231   ],\n",
       "       [ -0.9560309 ,  -5.2777996 ],\n",
       "       [ -0.9593077 ,  -1.9572742 ],\n",
       "       [ -0.6929958 ,  -0.4050193 ],\n",
       "       [ -0.6038202 ,   0.38131467],\n",
       "       [ -0.8944244 ,   2.2850547 ],\n",
       "       [ -0.6255032 ,   5.461524  ],\n",
       "       [ -1.2075918 ,  19.792465  ],\n",
       "       [ -0.72447664, -19.490925  ],\n",
       "       [ -1.6031607 ,  -5.3483377 ],\n",
       "       [ -0.92393064,  -2.1150787 ],\n",
       "       [ -0.44014922,  -0.5059261 ],\n",
       "       [ -0.43473667,   0.3805128 ],\n",
       "       [ -0.5675163 ,   1.7155597 ],\n",
       "       [ -0.5648606 ,   5.2774787 ],\n",
       "       [ -0.25878057,  19.444206  ],\n",
       "       [ -0.23279953, -19.70079   ],\n",
       "       [ -0.45829913,  -5.297295  ],\n",
       "       [ -1.0124724 ,  -1.8262635 ],\n",
       "       [ -0.9126005 ,  -0.41312966],\n",
       "       [ -0.96973693,   0.5875485 ],\n",
       "       [ -0.985756  ,   1.7417718 ],\n",
       "       [ -0.6529423 ,   5.446542  ],\n",
       "       [ -0.50754994,  19.395811  ],\n",
       "       [ -0.81573987, -19.511774  ],\n",
       "       [ -0.36594385,  -4.8065467 ],\n",
       "       [ -0.9872026 ,  -1.9802629 ],\n",
       "       [ -0.5058709 ,  -0.5762973 ],\n",
       "       [ -0.66216284,   0.623839  ],\n",
       "       [ -0.85615534,   1.674712  ],\n",
       "       [ -0.50114524,   5.279091  ],\n",
       "       [ -0.29285154,  19.468315  ],\n",
       "       [ -0.40340352, -19.744543  ],\n",
       "       [ -0.64919716,  -4.92768   ],\n",
       "       [ -0.4761097 ,  -1.8670536 ],\n",
       "       [ -0.9711272 ,  -0.17722814],\n",
       "       [ -0.8322036 ,   0.76343375],\n",
       "       [ -0.892996  ,   1.9707708 ],\n",
       "       [ -0.76891375,   5.020973  ],\n",
       "       [ -1.2117646 ,  19.867683  ],\n",
       "       [ -0.83664757, -19.968481  ],\n",
       "       [ -0.59222096,  -4.9000797 ],\n",
       "       [ -0.6427495 ,  -1.7732705 ],\n",
       "       [ -0.60240275,  -0.45732072],\n",
       "       [ -0.50901693,   0.7195355 ],\n",
       "       [ -0.97394806,   1.9607419 ],\n",
       "       [ -1.1343931 ,   5.4446435 ],\n",
       "       [ -0.7589452 ,  19.279354  ],\n",
       "       [ -0.1600329 , -20.034363  ],\n",
       "       [ -0.79572755,  -5.2241974 ],\n",
       "       [ -1.0121758 ,  -2.0219908 ],\n",
       "       [ -0.69860303,  -0.3462101 ],\n",
       "       [ -0.64337057,   0.39725807],\n",
       "       [ -0.63543415,   1.765531  ],\n",
       "       [ -0.9849309 ,   5.311973  ],\n",
       "       [ -0.3582853 ,  19.636488  ],\n",
       "       [ -1.2728425 , -19.886042  ],\n",
       "       [ -0.46879688,  -4.9341493 ],\n",
       "       [ -0.4105342 ,  -1.9450014 ],\n",
       "       [ -0.74491477,  -0.3842993 ],\n",
       "       [ -0.7073426 ,   0.25199786],\n",
       "       [ -0.8200447 ,   1.8271959 ],\n",
       "       [ -0.5599787 ,   5.3331075 ],\n",
       "       [ -0.94787824,  19.740261  ],\n",
       "       [ -0.66133904, -19.620392  ],\n",
       "       [ -1.0414732 ,  -5.0084267 ],\n",
       "       [ -1.1493554 ,  -1.6996173 ],\n",
       "       [ -0.9789177 ,  -0.39363787],\n",
       "       [ -0.63337994,   0.5681979 ],\n",
       "       [ -0.95079225,   1.9688758 ],\n",
       "       [ -0.3006724 ,   5.79372   ],\n",
       "       [ -0.9477621 ,  19.64616   ],\n",
       "       [ -0.7071143 , -19.49888   ],\n",
       "       [ -0.28649813,  -4.6831656 ],\n",
       "       [ -0.45348108,  -2.0658836 ],\n",
       "       [ -0.9915034 ,  -0.14237858],\n",
       "       [ -0.6097425 ,   0.09135186],\n",
       "       [ -0.454706  ,   1.903366  ],\n",
       "       [ -0.625884  ,   5.4295263 ],\n",
       "       [ -0.24901356,  20.216333  ],\n",
       "       [ -1.3900837 , -19.424557  ],\n",
       "       [ -0.33394286,  -5.000294  ],\n",
       "       [ -0.60851663,  -1.9607773 ],\n",
       "       [ -0.42512345,  -0.44869122],\n",
       "       [ -0.8493405 ,   0.54800797],\n",
       "       [ -0.5790337 ,   1.5245727 ],\n",
       "       [ -0.38780078,   5.275435  ],\n",
       "       [ -0.1733908 ,  19.900805  ],\n",
       "       [ -1.0517575 , -19.375923  ],\n",
       "       [ -0.38352987,  -5.477916  ],\n",
       "       [ -0.95495826,  -2.066687  ],\n",
       "       [ -0.09261551,  -0.57993406],\n",
       "       [ -0.36570087,   0.47556004],\n",
       "       [ -0.48388714,   1.9346507 ],\n",
       "       [ -0.30124485,   5.662924  ],\n",
       "       [ -1.3079648 ,  19.761515  ],\n",
       "       [ -0.6938819 , -19.95258   ],\n",
       "       [ -1.2509775 ,  -5.22731   ],\n",
       "       [ -1.2014796 ,  -1.8473867 ],\n",
       "       [ -0.45067817,  -0.35921025],\n",
       "       [ -0.90402377,   0.37760243],\n",
       "       [ -0.8157792 ,   1.9853462 ],\n",
       "       [ -0.21838237,   5.85527   ],\n",
       "       [ -1.1289995 ,  19.581415  ],\n",
       "       [ -0.60358894, -19.49432   ],\n",
       "       [ -0.7076273 ,  -4.5172834 ],\n",
       "       [ -0.67590296,  -1.839355  ],\n",
       "       [ -0.5404565 ,  -0.489212  ],\n",
       "       [ -0.59029496,   0.47108057],\n",
       "       [ -0.5576381 ,   1.9595065 ],\n",
       "       [ -1.1002734 ,   5.1902757 ],\n",
       "       [ -1.3448449 ,  19.598013  ]], dtype=float32)"
      ]
     },
     "execution_count": 20,
     "metadata": {},
     "output_type": "execute_result"
    }
   ],
   "source": [
    "model.neuron_layers[0].Lambda"
   ]
  },
  {
   "cell_type": "code",
   "execution_count": 21,
   "metadata": {},
   "outputs": [
    {
     "ename": "Exception",
     "evalue": "",
     "output_type": "error",
     "traceback": [
      "\u001b[0;31m---------------------------------------------------------------------------\u001b[0m",
      "\u001b[0;31mException\u001b[0m                                 Traceback (most recent call last)",
      "Cell \u001b[0;32mIn[21], line 1\u001b[0m\n\u001b[0;32m----> 1\u001b[0m \u001b[38;5;28;01mraise\u001b[39;00m \u001b[38;5;167;01mException\u001b[39;00m()\n",
      "\u001b[0;31mException\u001b[0m: "
     ]
    }
   ],
   "source": [
    "raise Exception()"
   ]
  },
  {
   "cell_type": "markdown",
   "metadata": {},
   "source": [
    "# Plots for Surrogat Gradients"
   ]
  },
  {
   "cell_type": "code",
   "execution_count": null,
   "metadata": {},
   "outputs": [],
   "source": [
    "import matplotlib.pyplot as plt\n",
    "\n",
    "x = jnp.linspace(-3, 3, 100)\n",
    "h = 0.15\n",
    "s = 6\n",
    "sigma = 0.5\n",
    "theta = 0\n",
    "gaussian1 = lambda x, mu, std: jnp.exp(-0.5*((x-mu)/std)**2)\n",
    "\n",
    "df1 = (1+h)*gaussian1(x, theta, sigma) - 2*h*gaussian1(x, theta, s*sigma)\n",
    "\n",
    "plt.plot(x, df1)"
   ]
  },
  {
   "cell_type": "code",
   "execution_count": null,
   "metadata": {},
   "outputs": [],
   "source": [
    "import matplotlib.pyplot as plt\n",
    "\n",
    "x = jnp.linspace(-3, 3, 100)\n",
    "h = 0.15\n",
    "s = 6\n",
    "sigma = 0.5\n",
    "theta = 0\n",
    "gaussian2 = lambda x, mu, std: 1/((2*jnp.pi)**(0.5) * std) * jnp.exp(-0.5*((x-mu)/std)**2)\n",
    "\n",
    "df2 = (1+h)*gaussian2(x, theta, sigma) - h*gaussian2(x, sigma, s*sigma) - h*gaussian2(x, -sigma, s*sigma)\n",
    "\n",
    "plt.plot(x, df2)"
   ]
  },
  {
   "cell_type": "code",
   "execution_count": null,
   "metadata": {},
   "outputs": [],
   "source": [
    "import matplotlib.pyplot as plt\n",
    "\n",
    "x = jnp.linspace(-3, 3, 100)\n",
    "h = 0.15\n",
    "s = 6\n",
    "sigma = 0.5\n",
    "theta = 0\n",
    "gaussian2 = lambda x, mu, std: 1/((2*jnp.pi)**(0.5) * std) * jnp.exp(-0.5*((x-mu)/std)**2)\n",
    "\n",
    "df3 = (4 / (jnp.exp(-x) + jnp.exp(x))**2).astype(jnp.float32)\n",
    "\n",
    "plt.plot(x, df3)"
   ]
  },
  {
   "cell_type": "code",
   "execution_count": null,
   "metadata": {},
   "outputs": [],
   "source": [
    "df1"
   ]
  },
  {
   "cell_type": "code",
   "execution_count": null,
   "metadata": {},
   "outputs": [],
   "source": [
    "df2"
   ]
  },
  {
   "cell_type": "code",
   "execution_count": null,
   "metadata": {},
   "outputs": [],
   "source": [
    "import numpy as np\n",
    "import matplotlib.pyplot as plt\n",
    "\n",
    "P0 = lambda x: np.ones_like(x)\n",
    "P1 = lambda x: x\n",
    "P2 = lambda x: (1/2) * (3 * x**2 - 1)\n",
    "P3 = lambda x: (1/2) * (5 * x**3 - 3*x)\n",
    "P4 = lambda x: (1/8) * (35 * x**4 - 30*x**2 + 3)\n",
    "P5 = lambda x: (1/8) * (63 * x**5 - 70*x**3 + 15*x)\n",
    "P6 = lambda x: (1/16) * (231 * x**6 - 315*x**4 + 105*x**2-5)\n",
    "\n",
    "factor = lambda n: (2*n+1) / 2\n",
    "\n",
    "x = np.linspace(-6, 6, 100)\n",
    "x0 = 0.5\n",
    "y = factor(0)*P0(x0)*P0(x) * factor(1)*P1(x0)*P1(x) * factor(2)*P2(x0)*P2(x) * factor(3)*P3(x0)*P3(x) * factor(4)*P4(x0)*P4(x) * factor(5)*P5(x0)*P5(x) * factor(6)*P6(x0)*P6(x)"
   ]
  },
  {
   "cell_type": "code",
   "execution_count": null,
   "metadata": {},
   "outputs": [],
   "source": [
    "plt.plot(x, y)"
   ]
  },
  {
   "cell_type": "code",
   "execution_count": null,
   "metadata": {},
   "outputs": [],
   "source": [
    "plt.plot(x, P6(x))"
   ]
  },
  {
   "cell_type": "code",
   "execution_count": null,
   "metadata": {},
   "outputs": [],
   "source": [
    "def sin(m, x):\n",
    "    # return 2**(0.5) * np.sin(2*np.pi * m * x)\n",
    "    return np.sin(2*np.pi * m * x)\n",
    "\n",
    "def cos(m, x):\n",
    "    # return 2**(0.5) * np.cos(2*np.pi * m * x)\n",
    "    return np.cos(2*np.pi * m * x)\n",
    "\n",
    "def basis(n, x):\n",
    "    if np.abs(n) % 2 == 0:\n",
    "        return sin(n/2, x)\n",
    "    else:\n",
    "        return cos(int(n/2), x)\n",
    "\n",
    "\n",
    "x = np.linspace(-5, 5, 100)\n",
    "x0 = 2.1\n",
    "y = np.sum(np.array([basis(n, x0) * basis(n, x) for n in range(-64, 64, 1)]), axis=0)"
   ]
  },
  {
   "cell_type": "code",
   "execution_count": null,
   "metadata": {},
   "outputs": [],
   "source": [
    "plt.plot(x, y)"
   ]
  },
  {
   "cell_type": "code",
   "execution_count": null,
   "metadata": {},
   "outputs": [],
   "source": [
    "y = [0, 0, 1, 0, 0]\n",
    "np.fft.fft(y*2)"
   ]
  }
 ],
 "metadata": {
  "kernelspec": {
   "display_name": ".venv",
   "language": "python",
   "name": "python3"
  },
  "language_info": {
   "codemirror_mode": {
    "name": "ipython",
    "version": 3
   },
   "file_extension": ".py",
   "mimetype": "text/x-python",
   "name": "python",
   "nbconvert_exporter": "python",
   "pygments_lexer": "ipython3",
   "version": "3.10.12"
  }
 },
 "nbformat": 4,
 "nbformat_minor": 2
}
