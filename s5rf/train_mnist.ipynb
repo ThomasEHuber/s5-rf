{
 "cells": [
  {
   "cell_type": "code",
   "execution_count": 1,
   "metadata": {},
   "outputs": [
    {
     "name": "stdout",
     "output_type": "stream",
     "text": [
      "/home/thomas/Development/resonator-hackathon/ssm/equinox\n"
     ]
    },
    {
     "name": "stderr",
     "output_type": "stream",
     "text": [
      "/home/thomas/Development/resonator-hackathon/.venv/lib/python3.10/site-packages/IPython/core/magics/osm.py:417: UserWarning: This is now an optional IPython functionality, setting dhist requires you to install the `pickleshare` library.\n",
      "  self.shell.db['dhist'] = compress_dhist(dhist)[-100:]\n"
     ]
    },
    {
     "data": {
      "text/plain": [
       "'/home/thomas/Development/resonator-hackathon/ssm/equinox'"
      ]
     },
     "execution_count": 1,
     "metadata": {},
     "output_type": "execute_result"
    }
   ],
   "source": [
    "# sets the correct path, don't know how to toggle this once it is set\n",
    "%cd ../\n",
    "%pwd"
   ]
  },
  {
   "cell_type": "code",
   "execution_count": 2,
   "metadata": {},
   "outputs": [],
   "source": [
    "import torch\n",
    "import torchvision\n",
    "from torchvision import datasets, transforms\n",
    "import jax \n",
    "import jax.numpy as jnp\n",
    "import equinox as eqx\n",
    "import optax\n",
    "from tqdm import tqdm\n",
    "from typing import Callable\n",
    "import wandb\n",
    "import math\n",
    "import numpy as np\n",
    "\n",
    "from resonator_s5.classifier import Classifier\n",
    "from functools import partial\n",
    "\n",
    "def bitreversal_po2(n):\n",
    "    \"\"\"\n",
    "    From S4 codebase.\n",
    "\n",
    "    :param n:\n",
    "    :return:\n",
    "    \"\"\"\n",
    "    m = int(math.log(n)/math.log(2))\n",
    "    perm = np.arange(n).reshape(n,1)\n",
    "    for i in range(m):\n",
    "        n1 = perm.shape[0]//2\n",
    "        perm = np.hstack((perm[:n1],perm[n1:]))\n",
    "    return perm.squeeze(0)\n",
    "\n",
    "def bitreversal_permutation(n):\n",
    "    \"\"\"\n",
    "    From S4 codebase.\n",
    "\n",
    "    :param n:\n",
    "    :return:\n",
    "    \"\"\"\n",
    "    m = int(math.ceil(math.log(n)/math.log(2)))\n",
    "    N = 1 << m\n",
    "    perm = bitreversal_po2(N)\n",
    "    return np.extract(perm < n, perm)\n",
    "\n",
    "BATCH_SIZE = 50\n",
    "EPOCHS = 300\n",
    "PERMUTE = True\n",
    "\n",
    "transform = [\n",
    "    transforms.ToTensor(),\n",
    "    torchvision.transforms.Lambda(lambda x: x.view(1, 28*28).t()),\n",
    "]\n",
    "if PERMUTE:\n",
    "    permutation = bitreversal_permutation(28*28)\n",
    "    transform.append(torchvision.transforms.Lambda(lambda x: x[permutation]))\n",
    "\n",
    "transform = transforms.Compose(transform)\n",
    "\n",
    "# Load the MNIST dataset\n",
    "train_dataset = datasets.MNIST(root='../../data', train=True, download=True, transform=transform)\n",
    "train_dataset, val_dataset = torch.utils.data.random_split(train_dataset, [0.9, 0.1])\n",
    "test_dataset = datasets.MNIST(root='../../data', train=False, download=True, transform=transform)\n",
    "\n",
    "\n",
    "train_dataloader = torch.utils.data.DataLoader(train_dataset, batch_size=BATCH_SIZE, shuffle=True)\n",
    "val_dataloader = torch.utils.data.DataLoader(val_dataset, batch_size=BATCH_SIZE, shuffle=True)\n",
    "test_dataloader = torch.utils.data.DataLoader(test_dataset, batch_size=BATCH_SIZE, shuffle=False)"
   ]
  },
  {
   "cell_type": "code",
   "execution_count": 3,
   "metadata": {},
   "outputs": [
    {
     "name": "stderr",
     "output_type": "stream",
     "text": [
      "2024-06-09 22:48:58.330313: W external/xla/xla/service/gpu/nvptx_compiler.cc:760] The NVIDIA driver's CUDA version is 12.3 which is older than the ptxas CUDA version (12.4.131). Because the driver is older than the ptxas version, XLA is disabling parallel compilation, which may slow down compilation. You should update your NVIDIA driver or use the NVIDIA-provided CUDA forward compatibility packages.\n"
     ]
    },
    {
     "data": {
      "text/plain": [
       "Classifier(\n",
       "  dense_layers=[\n",
       "    RFDense(C=f32[128,1,2], keep_imag=True),\n",
       "    RFDense(C=f32[128,128,2], keep_imag=True)\n",
       "  ],\n",
       "  neuron_layers=[\n",
       "    RF(\n",
       "      Lambda=f32[128,2],\n",
       "      V=c64[128,128],\n",
       "      log_step=f32[128,1],\n",
       "      keep_imag=True,\n",
       "      discretization='zoh',\n",
       "      activation='cartesian_spike',\n",
       "      bidirectional=False,\n",
       "      step_rescale=1.0\n",
       "    ),\n",
       "    RF(\n",
       "      Lambda=f32[128,2],\n",
       "      V=c64[128,128],\n",
       "      log_step=f32[128,1],\n",
       "      keep_imag=True,\n",
       "      discretization='zoh',\n",
       "      activation='cartesian_spike',\n",
       "      bidirectional=False,\n",
       "      step_rescale=1.0\n",
       "    )\n",
       "  ],\n",
       "  drop=Dropout(p=0.15, inference=False),\n",
       "  output_dense=RFDense(C=f32[10,128,2], keep_imag=False),\n",
       "  apply_skip=True,\n",
       "  dense_dropout=False\n",
       ")"
      ]
     },
     "execution_count": 3,
     "metadata": {},
     "output_type": "execute_result"
    }
   ],
   "source": [
    "rng_key = jax.random.PRNGKey(42)\n",
    "rng_key, model_key = jax.random.split(rng_key, num=2)\n",
    "\n",
    "model = Classifier(\n",
    "    rng_key=model_key,\n",
    "    input_dim=1,\n",
    "    output_dim=10,\n",
    "    num_neurons=[128, 128],\n",
    "    num_blocks=[8, 8],\n",
    "    dt_min=0.001,\n",
    "    dt_max=0.1,\n",
    "    activation=\"cartesian_spike\",\n",
    "    discretization=\"zoh\",\n",
    "    bidirectional=False,\n",
    "    keep_imag=True,\n",
    "    v_pos=\"before_spike\",\n",
    "    apply_skip=True,\n",
    "    dropout=0.15,\n",
    "    dense_dropout = False,\n",
    ")\n",
    "model"
   ]
  },
  {
   "cell_type": "code",
   "execution_count": 4,
   "metadata": {},
   "outputs": [
    {
     "data": {
      "text/plain": [
       "Array([-80.966194 , -25.629253 , -13.834365 ,  -8.362114 ,  -5.090026 ,\n",
       "        -2.8996723,  -1.3719904,  -0.3520182,   0.3520182,   1.3719904,\n",
       "         2.8996742,   5.0900235,   8.362113 ,  13.834335 ,  25.629234 ,\n",
       "        80.96615  , -80.966194 , -25.629253 , -13.834365 ,  -8.362114 ,\n",
       "        -5.090026 ,  -2.8996723,  -1.3719904,  -0.3520182,   0.3520182,\n",
       "         1.3719904,   2.8996742,   5.0900235,   8.362113 ,  13.834335 ,\n",
       "        25.629234 ,  80.96615  , -80.966194 , -25.629253 , -13.834365 ,\n",
       "        -8.362114 ,  -5.090026 ,  -2.8996723,  -1.3719904,  -0.3520182,\n",
       "         0.3520182,   1.3719904,   2.8996742,   5.0900235,   8.362113 ,\n",
       "        13.834335 ,  25.629234 ,  80.96615  , -80.966194 , -25.629253 ,\n",
       "       -13.834365 ,  -8.362114 ,  -5.090026 ,  -2.8996723,  -1.3719904,\n",
       "        -0.3520182,   0.3520182,   1.3719904,   2.8996742,   5.0900235,\n",
       "         8.362113 ,  13.834335 ,  25.629234 ,  80.96615  , -80.966194 ,\n",
       "       -25.629253 , -13.834365 ,  -8.362114 ,  -5.090026 ,  -2.8996723,\n",
       "        -1.3719904,  -0.3520182,   0.3520182,   1.3719904,   2.8996742,\n",
       "         5.0900235,   8.362113 ,  13.834335 ,  25.629234 ,  80.96615  ,\n",
       "       -80.966194 , -25.629253 , -13.834365 ,  -8.362114 ,  -5.090026 ,\n",
       "        -2.8996723,  -1.3719904,  -0.3520182,   0.3520182,   1.3719904,\n",
       "         2.8996742,   5.0900235,   8.362113 ,  13.834335 ,  25.629234 ,\n",
       "        80.96615  , -80.966194 , -25.629253 , -13.834365 ,  -8.362114 ,\n",
       "        -5.090026 ,  -2.8996723,  -1.3719904,  -0.3520182,   0.3520182,\n",
       "         1.3719904,   2.8996742,   5.0900235,   8.362113 ,  13.834335 ,\n",
       "        25.629234 ,  80.96615  , -80.966194 , -25.629253 , -13.834365 ,\n",
       "        -8.362114 ,  -5.090026 ,  -2.8996723,  -1.3719904,  -0.3520182,\n",
       "         0.3520182,   1.3719904,   2.8996742,   5.0900235,   8.362113 ,\n",
       "        13.834335 ,  25.629234 ,  80.96615  ], dtype=float32)"
      ]
     },
     "execution_count": 4,
     "metadata": {},
     "output_type": "execute_result"
    }
   ],
   "source": [
    "model.neuron_layers[0].Lambda[...,1]"
   ]
  },
  {
   "cell_type": "code",
   "execution_count": 5,
   "metadata": {},
   "outputs": [
    {
     "data": {
      "text/plain": [
       "Array([0.07225227, 0.11110634, 0.09259634, 0.09673653, 0.10634853,\n",
       "       0.09437726, 0.12435078, 0.09126202, 0.11232641, 0.0986435 ],      dtype=float32)"
      ]
     },
     "execution_count": 5,
     "metadata": {},
     "output_type": "execute_result"
    }
   ],
   "source": [
    "jnp.exp(model.forward(jnp.ones([784, 1]), rng_key=rng_key))"
   ]
  },
  {
   "cell_type": "code",
   "execution_count": 6,
   "metadata": {},
   "outputs": [],
   "source": [
    "from resonator_s5.optax_helper import init_optimizer\n",
    "\n",
    "decay_steps = EPOCHS * len(train_dataloader)\n",
    "if PERMUTE:\n",
    "    standard_lr = 0.004\n",
    "    ssm_lr = 0.001\n",
    "else:\n",
    "    standard_lr = 0.008\n",
    "    ssm_lr = 0.002\n",
    "\n",
    "optim, opt_state = init_optimizer(model, standard_lr=standard_lr, ssm_lr=ssm_lr, weight_decay=0.0001, decay_steps=decay_steps)"
   ]
  },
  {
   "cell_type": "code",
   "execution_count": 7,
   "metadata": {},
   "outputs": [
    {
     "data": {
      "text/plain": [
       "Array(0.004, dtype=float32)"
      ]
     },
     "execution_count": 7,
     "metadata": {},
     "output_type": "execute_result"
    }
   ],
   "source": [
    "opt_state.inner_states['standard'].inner_state.hyperparams['learning_rate']"
   ]
  },
  {
   "cell_type": "code",
   "execution_count": 8,
   "metadata": {},
   "outputs": [],
   "source": [
    "def loss_fn(model: Classifier, train_key, x: jax.Array, y: jax.Array):\n",
    "    call = partial(model.forward, rng_key=train_key)\n",
    "    batched_model = jax.vmap(call, in_axes=(0), out_axes=(0)) # add batch dim to x only\n",
    "    logits = batched_model(x)\n",
    "    loss = optax.softmax_cross_entropy_with_integer_labels(logits=logits, labels=y)\n",
    "    loss = loss.mean()\n",
    "    return loss, (logits)\n",
    "\n",
    "\n",
    "# x , y = next(iter(test_dataloader))\n",
    "# x = jnp.asarray(x.numpy())\n",
    "# y = jnp.asarray(y.numpy())\n",
    "\n",
    "# value, grads = eqx.filter_value_and_grad(loss_fn, has_aux=True)(model, rng_key, x, y)\n",
    "\n",
    "# lrs = []\n",
    "# for _ in tqdm(range(1080)):\n",
    "#     updates, opt_state = optim.update(grads, opt_state, model)\n",
    "#     lr = opt_state.inner_states['standard'].inner_state.hyperparams['learning_rate']\n",
    "#     lrs.append(lr)\n",
    "\n",
    "# model = eqx.apply_updates(model, updates)"
   ]
  },
  {
   "cell_type": "code",
   "execution_count": 9,
   "metadata": {},
   "outputs": [
    {
     "data": {
      "text/plain": [
       "[<matplotlib.lines.Line2D at 0x75ee942da380>]"
      ]
     },
     "execution_count": 9,
     "metadata": {},
     "output_type": "execute_result"
    },
    {
     "data": {
      "image/png": "[encoded data removed]",
      "text/plain": [
       "<Figure size 640x480 with 1 Axes>"
      ]
     },
     "metadata": {},
     "output_type": "display_data"
    }
   ],
   "source": [
    "import matplotlib.pyplot as plt\n",
    "x = jnp.linspace(0, 1080*300)\n",
    "y = 0.008 * (1-1e-6)/2 * (1 + jnp.cos(jnp.pi * x/decay_steps)) + 1e-6\n",
    "plt.plot(x, y)"
   ]
  },
  {
   "cell_type": "code",
   "execution_count": 10,
   "metadata": {},
   "outputs": [
    {
     "data": {
      "text/plain": [
       "Array(0.004, dtype=float32)"
      ]
     },
     "execution_count": 10,
     "metadata": {},
     "output_type": "execute_result"
    }
   ],
   "source": [
    "opt_state.inner_states['standard'].inner_state.hyperparams['learning_rate']"
   ]
  },
  {
   "cell_type": "code",
   "execution_count": 11,
   "metadata": {},
   "outputs": [],
   "source": [
    "@eqx.filter_jit\n",
    "def train_step(model: Classifier, train_key, opt_state, x: jax.Array, y: jax.Array):\n",
    "    (loss_value, (logits)), grads = eqx.filter_value_and_grad(loss_fn, has_aux=True)(model, train_key, x, y)\n",
    "    updates, opt_state = optim.update(grads, opt_state, model)\n",
    "    model = eqx.apply_updates(model, updates)\n",
    "    metrics = {\n",
    "        'loss': loss_value,\n",
    "        'accuracy': jnp.mean(jnp.argmax(logits, -1) == y),\n",
    "    }\n",
    "    return model, opt_state, metrics\n",
    "\n",
    "\n",
    "@eqx.filter_jit\n",
    "def test_step(model: Classifier, rng_key, x, y):\n",
    "    loss_value, (logits) = loss_fn(model, rng_key, x, y)\n",
    "    metrics = {\n",
    "        'loss': loss_value,\n",
    "        'accuracy': jnp.mean(jnp.argmax(logits, -1) == y),\n",
    "    }\n",
    "    return metrics\n",
    "\n",
    "@eqx.filter_jit\n",
    "def get_average_spikes(model: Classifier, x: jax.Array, layer: int) -> tuple[jax.Array, jax.Array]:\n",
    "    spikes_fn = partial(model.gen_spikes, layer=layer)\n",
    "    spikes = jax.vmap(spikes_fn)(x)\n",
    "    return (jnp.sum(spikes) / BATCH_SIZE).astype(jnp.int32), jnp.mean(spikes)\n",
    "\n",
    "\n",
    "\n",
    "def train_epoch(model: Classifier, rng_key, opt_state, track_layer: int):\n",
    "    train_metrics = {\n",
    "        'loss': [],\n",
    "        'accuracy': [],\n",
    "    }\n",
    "    val_metrics = {\n",
    "        'loss': [],\n",
    "        'accuracy': [],\n",
    "        'num_spikes': [],\n",
    "        'avg_spikes': [],\n",
    "    }\n",
    "    test_metrics = {\n",
    "        'loss': [],\n",
    "        'accuracy': [],\n",
    "        'num_spikes': [],\n",
    "        'avg_spikes': [],\n",
    "    }\n",
    "    print(\"training\")\n",
    "    for x, y in tqdm(train_dataloader):\n",
    "        x = jnp.asarray(x.numpy())\n",
    "        y = jnp.asarray(y.numpy())\n",
    "\n",
    "        rng_key, train_key = jax.random.split(rng_key, num=2)\n",
    "        model, opt_state, metric = train_step(model, train_key, opt_state, x, y)\n",
    "        train_metrics['loss'].append(metric['loss'])\n",
    "        train_metrics['accuracy'].append(metric['accuracy'])\n",
    "    \n",
    "    print(\"validating\")\n",
    "    inference_model = eqx.nn.inference_mode(model)\n",
    "    for x, y in tqdm(val_dataloader): \n",
    "            x = jnp.asarray(x.numpy())\n",
    "            y = jnp.asarray(y.numpy())\n",
    "            metric = test_step(inference_model, rng_key, x, y)\n",
    "            val_metrics['loss'].append(metric['loss'])\n",
    "            val_metrics['accuracy'].append(metric['accuracy'])\n",
    "\n",
    "    num_spikes, avg_spikes = get_average_spikes(model, x, layer=track_layer)\n",
    "    val_metrics['num_spikes'] = num_spikes\n",
    "    val_metrics['avg_spikes'] = avg_spikes\n",
    "\n",
    "    print(\"testing\")\n",
    "    for x, y in tqdm(test_dataloader): \n",
    "        x = jnp.asarray(x.numpy())\n",
    "        y = jnp.asarray(y.numpy())\n",
    "        metric = test_step(inference_model, rng_key, x, y)\n",
    "        test_metrics['loss'].append(metric['loss'])\n",
    "        test_metrics['accuracy'].append(metric['accuracy'])\n",
    "    \n",
    "    num_spikes, avg_spikes = get_average_spikes(model, x, layer=track_layer)\n",
    "    test_metrics['num_spikes'] = num_spikes\n",
    "    test_metrics['avg_spikes'] = avg_spikes\n",
    "\n",
    "    train_metrics['loss'] = jnp.array(train_metrics['loss']).mean()\n",
    "    train_metrics['accuracy'] = jnp.array(train_metrics['accuracy']).mean()\n",
    "    val_metrics['loss'] = jnp.array(val_metrics['loss']).mean()\n",
    "    val_metrics['accuracy'] = jnp.array(val_metrics['accuracy']).mean()\n",
    "    test_metrics['loss'] = jnp.array(test_metrics['loss']).mean()\n",
    "    test_metrics['accuracy'] = jnp.array(test_metrics['accuracy']).mean()\n",
    "\n",
    "    print(f\"Train Loss: {train_metrics['loss']}\")\n",
    "    print(f\"Train Acc: {train_metrics['accuracy']}\")\n",
    "    print(f\"Val Loss: {val_metrics['loss']}\")\n",
    "    print(f\"Val Acc: {val_metrics['accuracy']}\")\n",
    "    print(f\"Test Loss: {test_metrics['loss']}\")\n",
    "    print(f\"Test Acc: {test_metrics['accuracy']}\\n\")\n",
    "\n",
    "    return model, opt_state, train_metrics, val_metrics, test_metrics"
   ]
  },
  {
   "cell_type": "code",
   "execution_count": 12,
   "metadata": {},
   "outputs": [],
   "source": [
    "class BestAccTracker:\n",
    "    def __init__(self) -> None:\n",
    "        self.counter = 0\n",
    "        self.best_acc = 0\n",
    "    \n",
    "    def update(self, x: jax.Array | float) -> None:\n",
    "        if x > self.best_acc:\n",
    "            self.best_acc = x\n",
    "            self.reset_counter()\n",
    "        else:\n",
    "            self.counter += 1\n",
    "    \n",
    "    def reset_counter(self) -> None:\n",
    "        self.counter = 0\n",
    "\n",
    "\n",
    "\n",
    "some_nan = lambda x: np.sum(np.isnan(x)) > 0"
   ]
  },
  {
   "cell_type": "code",
   "execution_count": 13,
   "metadata": {},
   "outputs": [
    {
     "name": "stdout",
     "output_type": "stream",
     "text": [
      "Epoch: 296/300\n",
      "training\n"
     ]
    },
    {
     "name": "stderr",
     "output_type": "stream",
     "text": [
      "100%|██████████| 1080/1080 [00:17<00:00, 62.55it/s]\n"
     ]
    },
    {
     "name": "stdout",
     "output_type": "stream",
     "text": [
      "validating\n"
     ]
    },
    {
     "name": "stderr",
     "output_type": "stream",
     "text": [
      "100%|██████████| 120/120 [00:00<00:00, 198.33it/s]\n"
     ]
    },
    {
     "name": "stdout",
     "output_type": "stream",
     "text": [
      "testing\n"
     ]
    },
    {
     "name": "stderr",
     "output_type": "stream",
     "text": [
      "100%|██████████| 200/200 [00:00<00:00, 207.16it/s]\n"
     ]
    },
    {
     "name": "stdout",
     "output_type": "stream",
     "text": [
      "Train Loss: 0.05248219519853592\n",
      "Train Acc: 0.98370361328125\n",
      "Val Loss: 0.2038150131702423\n",
      "Val Acc: 0.9423333406448364\n",
      "Test Loss: 0.18421746790409088\n",
      "Test Acc: 0.9470999836921692\n",
      "\n",
      "Epoch: 297/300\n",
      "training\n"
     ]
    },
    {
     "name": "stderr",
     "output_type": "stream",
     "text": [
      "100%|██████████| 1080/1080 [00:17<00:00, 62.71it/s]\n"
     ]
    },
    {
     "name": "stdout",
     "output_type": "stream",
     "text": [
      "validating\n"
     ]
    },
    {
     "name": "stderr",
     "output_type": "stream",
     "text": [
      "100%|██████████| 120/120 [00:00<00:00, 192.32it/s]\n"
     ]
    },
    {
     "name": "stdout",
     "output_type": "stream",
     "text": [
      "testing\n"
     ]
    },
    {
     "name": "stderr",
     "output_type": "stream",
     "text": [
      "100%|██████████| 200/200 [00:00<00:00, 202.02it/s]\n"
     ]
    },
    {
     "name": "stdout",
     "output_type": "stream",
     "text": [
      "Train Loss: 0.052081502974033356\n",
      "Train Acc: 0.9843332767486572\n",
      "Val Loss: 0.20397083461284637\n",
      "Val Acc: 0.9426666498184204\n",
      "Test Loss: 0.1840483397245407\n",
      "Test Acc: 0.947700023651123\n",
      "\n",
      "Epoch: 298/300\n",
      "training\n"
     ]
    },
    {
     "name": "stderr",
     "output_type": "stream",
     "text": [
      "100%|██████████| 1080/1080 [00:17<00:00, 63.03it/s]\n"
     ]
    },
    {
     "name": "stdout",
     "output_type": "stream",
     "text": [
      "validating\n"
     ]
    },
    {
     "name": "stderr",
     "output_type": "stream",
     "text": [
      "100%|██████████| 120/120 [00:00<00:00, 182.68it/s]\n"
     ]
    },
    {
     "name": "stdout",
     "output_type": "stream",
     "text": [
      "testing\n"
     ]
    },
    {
     "name": "stderr",
     "output_type": "stream",
     "text": [
      "100%|██████████| 200/200 [00:01<00:00, 193.46it/s]\n"
     ]
    },
    {
     "name": "stdout",
     "output_type": "stream",
     "text": [
      "Train Loss: 0.05218548700213432\n",
      "Train Acc: 0.9845925569534302\n",
      "Val Loss: 0.20381805300712585\n",
      "Val Acc: 0.9426666498184204\n",
      "Test Loss: 0.18420535326004028\n",
      "Test Acc: 0.9474999904632568\n",
      "\n",
      "Epoch: 299/300\n",
      "training\n"
     ]
    },
    {
     "name": "stderr",
     "output_type": "stream",
     "text": [
      "100%|██████████| 1080/1080 [00:17<00:00, 62.99it/s]\n"
     ]
    },
    {
     "name": "stdout",
     "output_type": "stream",
     "text": [
      "validating\n"
     ]
    },
    {
     "name": "stderr",
     "output_type": "stream",
     "text": [
      "100%|██████████| 120/120 [00:00<00:00, 196.54it/s]\n"
     ]
    },
    {
     "name": "stdout",
     "output_type": "stream",
     "text": [
      "testing\n"
     ]
    },
    {
     "name": "stderr",
     "output_type": "stream",
     "text": [
      "100%|██████████| 200/200 [00:00<00:00, 204.19it/s]\n"
     ]
    },
    {
     "name": "stdout",
     "output_type": "stream",
     "text": [
      "Train Loss: 0.052613984793424606\n",
      "Train Acc: 0.9845185279846191\n",
      "Val Loss: 0.20373988151550293\n",
      "Val Acc: 0.9426666498184204\n",
      "Test Loss: 0.18409541249275208\n",
      "Test Acc: 0.9476999640464783\n",
      "\n",
      "Epoch: 300/300\n",
      "training\n"
     ]
    },
    {
     "name": "stderr",
     "output_type": "stream",
     "text": [
      "100%|██████████| 1080/1080 [00:17<00:00, 62.88it/s]\n"
     ]
    },
    {
     "name": "stdout",
     "output_type": "stream",
     "text": [
      "validating\n"
     ]
    },
    {
     "name": "stderr",
     "output_type": "stream",
     "text": [
      "100%|██████████| 120/120 [00:00<00:00, 197.34it/s]\n"
     ]
    },
    {
     "name": "stdout",
     "output_type": "stream",
     "text": [
      "testing\n"
     ]
    },
    {
     "name": "stderr",
     "output_type": "stream",
     "text": [
      "100%|██████████| 200/200 [00:00<00:00, 207.07it/s]\n"
     ]
    },
    {
     "name": "stdout",
     "output_type": "stream",
     "text": [
      "Train Loss: 0.052706461399793625\n",
      "Train Acc: 0.9839258193969727\n",
      "Val Loss: 0.2037438452243805\n",
      "Val Acc: 0.9426666498184204\n",
      "Test Loss: 0.1841287612915039\n",
      "Test Acc: 0.9476999640464783\n",
      "\n"
     ]
    },
    {
     "data": {
      "text/html": [
       "<style>\n",
       "    table.wandb td:nth-child(1) { padding: 0 10px; text-align: left ; width: auto;} td:nth-child(2) {text-align: left ; width: 100%}\n",
       "    .wandb-row { display: flex; flex-direction: row; flex-wrap: wrap; justify-content: flex-start; width: 100% }\n",
       "    .wandb-col { display: flex; flex-direction: column; flex-basis: 100%; flex: 1; padding: 10px; }\n",
       "    </style>\n",
       "<div class=\"wandb-row\"><div class=\"wandb-col\"><h3>Run history:</h3><br/><table class=\"wandb\"><tr><td>Counter</td><td>▁▁▁▂▁▅▃▃▁▅▂▅▂▃▆▂▅█▃▆█▃▆▂▅█▁▄▇▃▄▇▃▂▅█▃▆▂▅</td></tr><tr><td>Learning Rate SSM</td><td>███████▇▇▇▇▇▆▆▆▆▅▅▅▅▄▄▄▄▃▃▃▃▂▂▂▂▂▁▁▁▁▁▁▁</td></tr><tr><td>Learning Rate Standard</td><td>███████▇▇▇▇▇▆▆▆▆▅▅▅▅▄▄▄▄▃▃▃▃▂▂▂▂▂▁▁▁▁▁▁▁</td></tr><tr><td>Max C imag</td><td>▁▁▃▃▃▃▃▃▄▄▄▅▅▆▆▆▆▇▇▇▇▇▇█████████████████</td></tr><tr><td>Max C real</td><td>▁▃▄▃▃▃▃▃▃▃▃▄▄▅▅▅▅▆▆▆▇▇▇▇▇███████████████</td></tr><tr><td>Max Delta</td><td>▁▁▂▂▃▅▇▇▇▇▇▇▇▇███▇██████████████████████</td></tr><tr><td>Max Lambda imag</td><td>█▇▃▂▂▂▂▂▂▂▂▂▁▁▁▁▁▁▁▁▁▁▁▁▁▁▁▁▁▁▁▁▁▁▁▁▁▁▁▁</td></tr><tr><td>Max Lambda real</td><td>▁▂▂▃▄▅▆▇▇▇▇█████████████████████████████</td></tr><tr><td>Min C imag</td><td>█▇▆▅▆▅▄▃▃▂▂▂▂▂▂▂▂▂▂▂▂▂▂▂▁▁▁▁▁▁▁▁▁▁▁▁▁▁▁▁</td></tr><tr><td>Min C real</td><td>█▇▇▆▆▆▆▆▆▅▅▄▄▃▃▃▃▂▂▂▂▂▂▂▂▁▁▁▁▁▁▁▁▁▁▁▁▁▁▁</td></tr><tr><td>Min Delta</td><td>▃▁▃▃▃▃▃▄▄▅▅▅▆▆▆▆▆▇▇▇▇▇▇█████████████████</td></tr><tr><td>Min Lambda imag</td><td>▁▂▂▃▃▃▃▄▄▄▅▅▅▅▆▆▇▇▇▇████████████████████</td></tr><tr><td>Min Lambda real</td><td>█▇▆▄▄▄▅▄▄▄▃▃▃▃▂▂▂▂▂▂▂▁▂▂▂▁▁▁▁▁▁▁▁▁▁▁▁▁▁▁</td></tr><tr><td>Test Accuracy</td><td>▁▄▆▆▆▇▇▇▇▇▇▇████████████████████████████</td></tr><tr><td>Test Avg Spikes</td><td>▇▆▁▂▁▂▁▂▁▁▂▄▃▂▃▆▅▅▃▄▄█▇▆▇▇█▆▇▆▆▆▆▆▆▇▇▆▆▆</td></tr><tr><td>Test Loss</td><td>█▅▃▂▂▂▂▁▁▁▁▂▁▁▁▁▁▁▁▁▁▁▁▁▁▁▁▁▁▁▁▁▁▁▁▁▁▁▁▁</td></tr><tr><td>Test Num Spikes</td><td>▇▆▁▂▁▂▁▂▁▁▂▄▃▂▃▆▅▅▃▄▄█▇▆▇▇█▆▇▆▆▆▆▆▆▇▇▆▆▆</td></tr><tr><td>Train Accuracy</td><td>▁▃▅▆▆▆▆▆▇▇▇▇▇▇▇▇▇▇▇▇▇▇██████████████████</td></tr><tr><td>Train Loss</td><td>█▆▄▃▃▃▃▂▂▂▂▂▂▂▂▂▂▂▂▂▁▁▁▁▁▁▁▁▁▁▁▁▁▁▁▁▁▁▁▁</td></tr><tr><td>Val Accuracy</td><td>▁▄▆▇▆▇▇▇▇▇▇█████████████████████████████</td></tr><tr><td>Val Avg Spikes</td><td>▄▄▂▄▃▄▁▂▂▃▄▃▄▂▅▆▆▄▄▃▃▆▇▆▆▅▆▆▇▅▅▅▇▆▆▅▇▆█▆</td></tr><tr><td>Val Loss</td><td>█▅▃▂▂▂▂▂▂▁▁▁▁▁▁▁▁▁▁▁▁▁▁▁▁▁▁▁▁▁▁▁▁▁▁▁▁▁▁▁</td></tr><tr><td>Val Num Spikes</td><td>▄▄▂▄▃▄▁▂▂▃▄▃▄▂▅▆▆▄▄▃▃▆▇▆▆▅▆▆▇▅▅▅▇▆▆▅▇▆█▆</td></tr></table><br/></div><div class=\"wandb-col\"><h3>Run summary:</h3><br/><table class=\"wandb\"><tr><td>Counter</td><td>10</td></tr><tr><td>Learning Rate SSM</td><td>0.0</td></tr><tr><td>Learning Rate Standard</td><td>0.0</td></tr><tr><td>Max C imag</td><td>22.82549</td></tr><tr><td>Max C real</td><td>21.20095</td></tr><tr><td>Max Delta</td><td>0.27403</td></tr><tr><td>Max Lambda imag</td><td>80.93269</td></tr><tr><td>Max Lambda real</td><td>-0.00066</td></tr><tr><td>Min C imag</td><td>-17.30582</td></tr><tr><td>Min C real</td><td>-22.50739</td></tr><tr><td>Min Delta</td><td>0.00135</td></tr><tr><td>Min Lambda imag</td><td>-80.86838</td></tr><tr><td>Min Lambda real</td><td>-12.22357</td></tr><tr><td>Test Accuracy</td><td>0.9477</td></tr><tr><td>Test Avg Spikes</td><td>0.17912</td></tr><tr><td>Test Loss</td><td>0.18413</td></tr><tr><td>Test Num Spikes</td><td>17975</td></tr><tr><td>Train Accuracy</td><td>0.98393</td></tr><tr><td>Train Loss</td><td>0.05271</td></tr><tr><td>Val Accuracy</td><td>0.94267</td></tr><tr><td>Val Avg Spikes</td><td>0.18223</td></tr><tr><td>Val Loss</td><td>0.20374</td></tr><tr><td>Val Num Spikes</td><td>18286</td></tr></table><br/></div></div>"
      ],
      "text/plain": [
       "<IPython.core.display.HTML object>"
      ]
     },
     "metadata": {},
     "output_type": "display_data"
    },
    {
     "data": {
      "text/html": [
       " View run <strong style=\"color:#cdcd00\">lilac-bird-13</strong> at: <a href='https://wandb.ai/thomashuber/S5_PSMNIST/runs/78tkz3ya' target=\"_blank\">https://wandb.ai/thomashuber/S5_PSMNIST/runs/78tkz3ya</a><br/> View project at: <a href='https://wandb.ai/thomashuber/S5_PSMNIST' target=\"_blank\">https://wandb.ai/thomashuber/S5_PSMNIST</a><br/>Synced 5 W&B file(s), 0 media file(s), 0 artifact file(s) and 0 other file(s)"
      ],
      "text/plain": [
       "<IPython.core.display.HTML object>"
      ]
     },
     "metadata": {},
     "output_type": "display_data"
    },
    {
     "data": {
      "text/html": [
       "Find logs at: <code>./wandb/run-20240609_224905-78tkz3ya/logs</code>"
      ],
      "text/plain": [
       "<IPython.core.display.HTML object>"
      ]
     },
     "metadata": {},
     "output_type": "display_data"
    }
   ],
   "source": [
    "from IPython.display import clear_output\n",
    "\n",
    "if PERMUTE:\n",
    "    wandb.init(project=\"S5_PSMNIST\")\n",
    "else:\n",
    "    wandb.init(project=\"S5_SMNIST\")\n",
    "\n",
    "rng_key = jax.random.PRNGKey(42)\n",
    "tracker = BestAccTracker()\n",
    "track_layer = 1\n",
    "for epoch in range(EPOCHS):\n",
    "    if (epoch % 5) == 0: \n",
    "        clear_output(wait=True)\n",
    "    print(f\"Epoch: {epoch+1}/{EPOCHS}\")\n",
    "    model, opt_state, train_metrics, val_metrics, test_metrics = train_epoch(model, rng_key, opt_state, track_layer=track_layer)\n",
    "    tracker.update(val_metrics[\"accuracy\"])\n",
    "\n",
    "    wandb.log({\n",
    "        \"Train Loss\": train_metrics['loss'], \n",
    "        \"Train Accuracy\": train_metrics['accuracy'], \n",
    "        \"Val Loss\": val_metrics['loss'], \n",
    "        \"Val Accuracy\": val_metrics['accuracy'],\n",
    "        \"Test Loss\": test_metrics['loss'], \n",
    "        \"Test Accuracy\": test_metrics['accuracy'],\n",
    "        \"Max Lambda real\": -jnp.exp(model.neuron_layers[track_layer].Lambda[...,0].min()),\n",
    "        \"Min Lambda real\": -jnp.exp(model.neuron_layers[track_layer].Lambda[...,0].max()),\n",
    "        \"Max Lambda imag\": model.neuron_layers[track_layer].Lambda[...,1].max(),\n",
    "        \"Min Lambda imag\": model.neuron_layers[track_layer].Lambda[...,1].min(),\n",
    "        \"Max C real\": model.dense_layers[track_layer].C[...,0].max(),\n",
    "        \"Min C real\": model.dense_layers[track_layer].C[...,0].min(),\n",
    "        \"Max C imag\": model.dense_layers[track_layer].C[...,1].max(),\n",
    "        \"Min C imag\": model.dense_layers[track_layer].C[...,1].min(),\n",
    "        \"Max Delta\": jnp.exp(model.neuron_layers[track_layer].log_step.max()),\n",
    "        \"Min Delta\": jnp.exp(model.neuron_layers[track_layer].log_step.min()),\n",
    "        \"Val Num Spikes\": val_metrics['num_spikes'], \n",
    "        \"Val Avg Spikes\": val_metrics['avg_spikes'],\n",
    "        \"Test Num Spikes\": test_metrics['num_spikes'], \n",
    "        \"Test Avg Spikes\": test_metrics['avg_spikes'],\n",
    "        \"Learning Rate Standard\": opt_state.inner_states['standard'].inner_state.hyperparams['learning_rate'],\n",
    "        \"Learning Rate SSM\": opt_state.inner_states['ssm'].inner_state.hyperparams['learning_rate'],\n",
    "        \"Counter\": tracker.counter,\n",
    "        }\n",
    "    )\n",
    "\n",
    "    if tracker.counter >= 20:\n",
    "        lr_standard = opt_state.inner_states['standard'].inner_state.hyperparams['learning_rate']\n",
    "        lr_ssm = opt_state.inner_states['ssm'].inner_state.hyperparams['learning_rate']\n",
    "        lr_standard = max(0.2 * lr_standard, 1e-6) \n",
    "        lr_ssm = max(0.2 * lr_ssm, 1e-6)\n",
    "        opt_state.inner_states['standard'].inner_state.hyperparams['learning_rate'] = lr_standard\n",
    "        opt_state.inner_states['ssm'].inner_state.hyperparams['learning_rate'] = lr_ssm\n",
    "        tracker.reset_counter()\n",
    "\n",
    "    if some_nan(model.neuron_layers[track_layer].Lambda):\n",
    "        print(\"Lambda nan\")\n",
    "        break\n",
    "    if some_nan(model.dense_layers[track_layer].C):\n",
    "        print(\"C nan\")\n",
    "        break\n",
    "    if some_nan(model.neuron_layers[track_layer].log_step):\n",
    "        print(\"Delta nan\")\n",
    "        break\n",
    "\n",
    "wandb.finish()"
   ]
  },
  {
   "cell_type": "code",
   "execution_count": 14,
   "metadata": {},
   "outputs": [
    {
     "data": {
      "text/plain": [
       "InjectStatefulHyperparamsState(count=Array(324000, dtype=int32), hyperparams={'b1': Array(0.9, dtype=float32), 'b2': Array(0.999, dtype=float32), 'eps': Array(1.e-08, dtype=float32), 'eps_root': Array(0., dtype=float32), 'learning_rate': Array(4.0000003e-09, dtype=float32), 'weight_decay': Array(1.e-04, dtype=float32)}, hyperparams_states={'learning_rate': WrappedScheduleState(count=Array(324000, dtype=int32))}, inner_state=(ScaleByAdamState(count=Array(324000, dtype=int32), mu=Classifier(\n",
       "  dense_layers=[\n",
       "    RFDense(C=f32[128,1,2], keep_imag=None),\n",
       "    RFDense(C=f32[128,128,2], keep_imag=None)\n",
       "  ],\n",
       "  neuron_layers=[\n",
       "    RF(\n",
       "      Lambda=MaskedNode(),\n",
       "      V=c64[128,128],\n",
       "      log_step=MaskedNode(),\n",
       "      keep_imag=None,\n",
       "      discretization=None,\n",
       "      activation=None,\n",
       "      bidirectional=None,\n",
       "      step_rescale=None\n",
       "    ),\n",
       "    RF(\n",
       "      Lambda=MaskedNode(),\n",
       "      V=c64[128,128],\n",
       "      log_step=MaskedNode(),\n",
       "      keep_imag=None,\n",
       "      discretization=None,\n",
       "      activation=None,\n",
       "      bidirectional=None,\n",
       "      step_rescale=None\n",
       "    )\n",
       "  ],\n",
       "  drop=Dropout(p=None, inference=None),\n",
       "  output_dense=RFDense(C=f32[10,128,2], keep_imag=None),\n",
       "  apply_skip=None,\n",
       "  dense_dropout=None\n",
       "), nu=Classifier(\n",
       "  dense_layers=[\n",
       "    RFDense(C=f32[128,1,2], keep_imag=None),\n",
       "    RFDense(C=f32[128,128,2], keep_imag=None)\n",
       "  ],\n",
       "  neuron_layers=[\n",
       "    RF(\n",
       "      Lambda=MaskedNode(),\n",
       "      V=c64[128,128],\n",
       "      log_step=MaskedNode(),\n",
       "      keep_imag=None,\n",
       "      discretization=None,\n",
       "      activation=None,\n",
       "      bidirectional=None,\n",
       "      step_rescale=None\n",
       "    ),\n",
       "    RF(\n",
       "      Lambda=MaskedNode(),\n",
       "      V=c64[128,128],\n",
       "      log_step=MaskedNode(),\n",
       "      keep_imag=None,\n",
       "      discretization=None,\n",
       "      activation=None,\n",
       "      bidirectional=None,\n",
       "      step_rescale=None\n",
       "    )\n",
       "  ],\n",
       "  drop=Dropout(p=None, inference=None),\n",
       "  output_dense=RFDense(C=f32[10,128,2], keep_imag=None),\n",
       "  apply_skip=None,\n",
       "  dense_dropout=None\n",
       ")), EmptyState(), EmptyState()))"
      ]
     },
     "execution_count": 14,
     "metadata": {},
     "output_type": "execute_result"
    }
   ],
   "source": [
    "opt_state.inner_states['standard'].inner_state#.hyperparams['learning_rate']"
   ]
  },
  {
   "cell_type": "code",
   "execution_count": 15,
   "metadata": {},
   "outputs": [],
   "source": [
    "wandb.finish()"
   ]
  },
  {
   "cell_type": "code",
   "execution_count": 16,
   "metadata": {},
   "outputs": [
    {
     "data": {
      "text/plain": [
       "Array([[[ 27.278822  , -24.290009  ]],\n",
       "\n",
       "       [[  9.04946   ,  -0.60241866]],\n",
       "\n",
       "       [[-12.776334  ,  11.450195  ]],\n",
       "\n",
       "       [[ -1.4368594 ,   4.580741  ]],\n",
       "\n",
       "       [[  2.6500046 ,  -2.7598403 ]],\n",
       "\n",
       "       [[ -7.8545566 ,  -5.8173122 ]],\n",
       "\n",
       "       [[ -7.3235254 ,  -2.611602  ]],\n",
       "\n",
       "       [[  3.063571  ,  -2.6140704 ]],\n",
       "\n",
       "       [[  4.804577  ,  -1.9316543 ]],\n",
       "\n",
       "       [[  4.0230126 ,  -8.148915  ]],\n",
       "\n",
       "       [[  5.3830557 ,   9.766233  ]],\n",
       "\n",
       "       [[ -2.8931901 ,  -9.930417  ]],\n",
       "\n",
       "       [[ -0.23690687,   8.077544  ]],\n",
       "\n",
       "       [[ -5.996838  , -14.634781  ]],\n",
       "\n",
       "       [[  8.636294  ,   1.1379813 ]],\n",
       "\n",
       "       [[  5.762111  ,  -1.2551748 ]],\n",
       "\n",
       "       [[-18.061985  ,  23.016537  ]],\n",
       "\n",
       "       [[ 16.760975  ,  -9.078444  ]],\n",
       "\n",
       "       [[-26.85386   ,   4.6326513 ]],\n",
       "\n",
       "       [[ -3.7941308 ,   7.191519  ]],\n",
       "\n",
       "       [[ -6.526105  ,   6.013699  ]],\n",
       "\n",
       "       [[ -4.328576  ,  14.019147  ]],\n",
       "\n",
       "       [[  4.1364856 ,   0.95749795]],\n",
       "\n",
       "       [[  5.990868  ,  -5.379472  ]],\n",
       "\n",
       "       [[ -1.5768486 ,  -4.3256674 ]],\n",
       "\n",
       "       [[ -0.43220386,   1.4508363 ]],\n",
       "\n",
       "       [[  5.5121737 ,  -2.7661157 ]],\n",
       "\n",
       "       [[  5.2277355 ,  -4.286884  ]],\n",
       "\n",
       "       [[ -3.1648893 ,   3.2867856 ]],\n",
       "\n",
       "       [[ 10.368361  ,  17.451557  ]],\n",
       "\n",
       "       [[ -3.0053658 ,  18.376616  ]],\n",
       "\n",
       "       [[ -4.0011873 ,  -2.386165  ]],\n",
       "\n",
       "       [[-15.785831  , -10.442873  ]],\n",
       "\n",
       "       [[ 14.387891  ,  -3.0984504 ]],\n",
       "\n",
       "       [[-16.913023  , -15.695404  ]],\n",
       "\n",
       "       [[ -4.209221  ,  19.62985   ]],\n",
       "\n",
       "       [[  2.1838443 ,   7.652269  ]],\n",
       "\n",
       "       [[ -1.6653911 ,  -5.8068943 ]],\n",
       "\n",
       "       [[ -1.9044715 ,  -2.3211389 ]],\n",
       "\n",
       "       [[  2.3743906 ,  -1.4431267 ]],\n",
       "\n",
       "       [[ -0.76057327,   3.6968496 ]],\n",
       "\n",
       "       [[ -5.9563346 ,   2.057211  ]],\n",
       "\n",
       "       [[  1.050382  ,  -5.725087  ]],\n",
       "\n",
       "       [[  4.001162  ,  10.940089  ]],\n",
       "\n",
       "       [[ -7.422125  ,   5.5950665 ]],\n",
       "\n",
       "       [[  2.7018483 ,   3.7164707 ]],\n",
       "\n",
       "       [[-13.911753  ,  18.843462  ]],\n",
       "\n",
       "       [[  3.0216057 ,  -2.9596813 ]],\n",
       "\n",
       "       [[  0.7283173 ,   0.14108457]],\n",
       "\n",
       "       [[-10.735758  , -21.726725  ]],\n",
       "\n",
       "       [[  0.1562106 ,  22.17511   ]],\n",
       "\n",
       "       [[ -4.1315455 ,   8.070447  ]],\n",
       "\n",
       "       [[  2.6189287 ,  12.108584  ]],\n",
       "\n",
       "       [[  8.529016  ,  -2.2655609 ]],\n",
       "\n",
       "       [[  1.8055277 ,  -5.716261  ]],\n",
       "\n",
       "       [[  0.06262558,  -2.7058823 ]],\n",
       "\n",
       "       [[ -0.8893315 ,   2.4124906 ]],\n",
       "\n",
       "       [[ -7.7209196 ,   2.1898673 ]],\n",
       "\n",
       "       [[  5.8666162 ,  -0.9196508 ]],\n",
       "\n",
       "       [[ -1.4146563 ,  13.813032  ]],\n",
       "\n",
       "       [[ -7.9532466 ,   6.259929  ]],\n",
       "\n",
       "       [[ -8.889438  ,   1.969359  ]],\n",
       "\n",
       "       [[ -2.5152807 ,  -3.435202  ]],\n",
       "\n",
       "       [[ -0.8014321 ,  -0.4911336 ]],\n",
       "\n",
       "       [[ 16.062841  , -11.985845  ]],\n",
       "\n",
       "       [[  5.85697   ,  12.299147  ]],\n",
       "\n",
       "       [[ 12.1813755 ,  -0.8667128 ]],\n",
       "\n",
       "       [[-10.066709  ,  -2.33582   ]],\n",
       "\n",
       "       [[  5.8106275 ,  -4.66529   ]],\n",
       "\n",
       "       [[ -7.444515  ,   3.8914926 ]],\n",
       "\n",
       "       [[ -3.5175958 ,   5.8744993 ]],\n",
       "\n",
       "       [[ -0.09793884,  -3.788461  ]],\n",
       "\n",
       "       [[  4.95616   ,   0.57336384]],\n",
       "\n",
       "       [[  3.6628172 ,   3.8125913 ]],\n",
       "\n",
       "       [[  3.9652333 ,   2.5048332 ]],\n",
       "\n",
       "       [[ -5.852591  ,   1.3643768 ]],\n",
       "\n",
       "       [[  2.675938  , -12.329043  ]],\n",
       "\n",
       "       [[ -8.821208  ,  -4.5920424 ]],\n",
       "\n",
       "       [[ 14.631818  ,  -0.7016608 ]],\n",
       "\n",
       "       [[  8.252398  ,   6.745618  ]],\n",
       "\n",
       "       [[ 22.076797  ,   2.6455755 ]],\n",
       "\n",
       "       [[-12.523079  ,  19.557095  ]],\n",
       "\n",
       "       [[  9.64207   ,   4.7774286 ]],\n",
       "\n",
       "       [[-13.022738  , -13.57663   ]],\n",
       "\n",
       "       [[ -4.5140247 ,  -1.7147057 ]],\n",
       "\n",
       "       [[  0.17210416,  -1.9686391 ]],\n",
       "\n",
       "       [[  5.062435  ,   4.2719917 ]],\n",
       "\n",
       "       [[  2.969999  ,   1.2763476 ]],\n",
       "\n",
       "       [[ -2.1176996 ,   1.7285188 ]],\n",
       "\n",
       "       [[ -4.973111  ,   0.9172209 ]],\n",
       "\n",
       "       [[ -0.8809926 ,   2.1942954 ]],\n",
       "\n",
       "       [[ -3.6285126 ,  -8.137135  ]],\n",
       "\n",
       "       [[  3.134381  ,  -7.3901997 ]],\n",
       "\n",
       "       [[ -7.9343667 , -20.401464  ]],\n",
       "\n",
       "       [[ -0.86158556,   6.8794994 ]],\n",
       "\n",
       "       [[ -0.69776654,   1.876841  ]],\n",
       "\n",
       "       [[ 16.883442  ,  -3.7383378 ]],\n",
       "\n",
       "       [[ 13.820252  ,   9.860359  ]],\n",
       "\n",
       "       [[ -2.3317382 ,  -0.60243034]],\n",
       "\n",
       "       [[  9.976847  , -12.252573  ]],\n",
       "\n",
       "       [[ -1.0558103 ,  -4.002897  ]],\n",
       "\n",
       "       [[  0.15778913,  -1.6003155 ]],\n",
       "\n",
       "       [[  1.5383213 ,  -1.8566835 ]],\n",
       "\n",
       "       [[ -4.331017  ,   1.4927276 ]],\n",
       "\n",
       "       [[ -2.3384004 ,   3.4076548 ]],\n",
       "\n",
       "       [[ -4.390101  ,  -1.8790455 ]],\n",
       "\n",
       "       [[  5.5612473 ,  -8.505996  ]],\n",
       "\n",
       "       [[ -1.3887612 ,   7.9179826 ]],\n",
       "\n",
       "       [[  5.317727  ,   5.71094   ]],\n",
       "\n",
       "       [[  6.086204  ,  -6.891561  ]],\n",
       "\n",
       "       [[-10.742757  ,   4.0036907 ]],\n",
       "\n",
       "       [[  1.5707746 ,   8.227211  ]],\n",
       "\n",
       "       [[ 18.515596  , -20.930176  ]],\n",
       "\n",
       "       [[  5.7176404 ,  -1.7377335 ]],\n",
       "\n",
       "       [[  3.5706797 ,  -9.121033  ]],\n",
       "\n",
       "       [[  8.334685  ,  -1.1267644 ]],\n",
       "\n",
       "       [[ -4.9622035 , -10.677909  ]],\n",
       "\n",
       "       [[ -8.101257  ,  -1.2969434 ]],\n",
       "\n",
       "       [[  2.247257  ,  -8.173143  ]],\n",
       "\n",
       "       [[ -1.1168345 ,   5.3329635 ]],\n",
       "\n",
       "       [[ -6.9758935 ,  -0.24378048]],\n",
       "\n",
       "       [[ -6.6416607 ,  -5.2564673 ]],\n",
       "\n",
       "       [[ -2.4203162 ,  -4.1236467 ]],\n",
       "\n",
       "       [[ -6.518433  ,  -0.1013827 ]],\n",
       "\n",
       "       [[ -9.996551  ,  -1.2243637 ]],\n",
       "\n",
       "       [[  7.3484144 ,   3.416667  ]],\n",
       "\n",
       "       [[ -2.7043934 ,  -4.500684  ]],\n",
       "\n",
       "       [[  4.1831093 ,   0.87279326]]], dtype=float32)"
      ]
     },
     "execution_count": 16,
     "metadata": {},
     "output_type": "execute_result"
    }
   ],
   "source": [
    "model.dense_layers[0].C"
   ]
  },
  {
   "cell_type": "code",
   "execution_count": 17,
   "metadata": {},
   "outputs": [
    {
     "data": {
      "text/plain": [
       "Array([[-3.7357092],\n",
       "       [-4.874747 ],\n",
       "       [-6.4224486],\n",
       "       [-4.884924 ],\n",
       "       [-2.705266 ],\n",
       "       [-2.9434452],\n",
       "       [-3.7893107],\n",
       "       [-4.139554 ],\n",
       "       [-3.243043 ],\n",
       "       [-3.5081875],\n",
       "       [-3.1385634],\n",
       "       [-6.176812 ],\n",
       "       [-6.3344064],\n",
       "       [-2.4567695],\n",
       "       [-5.0986753],\n",
       "       [-5.975911 ],\n",
       "       [-4.9377522],\n",
       "       [-3.685719 ],\n",
       "       [-3.2294002],\n",
       "       [-6.729537 ],\n",
       "       [-5.57362  ],\n",
       "       [-2.7049546],\n",
       "       [-5.4666924],\n",
       "       [-5.053391 ],\n",
       "       [-1.9798536],\n",
       "       [-5.2588134],\n",
       "       [-5.5401673],\n",
       "       [-5.529785 ],\n",
       "       [-4.81016  ],\n",
       "       [-3.7567284],\n",
       "       [-4.4934936],\n",
       "       [-5.2399135],\n",
       "       [-4.526295 ],\n",
       "       [-6.2889175],\n",
       "       [-3.4541533],\n",
       "       [-2.6547797],\n",
       "       [-5.602897 ],\n",
       "       [-2.6891038],\n",
       "       [-4.4130173],\n",
       "       [-4.475315 ],\n",
       "       [-6.2932897],\n",
       "       [-3.154357 ],\n",
       "       [-4.628452 ],\n",
       "       [-5.5261617],\n",
       "       [-2.8068569],\n",
       "       [-2.375907 ],\n",
       "       [-5.913476 ],\n",
       "       [-3.810271 ],\n",
       "       [-2.8131394],\n",
       "       [-3.5539966],\n",
       "       [-4.2374773],\n",
       "       [-4.400673 ],\n",
       "       [-2.906354 ],\n",
       "       [-3.782295 ],\n",
       "       [-5.3004246],\n",
       "       [-5.798058 ],\n",
       "       [-4.4737577],\n",
       "       [-2.7872026],\n",
       "       [-4.669888 ],\n",
       "       [-3.6448681],\n",
       "       [-4.91066  ],\n",
       "       [-3.367844 ],\n",
       "       [-5.287168 ],\n",
       "       [-4.029609 ],\n",
       "       [-4.832864 ],\n",
       "       [-2.521864 ],\n",
       "       [-5.3560977],\n",
       "       [-6.121386 ],\n",
       "       [-2.7974932],\n",
       "       [-2.1746807],\n",
       "       [-4.9625273],\n",
       "       [-3.384056 ],\n",
       "       [-4.914645 ],\n",
       "       [-2.195932 ],\n",
       "       [-4.8188925],\n",
       "       [-6.57436  ],\n",
       "       [-4.882224 ],\n",
       "       [-2.9146242],\n",
       "       [-4.71154  ],\n",
       "       [-6.7675242],\n",
       "       [-5.1948047],\n",
       "       [-4.099457 ],\n",
       "       [-5.3033195],\n",
       "       [-3.0830524],\n",
       "       [-6.528106 ],\n",
       "       [-6.682799 ],\n",
       "       [-2.1191633],\n",
       "       [-4.836074 ],\n",
       "       [-4.0073066],\n",
       "       [-2.804805 ],\n",
       "       [-7.022755 ],\n",
       "       [-2.4105322],\n",
       "       [-3.2606137],\n",
       "       [-6.5663004],\n",
       "       [-5.970225 ],\n",
       "       [-3.6488385],\n",
       "       [-6.697204 ],\n",
       "       [-2.4360123],\n",
       "       [-6.246787 ],\n",
       "       [-5.431967 ],\n",
       "       [-2.7340744],\n",
       "       [-3.3178427],\n",
       "       [-3.4261568],\n",
       "       [-4.0180655],\n",
       "       [-3.3257892],\n",
       "       [-5.4278107],\n",
       "       [-4.816733 ],\n",
       "       [-4.247453 ],\n",
       "       [-4.7841945],\n",
       "       [-3.946369 ],\n",
       "       [-3.400448 ],\n",
       "       [-3.9245212],\n",
       "       [-3.2265825],\n",
       "       [-4.7758293],\n",
       "       [-5.345985 ],\n",
       "       [-4.8748746],\n",
       "       [-5.5665774],\n",
       "       [-6.191458 ],\n",
       "       [-2.2731152],\n",
       "       [-5.5116296],\n",
       "       [-2.2991016],\n",
       "       [-0.6161351],\n",
       "       [-4.9873614],\n",
       "       [-5.1097283],\n",
       "       [-2.1735969],\n",
       "       [-6.367412 ],\n",
       "       [-4.2642236],\n",
       "       [-5.818314 ]], dtype=float32)"
      ]
     },
     "execution_count": 17,
     "metadata": {},
     "output_type": "execute_result"
    }
   ],
   "source": [
    "model.neuron_layers[0].log_step"
   ]
  },
  {
   "cell_type": "code",
   "execution_count": 18,
   "metadata": {},
   "outputs": [
    {
     "data": {
      "text/plain": [
       "Array([[-9.0397161e-01, -8.0832527e+01],\n",
       "       [-3.2216146e+00, -2.5509569e+01],\n",
       "       [-4.5083728e+00, -1.2406454e+01],\n",
       "       [-2.4737077e+00, -8.0883961e+00],\n",
       "       [-1.8148924e+00, -4.8454223e+00],\n",
       "       [-5.9536886e-01, -2.3399389e+00],\n",
       "       [-1.5766857e+00, -3.5577831e-01],\n",
       "       [-8.5434055e-01, -1.2893005e-01],\n",
       "       [-1.3528788e+00,  1.3121776e-01],\n",
       "       [-2.7094519e+00,  9.8654115e-01],\n",
       "       [-1.0293022e+00,  2.8548605e+00],\n",
       "       [-2.2040851e+00,  4.4087629e+00],\n",
       "       [-2.6379955e+00,  8.0918465e+00],\n",
       "       [-1.3943064e+00,  1.3864461e+01],\n",
       "       [-9.4323391e-01,  2.5502949e+01],\n",
       "       [-4.7012997e-01,  8.0843445e+01],\n",
       "       [-1.8794339e+00, -8.0908989e+01],\n",
       "       [-1.7383585e+00, -2.5623234e+01],\n",
       "       [-5.6506234e-01, -1.3385138e+01],\n",
       "       [-2.6749904e+00, -7.4241285e+00],\n",
       "       [-1.6783075e+00, -3.8154252e+00],\n",
       "       [-1.9912550e+00, -2.8019798e+00],\n",
       "       [-1.2628528e+00, -1.7583909e+00],\n",
       "       [-1.6389081e+00, -1.9251324e-01],\n",
       "       [-1.1850784e+00,  2.8708267e-01],\n",
       "       [-2.7954429e-01,  1.7821994e+00],\n",
       "       [-9.8582792e-01,  2.2398660e+00],\n",
       "       [-2.9249148e+00,  4.3974018e+00],\n",
       "       [-3.0021744e+00,  8.4794741e+00],\n",
       "       [-1.7450796e+00,  1.3658772e+01],\n",
       "       [-1.9226526e+00,  2.5652020e+01],\n",
       "       [-1.0569391e+00,  8.0715988e+01],\n",
       "       [ 3.9826569e-01, -8.1146210e+01],\n",
       "       [-3.2312887e+00, -2.4978697e+01],\n",
       "       [-1.0976989e+00, -1.3642370e+01],\n",
       "       [-1.6388361e+00, -8.0801077e+00],\n",
       "       [-4.2680016e+00, -4.7285967e+00],\n",
       "       [-2.6267812e+00, -2.9083688e+00],\n",
       "       [-5.1328176e-01, -7.7310228e-01],\n",
       "       [-1.1024183e+00, -1.3105083e-01],\n",
       "       [-7.9701370e-01, -4.0657781e-02],\n",
       "       [-2.0668204e+00,  1.1673489e+00],\n",
       "       [-3.3330958e+00,  2.7022686e+00],\n",
       "       [-4.7910461e+00,  4.4881845e+00],\n",
       "       [-2.3699033e+00,  8.4718418e+00],\n",
       "       [-1.8862990e+00,  1.3854111e+01],\n",
       "       [-8.7980042e+00,  2.5326330e+01],\n",
       "       [-4.5275706e-01,  8.0662918e+01],\n",
       "       [-6.9589001e-01, -8.0790520e+01],\n",
       "       [-7.9175889e-01, -2.5327185e+01],\n",
       "       [-2.4217145e+00, -1.3492673e+01],\n",
       "       [-2.4737670e+00, -8.3477097e+00],\n",
       "       [-2.2370694e+00, -4.7307324e+00],\n",
       "       [-2.6410840e+00, -2.7957814e+00],\n",
       "       [-1.4466740e+00, -9.2392230e-01],\n",
       "       [-1.0147814e+00, -3.9176020e-01],\n",
       "       [-7.1158963e-01,  1.4344621e-01],\n",
       "       [-1.9476494e+00,  1.1057589e+00],\n",
       "       [-5.6527025e-01,  2.2016594e+00],\n",
       "       [-2.2146618e+00,  4.9640961e+00],\n",
       "       [-3.9921083e+00,  8.4520025e+00],\n",
       "       [-2.1480517e+00,  1.3880422e+01],\n",
       "       [-1.3428376e+00,  2.5835041e+01],\n",
       "       [ 4.6330079e-02,  8.0491875e+01],\n",
       "       [-2.0734532e-01, -8.0859192e+01],\n",
       "       [-1.6486890e+00, -2.5495232e+01],\n",
       "       [-2.2605467e+00, -1.3742825e+01],\n",
       "       [-4.8121848e+00, -7.4122791e+00],\n",
       "       [-2.1529357e+00, -4.9058623e+00],\n",
       "       [-2.0257142e+00, -3.1184595e+00],\n",
       "       [-1.2933402e+00, -7.2915268e-01],\n",
       "       [-1.2404761e+00,  1.0314470e-01],\n",
       "       [-1.1079581e+00,  3.0082968e-01],\n",
       "       [-1.7859199e+00,  1.1879208e+00],\n",
       "       [-1.6283736e+00,  2.8520832e+00],\n",
       "       [-1.7291460e+00,  4.3468204e+00],\n",
       "       [-3.7869289e+00,  8.3079920e+00],\n",
       "       [-2.0048635e+00,  1.3925710e+01],\n",
       "       [-2.2995400e+00,  2.5509394e+01],\n",
       "       [-5.1789603e+00,  8.0677292e+01],\n",
       "       [-4.9585400e+00, -8.0835289e+01],\n",
       "       [-1.4503206e+00, -2.5409380e+01],\n",
       "       [-2.0803645e+00, -1.3523180e+01],\n",
       "       [-1.7367073e+00, -8.3745651e+00],\n",
       "       [-3.3516970e-01, -4.6522274e+00],\n",
       "       [-1.2987725e+00, -2.5400889e+00],\n",
       "       [-1.7569104e+00, -1.1342293e+00],\n",
       "       [-1.0350642e+00, -8.7376527e-02],\n",
       "       [-1.2398446e+00,  5.7202232e-01],\n",
       "       [-1.5507702e+00,  1.0417712e+00],\n",
       "       [-8.6667620e-02,  1.9190577e+00],\n",
       "       [-2.3010998e+00,  5.0231609e+00],\n",
       "       [-2.3021085e+00,  8.3493176e+00],\n",
       "       [-4.7814174e+00,  1.1968481e+01],\n",
       "       [-1.8252349e+00,  2.5971479e+01],\n",
       "       [-5.5172563e-01,  8.0090057e+01],\n",
       "       [-1.7481942e+00, -8.0565857e+01],\n",
       "       [-1.7266082e+00, -2.5552952e+01],\n",
       "       [-3.8623211e+00, -1.4252669e+01],\n",
       "       [-6.7739210e+00, -7.6726451e+00],\n",
       "       [-1.6941881e+00, -4.9297886e+00],\n",
       "       [-2.1569836e+00, -2.8751543e+00],\n",
       "       [-2.3845606e+00, -1.4831463e+00],\n",
       "       [-1.3367110e+00, -2.3197030e-01],\n",
       "       [-2.2258708e+00,  4.8837331e-01],\n",
       "       [-2.1848857e+00,  1.5594760e+00],\n",
       "       [-3.0026612e+00,  2.3371286e+00],\n",
       "       [-3.1411209e+00,  5.1023889e+00],\n",
       "       [-1.5545344e+00,  8.2824526e+00],\n",
       "       [-1.1385466e+00,  1.4042854e+01],\n",
       "       [-1.5592148e+00,  2.5564285e+01],\n",
       "       [ 5.1367372e-01,  8.0674431e+01],\n",
       "       [-9.9477780e-01, -8.0805397e+01],\n",
       "       [-1.2366264e+00, -2.5475887e+01],\n",
       "       [-2.4317353e+00, -1.3430099e+01],\n",
       "       [-3.8495690e-01, -8.0171967e+00],\n",
       "       [-5.4976660e-01, -3.5554795e+00],\n",
       "       [-1.3578899e-01, -1.2677290e+00],\n",
       "       [-9.7387153e-01, -3.6764479e-01],\n",
       "       [-9.0226793e-01,  1.3749135e-01],\n",
       "       [-1.5462317e+00,  2.4032125e-01],\n",
       "       [-1.6283352e+00,  1.8256029e+00],\n",
       "       [-1.0777653e+00,  2.6984262e+00],\n",
       "       [-1.3077493e+00,  5.0331907e+00],\n",
       "       [-2.1658115e+00,  8.4825258e+00],\n",
       "       [-1.9992200e+00,  1.3226211e+01],\n",
       "       [-6.2085527e-01,  2.5694111e+01],\n",
       "       [ 9.1783188e-02,  8.0824341e+01]], dtype=float32)"
      ]
     },
     "execution_count": 18,
     "metadata": {},
     "output_type": "execute_result"
    }
   ],
   "source": [
    "model.neuron_layers[0].Lambda"
   ]
  },
  {
   "cell_type": "code",
   "execution_count": 19,
   "metadata": {},
   "outputs": [
    {
     "ename": "Exception",
     "evalue": "",
     "output_type": "error",
     "traceback": [
      "\u001b[0;31m---------------------------------------------------------------------------\u001b[0m",
      "\u001b[0;31mException\u001b[0m                                 Traceback (most recent call last)",
      "Cell \u001b[0;32mIn[19], line 1\u001b[0m\n\u001b[0;32m----> 1\u001b[0m \u001b[38;5;28;01mraise\u001b[39;00m \u001b[38;5;167;01mException\u001b[39;00m()\n",
      "\u001b[0;31mException\u001b[0m: "
     ]
    }
   ],
   "source": [
    "raise Exception()"
   ]
  },
  {
   "cell_type": "markdown",
   "metadata": {},
   "source": [
    "# Plots for Surrogat Gradients"
   ]
  },
  {
   "cell_type": "code",
   "execution_count": null,
   "metadata": {},
   "outputs": [
    {
     "data": {
      "text/plain": [
       "[<matplotlib.lines.Line2D at 0x745304525390>]"
      ]
     },
     "execution_count": 25,
     "metadata": {},
     "output_type": "execute_result"
    },
    {
     "data": {
      "image/png": "[encoded data removed]",
      "text/plain": [
       "<Figure size 640x480 with 1 Axes>"
      ]
     },
     "metadata": {},
     "output_type": "display_data"
    }
   ],
   "source": [
    "import matplotlib.pyplot as plt\n",
    "\n",
    "x = jnp.linspace(-3, 3, 100)\n",
    "h = 0.15\n",
    "s = 6\n",
    "sigma = 0.5\n",
    "theta = 0\n",
    "gaussian1 = lambda x, mu, std: jnp.exp(-0.5*((x-mu)/std)**2)\n",
    "\n",
    "df1 = (1+h)*gaussian1(x, theta, sigma) - 2*h*gaussian1(x, theta, s*sigma)\n",
    "\n",
    "plt.plot(x, df1)"
   ]
  },
  {
   "cell_type": "code",
   "execution_count": null,
   "metadata": {},
   "outputs": [
    {
     "data": {
      "text/plain": [
       "[<matplotlib.lines.Line2D at 0x7453044be830>]"
      ]
     },
     "execution_count": 32,
     "metadata": {},
     "output_type": "execute_result"
    },
    {
     "data": {
      "image/png": "[encoded data removed]",
      "text/plain": [
       "<Figure size 640x480 with 1 Axes>"
      ]
     },
     "metadata": {},
     "output_type": "display_data"
    }
   ],
   "source": [
    "import matplotlib.pyplot as plt\n",
    "\n",
    "x = jnp.linspace(-3, 3, 100)\n",
    "h = 0.15\n",
    "s = 6\n",
    "sigma = 0.5\n",
    "theta = 0\n",
    "gaussian2 = lambda x, mu, std: 1/((2*jnp.pi)**(0.5) * std) * jnp.exp(-0.5*((x-mu)/std)**2)\n",
    "\n",
    "df2 = (1+h)*gaussian2(x, theta, sigma) - h*gaussian2(x, sigma, s*sigma) - h*gaussian2(x, -sigma, s*sigma)\n",
    "\n",
    "plt.plot(x, df2)"
   ]
  },
  {
   "cell_type": "code",
   "execution_count": null,
   "metadata": {},
   "outputs": [
    {
     "data": {
      "text/plain": [
       "[<matplotlib.lines.Line2D at 0x745304317ac0>]"
      ]
     },
     "execution_count": 35,
     "metadata": {},
     "output_type": "execute_result"
    },
    {
     "data": {
      "image/png": "[encoded data removed]",
      "text/plain": [
       "<Figure size 640x480 with 1 Axes>"
      ]
     },
     "metadata": {},
     "output_type": "display_data"
    }
   ],
   "source": [
    "import matplotlib.pyplot as plt\n",
    "\n",
    "x = jnp.linspace(-3, 3, 100)\n",
    "h = 0.15\n",
    "s = 6\n",
    "sigma = 0.5\n",
    "theta = 0\n",
    "gaussian2 = lambda x, mu, std: 1/((2*jnp.pi)**(0.5) * std) * jnp.exp(-0.5*((x-mu)/std)**2)\n",
    "\n",
    "df3 = (4 / (jnp.exp(-x) + jnp.exp(x))**2).astype(jnp.float32)\n",
    "\n",
    "plt.plot(x, df3)"
   ]
  },
  {
   "cell_type": "code",
   "execution_count": null,
   "metadata": {},
   "outputs": [
    {
     "data": {
      "text/plain": [
       "Array([-0.1819592 , -0.18563461, -0.18930697, -0.19297318, -0.19663006,\n",
       "       -0.2002744 , -0.20390277, -0.20751178, -0.21109776, -0.21465683,\n",
       "       -0.21818455, -0.22167593, -0.22512493, -0.22852369, -0.23186195,\n",
       "       -0.23512554, -0.23829465, -0.2413413 , -0.24422574, -0.24689226,\n",
       "       -0.24926306, -0.25123146, -0.2526533 , -0.25333732, -0.25303504,\n",
       "       -0.2514304 , -0.24813028, -0.24265866, -0.23445383, -0.22287321,\n",
       "       -0.20720647, -0.18669921, -0.16058876, -0.12815219, -0.08876692,\n",
       "       -0.04197864,  0.01242331,  0.07433322,  0.14326552,  0.218303  ,\n",
       "        0.29807678,  0.38077053,  0.46416557,  0.545722  ,  0.6226941 ,\n",
       "        0.69227916,  0.7517796 ,  0.79877555,  0.8312857 ,  0.84790516,\n",
       "        0.8479053 ,  0.8312856 ,  0.79877543,  0.7517794 ,  0.69227874,\n",
       "        0.62269396,  0.5457219 ,  0.46416557,  0.38077053,  0.29807666,\n",
       "        0.21830288,  0.14326513,  0.07433337,  0.01242319, -0.04197876,\n",
       "       -0.08876692, -0.12815228, -0.16058876, -0.18669921, -0.20720655,\n",
       "       -0.22287326, -0.23445386, -0.24265867, -0.24813029, -0.25143036,\n",
       "       -0.25303504, -0.25333732, -0.25265327, -0.25123143, -0.24926306,\n",
       "       -0.24689226, -0.24422574, -0.2413413 , -0.23829465, -0.23512554,\n",
       "       -0.23186193, -0.22852366, -0.22512488, -0.22167593, -0.21818455,\n",
       "       -0.2146568 , -0.21109776, -0.20751175, -0.20390275, -0.20027438,\n",
       "       -0.19663006, -0.19297318, -0.18930697, -0.18563461, -0.1819592 ],      dtype=float32)"
      ]
     },
     "execution_count": 33,
     "metadata": {},
     "output_type": "execute_result"
    }
   ],
   "source": [
    "df1"
   ]
  },
  {
   "cell_type": "code",
   "execution_count": null,
   "metadata": {},
   "outputs": [
    {
     "data": {
      "text/plain": [
       "Array([-0.02419551, -0.02467065, -0.02514511, -0.02561849, -0.02609037,\n",
       "       -0.0265603 , -0.02702779, -0.02749225, -0.02795301, -0.02840917,\n",
       "       -0.02885954, -0.02930235, -0.02973505, -0.0301537 , -0.03055238,\n",
       "       -0.03092209, -0.03124932, -0.03151398, -0.0316867 , -0.03172521,\n",
       "       -0.03156971, -0.03113728, -0.03031506, -0.02895266, -0.02685388,\n",
       "       -0.02376859, -0.01938523, -0.01332592, -0.00514445,  0.00567004,\n",
       "        0.01968245,  0.03749296,  0.05970845,  0.08690403,  0.11957496,\n",
       "        0.15808219,  0.20259243,  0.25302   ,  0.30897623,  0.3697282 ,\n",
       "        0.43418255,  0.5008891 ,  0.5680768 ,  0.63371813,  0.6956218 ,\n",
       "        0.751551  ,  0.79935265,  0.83709574,  0.8631992 ,  0.8765417 ,\n",
       "        0.87654173,  0.86319906,  0.8370956 ,  0.7993525 ,  0.7515507 ,\n",
       "        0.6956217 ,  0.6337181 ,  0.5680768 ,  0.50088906,  0.4341824 ,\n",
       "        0.36972812,  0.30897593,  0.25302008,  0.2025923 ,  0.15808208,\n",
       "        0.11957496,  0.08690397,  0.05970845,  0.03749296,  0.01968238,\n",
       "        0.00566999, -0.00514447, -0.01332593, -0.01938524, -0.02376857,\n",
       "       -0.02685388, -0.02895266, -0.03031507, -0.03113728, -0.03156971,\n",
       "       -0.03172521, -0.0316867 , -0.03151399, -0.03124932, -0.03092209,\n",
       "       -0.03055238, -0.0301537 , -0.02973504, -0.02930235, -0.02885954,\n",
       "       -0.02840917, -0.02795301, -0.02749225, -0.02702778, -0.0265603 ,\n",
       "       -0.02609037, -0.02561849, -0.02514511, -0.02467065, -0.02419551],      dtype=float32)"
      ]
     },
     "execution_count": 34,
     "metadata": {},
     "output_type": "execute_result"
    }
   ],
   "source": [
    "df2"
   ]
  },
  {
   "cell_type": "code",
   "execution_count": null,
   "metadata": {},
   "outputs": [],
   "source": [
    "import numpy as np\n",
    "import matplotlib.pyplot as plt\n",
    "\n",
    "P0 = lambda x: np.ones_like(x)\n",
    "P1 = lambda x: x\n",
    "P2 = lambda x: (1/2) * (3 * x**2 - 1)\n",
    "P3 = lambda x: (1/2) * (5 * x**3 - 3*x)\n",
    "P4 = lambda x: (1/8) * (35 * x**4 - 30*x**2 + 3)\n",
    "P5 = lambda x: (1/8) * (63 * x**5 - 70*x**3 + 15*x)\n",
    "P6 = lambda x: (1/16) * (231 * x**6 - 315*x**4 + 105*x**2-5)\n",
    "\n",
    "factor = lambda n: (2*n+1) / 2\n",
    "\n",
    "x = np.linspace(-6, 6, 100)\n",
    "x0 = 0.5\n",
    "y = factor(0)*P0(x0)*P0(x) * factor(1)*P1(x0)*P1(x) * factor(2)*P2(x0)*P2(x) * factor(3)*P3(x0)*P3(x) * factor(4)*P4(x0)*P4(x) * factor(5)*P5(x0)*P5(x) * factor(6)*P6(x0)*P6(x)"
   ]
  },
  {
   "cell_type": "code",
   "execution_count": null,
   "metadata": {},
   "outputs": [],
   "source": [
    "plt.plot(x, y)"
   ]
  },
  {
   "cell_type": "code",
   "execution_count": null,
   "metadata": {},
   "outputs": [],
   "source": [
    "plt.plot(x, P6(x))"
   ]
  },
  {
   "cell_type": "code",
   "execution_count": null,
   "metadata": {},
   "outputs": [],
   "source": [
    "def sin(m, x):\n",
    "    # return 2**(0.5) * np.sin(2*np.pi * m * x)\n",
    "    return np.sin(2*np.pi * m * x)\n",
    "\n",
    "def cos(m, x):\n",
    "    # return 2**(0.5) * np.cos(2*np.pi * m * x)\n",
    "    return np.cos(2*np.pi * m * x)\n",
    "\n",
    "def basis(n, x):\n",
    "    if np.abs(n) % 2 == 0:\n",
    "        return sin(n/2, x)\n",
    "    else:\n",
    "        return cos(int(n/2), x)\n",
    "\n",
    "\n",
    "x = np.linspace(-5, 5, 100)\n",
    "x0 = 2.1\n",
    "y = np.sum(np.array([basis(n, x0) * basis(n, x) for n in range(-64, 64, 1)]), axis=0)"
   ]
  },
  {
   "cell_type": "code",
   "execution_count": null,
   "metadata": {},
   "outputs": [],
   "source": [
    "plt.plot(x, y)"
   ]
  },
  {
   "cell_type": "code",
   "execution_count": null,
   "metadata": {},
   "outputs": [],
   "source": [
    "y = [0, 0, 1, 0, 0]\n",
    "np.fft.fft(y*2)"
   ]
  }
 ],
 "metadata": {
  "kernelspec": {
   "display_name": ".venv",
   "language": "python",
   "name": "python3"
  },
  "language_info": {
   "codemirror_mode": {
    "name": "ipython",
    "version": 3
   },
   "file_extension": ".py",
   "mimetype": "text/x-python",
   "name": "python",
   "nbconvert_exporter": "python",
   "pygments_lexer": "ipython3",
   "version": "3.9.5"
  }
 },
 "nbformat": 4,
 "nbformat_minor": 2
}
