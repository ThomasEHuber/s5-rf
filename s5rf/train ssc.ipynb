{
 "cells": [
  {
   "cell_type": "code",
   "execution_count": 2,
   "metadata": {},
   "outputs": [
    {
     "name": "stderr",
     "output_type": "stream",
     "text": [
      "2024-07-03 15:26:30.304368: E external/xla/xla/stream_executor/cuda/cuda_driver.cc:266] failed call to cuInit: CUDA_ERROR_COMPAT_NOT_SUPPORTED_ON_DEVICE: forward compatibility was attempted on non supported HW\n",
      "2024-07-03 15:26:30.304694: E external/xla/xla/stream_executor/cuda/cuda_diagnostics.cc:252] kernel version 535.171.4 does not match DSO version 535.183.1 -- cannot find working devices in this configuration\n"
     ]
    },
    {
     "ename": "RuntimeError",
     "evalue": "Unable to initialize backend 'cuda': FAILED_PRECONDITION: No visible GPU devices. (you may need to uninstall the failing plugin package, or set JAX_PLATFORMS=cpu to skip this backend.)",
     "output_type": "error",
     "traceback": [
      "\u001b[0;31m---------------------------------------------------------------------------\u001b[0m",
      "\u001b[0;31mXlaRuntimeError\u001b[0m                           Traceback (most recent call last)",
      "    \u001b[0;31m[... skipping hidden 1 frame]\u001b[0m\n",
      "File \u001b[0;32m~/Development/resonator-hackathon/.venv/lib/python3.9/site-packages/jax/_src/xla_bridge.py:981\u001b[0m, in \u001b[0;36m_init_backend\u001b[0;34m(platform)\u001b[0m\n\u001b[1;32m    980\u001b[0m logger\u001b[38;5;241m.\u001b[39mdebug(\u001b[38;5;124m\"\u001b[39m\u001b[38;5;124mInitializing backend \u001b[39m\u001b[38;5;124m'\u001b[39m\u001b[38;5;132;01m%s\u001b[39;00m\u001b[38;5;124m'\u001b[39m\u001b[38;5;124m\"\u001b[39m, platform)\n\u001b[0;32m--> 981\u001b[0m backend \u001b[38;5;241m=\u001b[39m \u001b[43mregistration\u001b[49m\u001b[38;5;241;43m.\u001b[39;49m\u001b[43mfactory\u001b[49m\u001b[43m(\u001b[49m\u001b[43m)\u001b[49m\n\u001b[1;32m    982\u001b[0m \u001b[38;5;66;03m# TODO(skye): consider raising more descriptive errors directly from backend\u001b[39;00m\n\u001b[1;32m    983\u001b[0m \u001b[38;5;66;03m# factories instead of returning None.\u001b[39;00m\n",
      "File \u001b[0;32m~/Development/resonator-hackathon/.venv/lib/python3.9/site-packages/jax/_src/xla_bridge.py:679\u001b[0m, in \u001b[0;36mregister_plugin.<locals>.factory\u001b[0;34m()\u001b[0m\n\u001b[1;32m    678\u001b[0m \u001b[38;5;28;01mif\u001b[39;00m distributed\u001b[38;5;241m.\u001b[39mglobal_state\u001b[38;5;241m.\u001b[39mclient \u001b[38;5;129;01mis\u001b[39;00m \u001b[38;5;28;01mNone\u001b[39;00m:\n\u001b[0;32m--> 679\u001b[0m   \u001b[38;5;28;01mreturn\u001b[39;00m \u001b[43mxla_client\u001b[49m\u001b[38;5;241;43m.\u001b[39;49m\u001b[43mmake_c_api_client\u001b[49m\u001b[43m(\u001b[49m\u001b[43mplugin_name\u001b[49m\u001b[43m,\u001b[49m\u001b[43m \u001b[49m\u001b[43mupdated_options\u001b[49m\u001b[43m,\u001b[49m\u001b[43m \u001b[49m\u001b[38;5;28;43;01mNone\u001b[39;49;00m\u001b[43m)\u001b[49m\n\u001b[1;32m    681\u001b[0m distribute_options \u001b[38;5;241m=\u001b[39m {\n\u001b[1;32m    682\u001b[0m     \u001b[38;5;124m'\u001b[39m\u001b[38;5;124mnode_id\u001b[39m\u001b[38;5;124m'\u001b[39m: distributed\u001b[38;5;241m.\u001b[39mglobal_state\u001b[38;5;241m.\u001b[39mprocess_id,\n\u001b[1;32m    683\u001b[0m     \u001b[38;5;124m'\u001b[39m\u001b[38;5;124mnum_nodes\u001b[39m\u001b[38;5;124m'\u001b[39m: distributed\u001b[38;5;241m.\u001b[39mglobal_state\u001b[38;5;241m.\u001b[39mnum_processes,\n\u001b[1;32m    684\u001b[0m }\n",
      "File \u001b[0;32m~/Development/resonator-hackathon/.venv/lib/python3.9/site-packages/jaxlib/xla_client.py:200\u001b[0m, in \u001b[0;36mmake_c_api_client\u001b[0;34m(plugin_name, options, distributed_client)\u001b[0m\n\u001b[1;32m    199\u001b[0m   options \u001b[38;5;241m=\u001b[39m {}\n\u001b[0;32m--> 200\u001b[0m \u001b[38;5;28;01mreturn\u001b[39;00m \u001b[43m_xla\u001b[49m\u001b[38;5;241;43m.\u001b[39;49m\u001b[43mget_c_api_client\u001b[49m\u001b[43m(\u001b[49m\u001b[43mplugin_name\u001b[49m\u001b[43m,\u001b[49m\u001b[43m \u001b[49m\u001b[43moptions\u001b[49m\u001b[43m,\u001b[49m\u001b[43m \u001b[49m\u001b[43mdistributed_client\u001b[49m\u001b[43m)\u001b[49m\n",
      "\u001b[0;31mXlaRuntimeError\u001b[0m: FAILED_PRECONDITION: No visible GPU devices.",
      "\nDuring handling of the above exception, another exception occurred:\n",
      "\u001b[0;31mRuntimeError\u001b[0m                              Traceback (most recent call last)",
      "Cell \u001b[0;32mIn[2], line 17\u001b[0m\n\u001b[1;32m     14\u001b[0m     y2 \u001b[38;5;241m=\u001b[39m jnp\u001b[38;5;241m.\u001b[39mwhere(x \u001b[38;5;241m>\u001b[39m\u001b[38;5;241m=\u001b[39m \u001b[38;5;241m0\u001b[39m, jax\u001b[38;5;241m.\u001b[39mnn\u001b[38;5;241m.\u001b[39mgelu(\u001b[38;5;241m-\u001b[39mx\u001b[38;5;241m+\u001b[39m\u001b[38;5;241m1.1\u001b[39m))\n\u001b[1;32m     15\u001b[0m     \u001b[38;5;28;01mreturn\u001b[39;00m y1 \u001b[38;5;241m+\u001b[39m y2\n\u001b[0;32m---> 17\u001b[0m x \u001b[38;5;241m=\u001b[39m \u001b[43mjnp\u001b[49m\u001b[38;5;241;43m.\u001b[39;49m\u001b[43mlinspace\u001b[49m\u001b[43m(\u001b[49m\u001b[38;5;241;43m-\u001b[39;49m\u001b[38;5;241;43m10\u001b[39;49m\u001b[43m,\u001b[49m\u001b[43m \u001b[49m\u001b[38;5;241;43m10\u001b[39;49m\u001b[43m,\u001b[49m\u001b[43m \u001b[49m\u001b[38;5;241;43m1000\u001b[39;49m\u001b[43m)\u001b[49m\n\u001b[1;32m     18\u001b[0m fig, ax \u001b[38;5;241m=\u001b[39m plt\u001b[38;5;241m.\u001b[39msubplots(\u001b[38;5;241m1\u001b[39m, \u001b[38;5;241m1\u001b[39m)\n\u001b[1;32m     19\u001b[0m ax\u001b[38;5;241m.\u001b[39mplot(x, grad_multi_gaussian(x), label\u001b[38;5;241m=\u001b[39m\u001b[38;5;124m\"\u001b[39m\u001b[38;5;124mmulti gaussian\u001b[39m\u001b[38;5;124m\"\u001b[39m)\n",
      "File \u001b[0;32m~/Development/resonator-hackathon/.venv/lib/python3.9/site-packages/jax/_src/numpy/lax_numpy.py:3503\u001b[0m, in \u001b[0;36mlinspace\u001b[0;34m(start, stop, num, endpoint, retstep, dtype, axis)\u001b[0m\n\u001b[1;32m   3501\u001b[0m num \u001b[38;5;241m=\u001b[39m core\u001b[38;5;241m.\u001b[39mconcrete_or_error(operator\u001b[38;5;241m.\u001b[39mindex, num, \u001b[38;5;124m\"\u001b[39m\u001b[38;5;124m'\u001b[39m\u001b[38;5;124mnum\u001b[39m\u001b[38;5;124m'\u001b[39m\u001b[38;5;124m argument of jnp.linspace\u001b[39m\u001b[38;5;124m\"\u001b[39m)\n\u001b[1;32m   3502\u001b[0m axis \u001b[38;5;241m=\u001b[39m core\u001b[38;5;241m.\u001b[39mconcrete_or_error(operator\u001b[38;5;241m.\u001b[39mindex, axis, \u001b[38;5;124m\"\u001b[39m\u001b[38;5;124m'\u001b[39m\u001b[38;5;124maxis\u001b[39m\u001b[38;5;124m'\u001b[39m\u001b[38;5;124m argument of jnp.linspace\u001b[39m\u001b[38;5;124m\"\u001b[39m)\n\u001b[0;32m-> 3503\u001b[0m \u001b[38;5;28;01mreturn\u001b[39;00m \u001b[43m_linspace\u001b[49m\u001b[43m(\u001b[49m\u001b[43mstart\u001b[49m\u001b[43m,\u001b[49m\u001b[43m \u001b[49m\u001b[43mstop\u001b[49m\u001b[43m,\u001b[49m\u001b[43m \u001b[49m\u001b[43mnum\u001b[49m\u001b[43m,\u001b[49m\u001b[43m \u001b[49m\u001b[43mendpoint\u001b[49m\u001b[43m,\u001b[49m\u001b[43m \u001b[49m\u001b[43mretstep\u001b[49m\u001b[43m,\u001b[49m\u001b[43m \u001b[49m\u001b[43mdtype\u001b[49m\u001b[43m,\u001b[49m\u001b[43m \u001b[49m\u001b[43maxis\u001b[49m\u001b[43m)\u001b[49m\n",
      "    \u001b[0;31m[... skipping hidden 17 frame]\u001b[0m\n",
      "File \u001b[0;32m~/Development/resonator-hackathon/.venv/lib/python3.9/site-packages/jax/_src/xla_bridge.py:906\u001b[0m, in \u001b[0;36mbackends\u001b[0;34m()\u001b[0m\n\u001b[1;32m    904\u001b[0m       \u001b[38;5;28;01melse\u001b[39;00m:\n\u001b[1;32m    905\u001b[0m         err_msg \u001b[38;5;241m+\u001b[39m\u001b[38;5;241m=\u001b[39m \u001b[38;5;124m\"\u001b[39m\u001b[38;5;124m (you may need to uninstall the failing plugin package, or set JAX_PLATFORMS=cpu to skip this backend.)\u001b[39m\u001b[38;5;124m\"\u001b[39m\n\u001b[0;32m--> 906\u001b[0m       \u001b[38;5;28;01mraise\u001b[39;00m \u001b[38;5;167;01mRuntimeError\u001b[39;00m(err_msg)\n\u001b[1;32m    908\u001b[0m \u001b[38;5;28;01massert\u001b[39;00m _default_backend \u001b[38;5;129;01mis\u001b[39;00m \u001b[38;5;129;01mnot\u001b[39;00m \u001b[38;5;28;01mNone\u001b[39;00m\n\u001b[1;32m    909\u001b[0m \u001b[38;5;28;01mif\u001b[39;00m \u001b[38;5;129;01mnot\u001b[39;00m config\u001b[38;5;241m.\u001b[39mjax_platforms\u001b[38;5;241m.\u001b[39mvalue:\n",
      "\u001b[0;31mRuntimeError\u001b[0m: Unable to initialize backend 'cuda': FAILED_PRECONDITION: No visible GPU devices. (you may need to uninstall the failing plugin package, or set JAX_PLATFORMS=cpu to skip this backend.)"
     ]
    }
   ],
   "source": [
    "import matplotlib.pyplot as plt\n",
    "import jax.numpy as jnp\n",
    "import jax\n",
    "jax.config.update(\"jax_platform_name\", \"cpu\")\n",
    "\n",
    "def grad_multi_gaussian(x: jax.Array) -> jax.Array:\n",
    "    h: float=0.15\n",
    "    sigma: float=0.5\n",
    "    s: float=6.\n",
    "    gaussian = lambda x, mu, std: jnp.exp(-0.5*((x-mu)/std)**2) # * 1/((2*jnp.pi)**(0.5) * std)\n",
    "    return (1+h)*gaussian(x, 0, sigma) - h*gaussian(x, sigma, s*sigma) - h*gaussian(x, -sigma, s*sigma)\n",
    "\n",
    "def grad_double_gelu(x: jax.Array) -> jax.Array:\n",
    "    y1 = jnp.where(x < 0, jax.nn.gelu(x+1.1))\n",
    "    y2 = jnp.where(x >= 0, jax.nn.gelu(-x+1.1))\n",
    "    return y1 + y2\n",
    "\n",
    "x = jnp.linspace(-10, 10, 1000)\n",
    "fig, ax = plt.subplots(1, 1)\n",
    "ax.plot(x, grad_multi_gaussian(x), label=\"multi gaussian\")\n",
    "ax.plot(x, grad_double_gelu(x), label=\"double gelu\")\n",
    "fig.legend()\n",
    "plt.show()"
   ]
  },
  {
   "cell_type": "code",
   "execution_count": 1,
   "metadata": {},
   "outputs": [
    {
     "name": "stdout",
     "output_type": "stream",
     "text": [
      "/home/thomas/Development/resonator-hackathon/ssm/equinox\n"
     ]
    },
    {
     "name": "stderr",
     "output_type": "stream",
     "text": [
      "/home/thomas/Development/resonator-hackathon/.venv/lib/python3.10/site-packages/IPython/core/magics/osm.py:417: UserWarning: This is now an optional IPython functionality, setting dhist requires you to install the `pickleshare` library.\n",
      "  self.shell.db['dhist'] = compress_dhist(dhist)[-100:]\n"
     ]
    },
    {
     "data": {
      "text/plain": [
       "'/home/thomas/Development/resonator-hackathon/ssm/equinox'"
      ]
     },
     "execution_count": 1,
     "metadata": {},
     "output_type": "execute_result"
    }
   ],
   "source": [
    "# sets the correct path, don't know how to toggle this once it is set\n",
    "%cd ../\n",
    "%pwd"
   ]
  },
  {
   "cell_type": "code",
   "execution_count": 2,
   "metadata": {},
   "outputs": [
    {
     "name": "stderr",
     "output_type": "stream",
     "text": [
      "/home/thomas/Development/resonator-hackathon/.venv/lib/python3.10/site-packages/tqdm/auto.py:21: TqdmWarning: IProgress not found. Please update jupyter and ipywidgets. See https://ipywidgets.readthedocs.io/en/stable/user_install.html\n",
      "  from .autonotebook import tqdm as notebook_tqdm\n"
     ]
    }
   ],
   "source": [
    "import torch\n",
    "import torchvision\n",
    "from torchvision import datasets, transforms\n",
    "import jax \n",
    "import jax.numpy as jnp\n",
    "import equinox as eqx\n",
    "import optax\n",
    "from tqdm import tqdm\n",
    "from typing import Callable\n",
    "import wandb\n",
    "import math\n",
    "import numpy as np\n",
    "\n",
    "from resonator_s5.classifier import Classifier\n",
    "from functools import partial\n",
    "\n",
    "import tonic\n",
    "import tonic.transforms as transforms\n",
    "from tonic import DiskCachedDataset\n",
    "\n",
    "\n",
    "def downsample(x: np.ndarray) -> np.ndarray:\n",
    "    \"\"\"\n",
    "    Input: (T, 700)\n",
    "    Output: (T, 140)\n",
    "    \"\"\"\n",
    "    x = x.reshape((-1, 14, 50))\n",
    "    x = x.sum(axis=-1)\n",
    "    return x\n",
    "\n",
    "\n",
    "shd_sensor_size = (700, 1, 1)\n",
    "bins = 250\n",
    "pre_cache_transform = transforms.Compose([\n",
    "    # tonic.transforms.ToFrame(\n",
    "    #     sensor_size=(700, 1, 1), # ssc.sensor_size = (700, 1, 1) \n",
    "    #     time_window=1000,\n",
    "    # ),\n",
    "    # tonic.transforms.CropTime(max=100000),\n",
    "    tonic.transforms.Downsample(sensor_size=shd_sensor_size, target_size=(140, 1)),\n",
    "])\n",
    "post_cache_train_transform = transforms.Compose([\n",
    "    # tonic.transforms.UniformNoise(sensor_size=shd_sensor_size, n=1000),\n",
    "    # tonic.transforms.SpatialJitter(\n",
    "    #         sensor_size=shd_sensor_size, \n",
    "    #         var_x=1, \n",
    "    #         var_y=1, \n",
    "    #         clip_outliers=True\n",
    "    #     ),\n",
    "    tonic.transforms.TimeJitter(std=100, clip_negative=True),\n",
    "    # tonic.transforms.DropEvent(p=0.33),\n",
    "    tonic.transforms.ToFrame(\n",
    "        sensor_size=(140, 1, 1), \n",
    "        n_time_bins=bins,\n",
    "    ),\n",
    "    torchvision.transforms.Lambda(lambda x: x[:, 0, :]),\n",
    "    torchvision.transforms.Lambda(lambda x: (x > 0).astype(np.int32)),\n",
    "])\n",
    "post_cache_val_transform = transforms.Compose([\n",
    "    # tonic.transforms.UniformNoise(sensor_size=shd_sensor_size, n=1000),\n",
    "    # tonic.transforms.SpatialJitter(\n",
    "    #         sensor_size=shd_sensor_size, \n",
    "    #         var_x=1, \n",
    "    #         var_y=1, \n",
    "    #         clip_outliers=True\n",
    "    #     ),\n",
    "    # tonic.transforms.TimeJitter(std=100, clip_negative=True),\n",
    "    # tonic.transforms.DropEvent(p=0.33),\n",
    "    tonic.transforms.ToFrame(\n",
    "        sensor_size=(140, 1, 1), \n",
    "        n_time_bins=bins,\n",
    "    ),\n",
    "    torchvision.transforms.Lambda(lambda x: x[:, 0, :]),\n",
    "    torchvision.transforms.Lambda(lambda x: (x > 0).astype(np.int32)),\n",
    "])\n",
    "\n",
    "\n",
    "train_dataset = tonic.datasets.SSC(save_to=\"../../data\", split=\"train\", transform=pre_cache_transform)\n",
    "val_dataset = tonic.datasets.SSC(save_to=\"../../data\", split=\"valid\", transform=pre_cache_transform)\n",
    "test_dataset = tonic.datasets.SSC(save_to=\"../../data\", split=\"test\", transform=pre_cache_transform)\n",
    "\n",
    "train_dataset = DiskCachedDataset(train_dataset, cache_path=\"../../data/tonic/cache/ssc/train\", transform=post_cache_train_transform)\n",
    "val_dataset = DiskCachedDataset(val_dataset, cache_path=\"../../data/tonic/cache/ssc/val\", transform=post_cache_val_transform)\n",
    "test_dataset = DiskCachedDataset(test_dataset, cache_path=\"../../data/tonic/cache/ssc/test\", transform=post_cache_val_transform)\n",
    "\n",
    "\n",
    "BATCH_SIZE = 64\n",
    "NUM_CLASSES = 35\n",
    "EPOCHS = 40\n",
    "\n",
    "train_dataloader = torch.utils.data.DataLoader(train_dataset, batch_size=BATCH_SIZE, shuffle=True)\n",
    "val_dataloader = torch.utils.data.DataLoader(val_dataset, batch_size=BATCH_SIZE, shuffle=False)\n",
    "test_dataloader = torch.utils.data.DataLoader(test_dataset, batch_size=BATCH_SIZE, shuffle=False)"
   ]
  },
  {
   "cell_type": "code",
   "execution_count": 3,
   "metadata": {},
   "outputs": [
    {
     "data": {
      "text/plain": [
       "torch.Size([64, 250, 140])"
      ]
     },
     "execution_count": 3,
     "metadata": {},
     "output_type": "execute_result"
    }
   ],
   "source": [
    "x, y = next(iter(train_dataloader))\n",
    "x.shape"
   ]
  },
  {
   "cell_type": "code",
   "execution_count": 4,
   "metadata": {},
   "outputs": [
    {
     "name": "stderr",
     "output_type": "stream",
     "text": [
      "2024-06-18 20:40:11.552223: W external/xla/xla/service/gpu/nvptx_compiler.cc:760] The NVIDIA driver's CUDA version is 12.3 which is older than the ptxas CUDA version (12.4.131). Because the driver is older than the ptxas version, XLA is disabling parallel compilation, which may slow down compilation. You should update your NVIDIA driver or use the NVIDIA-provided CUDA forward compatibility packages.\n"
     ]
    },
    {
     "data": {
      "text/plain": [
       "Classifier(\n",
       "  dense_layers=[\n",
       "    RFDense(\n",
       "      C=f32[128,140,2],\n",
       "      keep_imag=True,\n",
       "      norm=RadialNorm(\n",
       "        norm=LayerNorm(\n",
       "          shape=(128,),\n",
       "          eps=1e-05,\n",
       "          use_weight=True,\n",
       "          use_bias=True,\n",
       "          weight=f32[128],\n",
       "          bias=f32[128]\n",
       "        ),\n",
       "        keep_imag=True\n",
       "      )\n",
       "    ),\n",
       "    RFDense(\n",
       "      C=f32[128,128,2],\n",
       "      keep_imag=True,\n",
       "      norm=RadialNorm(\n",
       "        norm=LayerNorm(\n",
       "          shape=(128,),\n",
       "          eps=1e-05,\n",
       "          use_weight=True,\n",
       "          use_bias=True,\n",
       "          weight=f32[128],\n",
       "          bias=f32[128]\n",
       "        ),\n",
       "        keep_imag=True\n",
       "      )\n",
       "    ),\n",
       "    RFDense(\n",
       "      C=f32[128,128,2],\n",
       "      keep_imag=True,\n",
       "      norm=RadialNorm(\n",
       "        norm=LayerNorm(\n",
       "          shape=(128,),\n",
       "          eps=1e-05,\n",
       "          use_weight=True,\n",
       "          use_bias=True,\n",
       "          weight=f32[128],\n",
       "          bias=f32[128]\n",
       "        ),\n",
       "        keep_imag=True\n",
       "      )\n",
       "    ),\n",
       "    RFDense(\n",
       "      C=f32[128,128,2],\n",
       "      keep_imag=True,\n",
       "      norm=RadialNorm(\n",
       "        norm=LayerNorm(\n",
       "          shape=(128,),\n",
       "          eps=1e-05,\n",
       "          use_weight=True,\n",
       "          use_bias=True,\n",
       "          weight=f32[128],\n",
       "          bias=f32[128]\n",
       "        ),\n",
       "        keep_imag=True\n",
       "      )\n",
       "    ),\n",
       "    RFDense(\n",
       "      C=f32[128,128,2],\n",
       "      keep_imag=True,\n",
       "      norm=RadialNorm(\n",
       "        norm=LayerNorm(\n",
       "          shape=(128,),\n",
       "          eps=1e-05,\n",
       "          use_weight=True,\n",
       "          use_bias=True,\n",
       "          weight=f32[128],\n",
       "          bias=f32[128]\n",
       "        ),\n",
       "        keep_imag=True\n",
       "      )\n",
       "    ),\n",
       "    RFDense(\n",
       "      C=f32[128,128,2],\n",
       "      keep_imag=True,\n",
       "      norm=RadialNorm(\n",
       "        norm=LayerNorm(\n",
       "          shape=(128,),\n",
       "          eps=1e-05,\n",
       "          use_weight=True,\n",
       "          use_bias=True,\n",
       "          weight=f32[128],\n",
       "          bias=f32[128]\n",
       "        ),\n",
       "        keep_imag=True\n",
       "      )\n",
       "    )\n",
       "  ],\n",
       "  neuron_layers=[\n",
       "    RF(\n",
       "      Lambda=f32[128,2],\n",
       "      V=c64[128,128],\n",
       "      log_step=f32[128,1],\n",
       "      keep_imag=True,\n",
       "      discretization='zoh',\n",
       "      activation='cartesian_spike',\n",
       "      bidirectional=False,\n",
       "      step_rescale=1.0\n",
       "    ),\n",
       "    RF(\n",
       "      Lambda=f32[128,2],\n",
       "      V=c64[128,128],\n",
       "      log_step=f32[128,1],\n",
       "      keep_imag=True,\n",
       "      discretization='zoh',\n",
       "      activation='cartesian_spike',\n",
       "      bidirectional=False,\n",
       "      step_rescale=1.0\n",
       "    ),\n",
       "    RF(\n",
       "      Lambda=f32[128,2],\n",
       "      V=c64[128,128],\n",
       "      log_step=f32[128,1],\n",
       "      keep_imag=True,\n",
       "      discretization='zoh',\n",
       "      activation='cartesian_spike',\n",
       "      bidirectional=False,\n",
       "      step_rescale=1.0\n",
       "    ),\n",
       "    RF(\n",
       "      Lambda=f32[128,2],\n",
       "      V=c64[128,128],\n",
       "      log_step=f32[128,1],\n",
       "      keep_imag=True,\n",
       "      discretization='zoh',\n",
       "      activation='cartesian_spike',\n",
       "      bidirectional=False,\n",
       "      step_rescale=1.0\n",
       "    ),\n",
       "    RF(\n",
       "      Lambda=f32[128,2],\n",
       "      V=c64[128,128],\n",
       "      log_step=f32[128,1],\n",
       "      keep_imag=True,\n",
       "      discretization='zoh',\n",
       "      activation='cartesian_spike',\n",
       "      bidirectional=False,\n",
       "      step_rescale=1.0\n",
       "    ),\n",
       "    RF(\n",
       "      Lambda=f32[128,2],\n",
       "      V=c64[128,128],\n",
       "      log_step=f32[128,1],\n",
       "      keep_imag=True,\n",
       "      discretization='zoh',\n",
       "      activation='cartesian_spike',\n",
       "      bidirectional=False,\n",
       "      step_rescale=1.0\n",
       "    )\n",
       "  ],\n",
       "  drop=Dropout(p=0.2, inference=False),\n",
       "  output_dense=RFDense(\n",
       "    C=f32[35,128,2],\n",
       "    keep_imag=False,\n",
       "    norm=RadialNorm(\n",
       "      norm=LayerNorm(\n",
       "        shape=(35,),\n",
       "        eps=1e-05,\n",
       "        use_weight=True,\n",
       "        use_bias=True,\n",
       "        weight=f32[35],\n",
       "        bias=f32[35]\n",
       "      ),\n",
       "      keep_imag=False\n",
       "    )\n",
       "  ),\n",
       "  li=LI(tau=f32[35], dim=35),\n",
       "  apply_skip=True,\n",
       "  dense_dropout=False\n",
       ")"
      ]
     },
     "execution_count": 4,
     "metadata": {},
     "output_type": "execute_result"
    }
   ],
   "source": [
    "rng_key = jax.random.PRNGKey(42)\n",
    "rng_key, model_key = jax.random.split(rng_key, num=2)\n",
    "\n",
    "model = Classifier(\n",
    "    rng_key=model_key,\n",
    "    input_dim=140,\n",
    "    output_dim=NUM_CLASSES,\n",
    "    num_neurons=[128]*6,\n",
    "    # num_neurons=[4],\n",
    "    num_blocks=[16]*6,\n",
    "    # num_blocks=[1],\n",
    "    dt_min=0.001,\n",
    "    dt_max=0.1,\n",
    "    activation=\"cartesian_spike\",\n",
    "    discretization=\"zoh\",\n",
    "    bidirectional=False,\n",
    "    keep_imag=True,\n",
    "    v_pos=\"before_spike\",\n",
    "    apply_skip=True,\n",
    "    dropout=0.2,\n",
    "    dense_dropout = False,\n",
    ")\n",
    "model"
   ]
  },
  {
   "cell_type": "code",
   "execution_count": 5,
   "metadata": {},
   "outputs": [
    {
     "data": {
      "text/plain": [
       "Array([-19.857405  ,  -5.3542137 ,  -1.9577932 ,  -0.427489  ,\n",
       "         0.42748874,   1.9577956 ,   5.354209  ,  19.85741   ,\n",
       "       -19.857405  ,  -5.3542137 ,  -1.9577932 ,  -0.427489  ,\n",
       "         0.42748874,   1.9577956 ,   5.354209  ,  19.85741   ,\n",
       "       -19.857405  ,  -5.3542137 ,  -1.9577932 ,  -0.427489  ,\n",
       "         0.42748874,   1.9577956 ,   5.354209  ,  19.85741   ,\n",
       "       -19.857405  ,  -5.3542137 ,  -1.9577932 ,  -0.427489  ,\n",
       "         0.42748874,   1.9577956 ,   5.354209  ,  19.85741   ,\n",
       "       -19.857405  ,  -5.3542137 ,  -1.9577932 ,  -0.427489  ,\n",
       "         0.42748874,   1.9577956 ,   5.354209  ,  19.85741   ,\n",
       "       -19.857405  ,  -5.3542137 ,  -1.9577932 ,  -0.427489  ,\n",
       "         0.42748874,   1.9577956 ,   5.354209  ,  19.85741   ,\n",
       "       -19.857405  ,  -5.3542137 ,  -1.9577932 ,  -0.427489  ,\n",
       "         0.42748874,   1.9577956 ,   5.354209  ,  19.85741   ,\n",
       "       -19.857405  ,  -5.3542137 ,  -1.9577932 ,  -0.427489  ,\n",
       "         0.42748874,   1.9577956 ,   5.354209  ,  19.85741   ,\n",
       "       -19.857405  ,  -5.3542137 ,  -1.9577932 ,  -0.427489  ,\n",
       "         0.42748874,   1.9577956 ,   5.354209  ,  19.85741   ,\n",
       "       -19.857405  ,  -5.3542137 ,  -1.9577932 ,  -0.427489  ,\n",
       "         0.42748874,   1.9577956 ,   5.354209  ,  19.85741   ,\n",
       "       -19.857405  ,  -5.3542137 ,  -1.9577932 ,  -0.427489  ,\n",
       "         0.42748874,   1.9577956 ,   5.354209  ,  19.85741   ,\n",
       "       -19.857405  ,  -5.3542137 ,  -1.9577932 ,  -0.427489  ,\n",
       "         0.42748874,   1.9577956 ,   5.354209  ,  19.85741   ,\n",
       "       -19.857405  ,  -5.3542137 ,  -1.9577932 ,  -0.427489  ,\n",
       "         0.42748874,   1.9577956 ,   5.354209  ,  19.85741   ,\n",
       "       -19.857405  ,  -5.3542137 ,  -1.9577932 ,  -0.427489  ,\n",
       "         0.42748874,   1.9577956 ,   5.354209  ,  19.85741   ,\n",
       "       -19.857405  ,  -5.3542137 ,  -1.9577932 ,  -0.427489  ,\n",
       "         0.42748874,   1.9577956 ,   5.354209  ,  19.85741   ,\n",
       "       -19.857405  ,  -5.3542137 ,  -1.9577932 ,  -0.427489  ,\n",
       "         0.42748874,   1.9577956 ,   5.354209  ,  19.85741   ],      dtype=float32)"
      ]
     },
     "execution_count": 5,
     "metadata": {},
     "output_type": "execute_result"
    }
   ],
   "source": [
    "model.neuron_layers[0].Lambda[...,1]"
   ]
  },
  {
   "cell_type": "code",
   "execution_count": 6,
   "metadata": {},
   "outputs": [
    {
     "data": {
      "text/plain": [
       "Array([0.02857143, 0.02857143, 0.02857143, 0.02857143, 0.02857143,\n",
       "       0.02857143, 0.02857143, 0.02857143, 0.02857143, 0.02857143,\n",
       "       0.02857143, 0.02857143, 0.02857143, 0.02857143, 0.02857143,\n",
       "       0.02857143, 0.02857143, 0.02857143, 0.02857143, 0.02857143,\n",
       "       0.02857143, 0.02857143, 0.02857143, 0.02857143, 0.02857143,\n",
       "       0.02857143, 0.02857143, 0.02857143, 0.02857143, 0.02857143,\n",
       "       0.02857143, 0.02857143, 0.02857143, 0.02857143, 0.02857143],      dtype=float32)"
      ]
     },
     "execution_count": 6,
     "metadata": {},
     "output_type": "execute_result"
    }
   ],
   "source": [
    "jnp.exp(model.forward(jnp.ones([4, 140]), rng_key=rng_key))"
   ]
  },
  {
   "cell_type": "code",
   "execution_count": 7,
   "metadata": {},
   "outputs": [],
   "source": [
    "from resonator_s5.optax_helper import init_optimizer\n",
    "\n",
    "decay_steps = EPOCHS * len(train_dataloader)\n",
    "# if PERMUTE:\n",
    "# standard_lr = 0.004\n",
    "# ssm_lr = 0.001\n",
    "# else:\n",
    "standard_lr = 0.004\n",
    "ssm_lr = 0.004\n",
    "\n",
    "optim, opt_state = init_optimizer(model, standard_lr=standard_lr, ssm_lr=ssm_lr, weight_decay=0.0001, decay_steps=decay_steps)"
   ]
  },
  {
   "cell_type": "code",
   "execution_count": 8,
   "metadata": {},
   "outputs": [
    {
     "data": {
      "text/plain": [
       "Array(0.004, dtype=float32)"
      ]
     },
     "execution_count": 8,
     "metadata": {},
     "output_type": "execute_result"
    }
   ],
   "source": [
    "opt_state.inner_states['standard'].inner_state.hyperparams['learning_rate']"
   ]
  },
  {
   "cell_type": "code",
   "execution_count": 9,
   "metadata": {},
   "outputs": [],
   "source": [
    "def loss_fn(model: Classifier, train_key, x: jax.Array, y: jax.Array):\n",
    "    call = partial(model.forward, rng_key=train_key)\n",
    "    batched_model = jax.vmap(call, in_axes=(0), out_axes=(0)) # add batch dim to x only\n",
    "    logits = batched_model(x)\n",
    "    loss = optax.softmax_cross_entropy(logits=logits, labels=y)\n",
    "    loss = loss.mean()\n",
    "    return loss, (logits)\n",
    "\n",
    "\n",
    "# x , y = next(iter(test_dataloader))\n",
    "# x = jnp.asarray(x.numpy())\n",
    "# y = jnp.asarray(y.numpy())\n",
    "\n",
    "# value, grads = eqx.filter_value_and_grad(loss_fn, has_aux=True)(model, rng_key, x, y)\n",
    "\n",
    "# lrs = []\n",
    "# for _ in tqdm(range(1080)):\n",
    "#     updates, opt_state = optim.update(grads, opt_state, model)\n",
    "#     lr = opt_state.inner_states['standard'].inner_state.hyperparams['learning_rate']\n",
    "#     lrs.append(lr)\n",
    "\n",
    "# model = eqx.apply_updates(model, updates)"
   ]
  },
  {
   "cell_type": "code",
   "execution_count": 10,
   "metadata": {},
   "outputs": [
    {
     "data": {
      "text/plain": [
       "[<matplotlib.lines.Line2D at 0x7a82004e21d0>]"
      ]
     },
     "execution_count": 10,
     "metadata": {},
     "output_type": "execute_result"
    },
    {
     "data": {
      "image/png": "[encoded data removed]",
      "text/plain": [
       "<Figure size 640x480 with 1 Axes>"
      ]
     },
     "metadata": {},
     "output_type": "display_data"
    }
   ],
   "source": [
    "import matplotlib.pyplot as plt\n",
    "x = jnp.linspace(0, 1080*300)\n",
    "y = 0.008 * (1-1e-6)/2 * (1 + jnp.cos(jnp.pi * x/decay_steps)) + 1e-6\n",
    "plt.plot(x, y)"
   ]
  },
  {
   "cell_type": "code",
   "execution_count": 11,
   "metadata": {},
   "outputs": [
    {
     "data": {
      "text/plain": [
       "Array(0.004, dtype=float32)"
      ]
     },
     "execution_count": 11,
     "metadata": {},
     "output_type": "execute_result"
    }
   ],
   "source": [
    "opt_state.inner_states['standard'].inner_state.hyperparams['learning_rate']"
   ]
  },
  {
   "cell_type": "code",
   "execution_count": 12,
   "metadata": {},
   "outputs": [
    {
     "data": {
      "text/plain": [
       "True"
      ]
     },
     "execution_count": 12,
     "metadata": {},
     "output_type": "execute_result"
    }
   ],
   "source": [
    "import numpy as np\n",
    "\n",
    "x = np.array([2, 1])\n",
    "np.all(x != 0)"
   ]
  },
  {
   "cell_type": "code",
   "execution_count": 13,
   "metadata": {},
   "outputs": [],
   "source": [
    "# @jax.jit\n",
    "def cut_mix(x: np.ndarray, y: np.ndarray) -> tuple[np.ndarray, np.ndarray]:\n",
    "    \"\"\"\n",
    "    Performs cut mix augmentation: https://arxiv.org/pdf/1905.04899 but for a sequence.\n",
    "    Code is deliberately in numpy and not jax.numpy cause it is simpler to work on mutable arrays.\n",
    "    Input:\n",
    "        x: (B, T, C)\n",
    "        y: (B, 1)\n",
    "    Output:\n",
    "        x: (B, T, C)\n",
    "        y: (B, 1)\n",
    "    \"\"\"\n",
    "    B = x.shape[0]\n",
    "    T = x.shape[1]\n",
    "    success = False\n",
    "    while not success:\n",
    "        lmbda = np.random.uniform(low=0, high=1)\n",
    "        rand_index = np.random.permutation(np.arange(B))\n",
    "        \n",
    "        t1 = np.random.randint(low=0, high=T)\n",
    "        t2 = int(T * (1-lmbda))\n",
    "        \n",
    "        t1_cut = np.clip((t1 - t2) // 2, a_min=0, a_max=T)\n",
    "        t2_cut = np.clip((t1 + t2) // 2, a_min=0, a_max=T)\n",
    "\n",
    "        # lmbda = 1 - t2/T\n",
    "        num_spikes2 = x[rand_index, t1_cut:t2_cut, :].sum(axis=(1, 2))\n",
    "        num_spikes1 = x.sum(axis=(1, 2)) - x[:, t1_cut:t2_cut, :].sum(axis=(1, 2))\n",
    "\n",
    "        success = np.all((num_spikes2 + num_spikes1) != 0)\n",
    "\n",
    "    x[:, t1_cut:t2_cut, :] = x[rand_index, t1_cut:t2_cut, :]\n",
    "    \n",
    "    lmbda = num_spikes1 / (num_spikes1 + num_spikes2)\n",
    "    lmbda = lmbda[:, None]\n",
    "    y = lmbda * y + (1-lmbda) * y[rand_index]\n",
    "    return x, y\n",
    "\n",
    "# @jax.jit\n",
    "def one_hot(x: np.ndarray) -> np.ndarray:\n",
    "    \"\"\"\n",
    "    Input: (B)\n",
    "    Output: (B)\n",
    "    \"\"\"\n",
    "    # x = x[:, 0]\n",
    "    x = np.eye(NUM_CLASSES)[x]\n",
    "    # x = x[:, None]\n",
    "    return x \n",
    "\n",
    "\n",
    "def prep_data(x: torch.Tensor, y: torch.Tensor, training: bool) -> tuple[jax.Array, jax.Array]:\n",
    "    x = x.numpy()\n",
    "    y = y.numpy()\n",
    "    y = one_hot(y)\n",
    "    if training: \n",
    "        x, y = cut_mix(x, y)\n",
    "    x = jnp.asarray(x)\n",
    "    y = jnp.asarray(y)\n",
    "    return x, y"
   ]
  },
  {
   "cell_type": "code",
   "execution_count": 14,
   "metadata": {},
   "outputs": [
    {
     "data": {
      "text/plain": [
       "array([0, 1, 2, 3, 4, 5, 6, 7, 8, 9])"
      ]
     },
     "execution_count": 14,
     "metadata": {},
     "output_type": "execute_result"
    }
   ],
   "source": [
    "x = np.arange(10)\n",
    "np.clip(a=x, a_min=np.ones_like(x), a_max=x)\n",
    "x"
   ]
  },
  {
   "cell_type": "code",
   "execution_count": 15,
   "metadata": {},
   "outputs": [
    {
     "data": {
      "text/plain": [
       "array([1., 1., 2., 3., 4., 5., 6., 7., 8., 9.])"
      ]
     },
     "execution_count": 15,
     "metadata": {},
     "output_type": "execute_result"
    }
   ],
   "source": [
    "np.stack([np.arange(10), np.ones(10)]).max(axis=0)"
   ]
  },
  {
   "cell_type": "code",
   "execution_count": 16,
   "metadata": {},
   "outputs": [],
   "source": [
    "@eqx.filter_jit\n",
    "def train_step(model: Classifier, train_key, opt_state, x: jax.Array, y: jax.Array):\n",
    "    (loss_value, (logits)), grads = eqx.filter_value_and_grad(loss_fn, has_aux=True)(model, train_key, x, y)\n",
    "    updates, opt_state = optim.update(grads, opt_state, model)\n",
    "    model = eqx.apply_updates(model, updates)\n",
    "    metrics = {\n",
    "        'loss': loss_value,\n",
    "        'accuracy': jnp.mean(jnp.argmax(logits, axis=-1) == jnp.argmax(y, axis=-1)),\n",
    "    }\n",
    "    return model, opt_state, metrics\n",
    "\n",
    "\n",
    "@eqx.filter_jit\n",
    "def test_step(model: Classifier, rng_key, x, y):\n",
    "    loss_value, (logits) = loss_fn(model, rng_key, x, y)\n",
    "    metrics = {\n",
    "        'loss': loss_value,\n",
    "        # 'accuracy': jnp.mean(jnp.argmax(logits, -1) == y),\n",
    "        'accuracy': jnp.mean(jnp.argmax(logits, axis=-1) == jnp.argmax(y, axis=-1)),\n",
    "    }\n",
    "    return metrics\n",
    "\n",
    "\n",
    "@eqx.filter_jit\n",
    "def get_average_spikes(model: Classifier, x: jax.Array, layer: int) -> tuple[jax.Array, jax.Array]:\n",
    "    spikes_fn = partial(model.gen_spikes, layer=layer)\n",
    "    spikes = jax.vmap(spikes_fn)(x)\n",
    "    return (jnp.sum(spikes) / BATCH_SIZE).astype(jnp.int32), jnp.mean(spikes)\n",
    "\n",
    "\n",
    "def train_epoch(model: Classifier, rng_key, opt_state, track_layer: int):\n",
    "    train_metrics = {\n",
    "        'loss': [],\n",
    "        'accuracy': [],\n",
    "    }\n",
    "    val_metrics = {\n",
    "        'loss': [],\n",
    "        'accuracy': [],\n",
    "        'num_spikes': [],\n",
    "        'avg_spikes': [],\n",
    "    }\n",
    "    test_metrics = {\n",
    "        'loss': [],\n",
    "        'accuracy': [],\n",
    "        'num_spikes': [],\n",
    "        'avg_spikes': [],\n",
    "    }\n",
    "    print(\"training\")\n",
    "    for x, y in tqdm(train_dataloader):\n",
    "        x, y = prep_data(x, y, training=True)\n",
    "        rng_key, train_key = jax.random.split(rng_key, num=2)\n",
    "        model, opt_state, metric = train_step(model, train_key, opt_state, x, y)\n",
    "        train_metrics['loss'].append(metric['loss'])\n",
    "        train_metrics['accuracy'].append(metric['accuracy'])\n",
    "\n",
    "        # wandb.log({\n",
    "        #      \"loss\": metric[\"loss\"],\n",
    "        #      \"acc\": metric[\"accuracy\"],\n",
    "        # })\n",
    "    \n",
    "    print(\"validating\")\n",
    "    inference_model = eqx.nn.inference_mode(model)\n",
    "    for x, y in tqdm(val_dataloader): \n",
    "        x, y = prep_data(x, y, training=False)\n",
    "        metric = test_step(inference_model, rng_key, x, y)\n",
    "        val_metrics['loss'].append(metric['loss'])\n",
    "        val_metrics['accuracy'].append(metric['accuracy'])\n",
    "\n",
    "    num_spikes, avg_spikes = get_average_spikes(model, x, layer=track_layer)\n",
    "    val_metrics['num_spikes'] = num_spikes\n",
    "    val_metrics['avg_spikes'] = avg_spikes\n",
    "\n",
    "    print(\"testing\")\n",
    "    for x, y in tqdm(test_dataloader): \n",
    "        x, y = prep_data(x, y, training=False)\n",
    "        metric = test_step(inference_model, rng_key, x, y)\n",
    "        test_metrics['loss'].append(metric['loss'])\n",
    "        test_metrics['accuracy'].append(metric['accuracy'])\n",
    "    \n",
    "    num_spikes, avg_spikes = get_average_spikes(model, x, layer=track_layer)\n",
    "    test_metrics['num_spikes'] = num_spikes\n",
    "    test_metrics['avg_spikes'] = avg_spikes\n",
    "\n",
    "    train_metrics['loss'] = jnp.array(train_metrics['loss']).mean()\n",
    "    train_metrics['accuracy'] = jnp.array(train_metrics['accuracy']).mean()\n",
    "    val_metrics['loss'] = jnp.array(val_metrics['loss']).mean()\n",
    "    val_metrics['accuracy'] = jnp.array(val_metrics['accuracy']).mean()\n",
    "    test_metrics['loss'] = jnp.array(test_metrics['loss']).mean()\n",
    "    test_metrics['accuracy'] = jnp.array(test_metrics['accuracy']).mean()\n",
    "\n",
    "    print(f\"Train Loss: {train_metrics['loss']}\")\n",
    "    print(f\"Train Acc: {train_metrics['accuracy']}\")\n",
    "    print(f\"Val Loss: {val_metrics['loss']}\")\n",
    "    print(f\"Val Acc: {val_metrics['accuracy']}\")\n",
    "    print(f\"Test Loss: {test_metrics['loss']}\")\n",
    "    print(f\"Test Acc: {test_metrics['accuracy']}\\n\")\n",
    "\n",
    "    return model, opt_state, train_metrics, val_metrics, test_metrics"
   ]
  },
  {
   "cell_type": "code",
   "execution_count": 17,
   "metadata": {},
   "outputs": [],
   "source": [
    "class BestAccTracker:\n",
    "    def __init__(self) -> None:\n",
    "        self.counter = 0\n",
    "        self.best_acc = 0\n",
    "    \n",
    "    def update(self, x: jax.Array | float) -> None:\n",
    "        if x > self.best_acc:\n",
    "            self.best_acc = x\n",
    "            self.reset_counter()\n",
    "        else:\n",
    "            self.counter += 1\n",
    "    \n",
    "    def reset_counter(self) -> None:\n",
    "        self.counter = 0\n",
    "\n",
    "\n",
    "\n",
    "some_nan = lambda x: np.sum(np.isnan(x)) > 0"
   ]
  },
  {
   "cell_type": "code",
   "execution_count": 18,
   "metadata": {},
   "outputs": [
    {
     "name": "stdout",
     "output_type": "stream",
     "text": [
      "Epoch: 36/40\n",
      "training\n"
     ]
    },
    {
     "name": "stderr",
     "output_type": "stream",
     "text": [
      "100%|██████████| 1180/1180 [03:38<00:00,  5.39it/s]\n"
     ]
    },
    {
     "name": "stdout",
     "output_type": "stream",
     "text": [
      "validating\n"
     ]
    },
    {
     "name": "stderr",
     "output_type": "stream",
     "text": [
      "100%|██████████| 156/156 [00:24<00:00,  6.37it/s]\n"
     ]
    },
    {
     "name": "stdout",
     "output_type": "stream",
     "text": [
      "testing\n"
     ]
    },
    {
     "name": "stderr",
     "output_type": "stream",
     "text": [
      "100%|██████████| 319/319 [00:50<00:00,  6.32it/s]\n"
     ]
    },
    {
     "name": "stdout",
     "output_type": "stream",
     "text": [
      "Train Loss: 1.8907749652862549\n",
      "Train Acc: 0.5677251219749451\n",
      "Val Loss: 0.9449732899665833\n",
      "Val Acc: 0.7369956374168396\n",
      "Test Loss: 0.9973435401916504\n",
      "Test Acc: 0.7210912704467773\n",
      "\n",
      "Epoch: 37/40\n",
      "training\n"
     ]
    },
    {
     "name": "stderr",
     "output_type": "stream",
     "text": [
      "100%|██████████| 1180/1180 [03:40<00:00,  5.36it/s]\n"
     ]
    },
    {
     "name": "stdout",
     "output_type": "stream",
     "text": [
      "validating\n"
     ]
    },
    {
     "name": "stderr",
     "output_type": "stream",
     "text": [
      "100%|██████████| 156/156 [00:24<00:00,  6.32it/s]\n"
     ]
    },
    {
     "name": "stdout",
     "output_type": "stream",
     "text": [
      "testing\n"
     ]
    },
    {
     "name": "stderr",
     "output_type": "stream",
     "text": [
      "100%|██████████| 319/319 [00:50<00:00,  6.33it/s]\n"
     ]
    },
    {
     "name": "stdout",
     "output_type": "stream",
     "text": [
      "Train Loss: 1.8831005096435547\n",
      "Train Acc: 0.568606972694397\n",
      "Val Loss: 0.9365272521972656\n",
      "Val Acc: 0.739489734172821\n",
      "Test Loss: 0.9889496564865112\n",
      "Test Acc: 0.722315788269043\n",
      "\n",
      "Epoch: 38/40\n",
      "training\n"
     ]
    },
    {
     "name": "stderr",
     "output_type": "stream",
     "text": [
      "100%|██████████| 1180/1180 [03:42<00:00,  5.31it/s]\n"
     ]
    },
    {
     "name": "stdout",
     "output_type": "stream",
     "text": [
      "validating\n"
     ]
    },
    {
     "name": "stderr",
     "output_type": "stream",
     "text": [
      "100%|██████████| 156/156 [00:24<00:00,  6.31it/s]\n"
     ]
    },
    {
     "name": "stdout",
     "output_type": "stream",
     "text": [
      "testing\n"
     ]
    },
    {
     "name": "stderr",
     "output_type": "stream",
     "text": [
      "100%|██████████| 319/319 [00:51<00:00,  6.24it/s]\n"
     ]
    },
    {
     "name": "stdout",
     "output_type": "stream",
     "text": [
      "Train Loss: 1.8890082836151123\n",
      "Train Acc: 0.5696371793746948\n",
      "Val Loss: 0.9351481795310974\n",
      "Val Acc: 0.7401054501533508\n",
      "Test Loss: 0.9884647130966187\n",
      "Test Acc: 0.7217345833778381\n",
      "\n",
      "Epoch: 39/40\n",
      "training\n"
     ]
    },
    {
     "name": "stderr",
     "output_type": "stream",
     "text": [
      "100%|██████████| 1180/1180 [03:43<00:00,  5.28it/s]\n"
     ]
    },
    {
     "name": "stdout",
     "output_type": "stream",
     "text": [
      "validating\n"
     ]
    },
    {
     "name": "stderr",
     "output_type": "stream",
     "text": [
      "100%|██████████| 156/156 [00:25<00:00,  6.21it/s]\n"
     ]
    },
    {
     "name": "stdout",
     "output_type": "stream",
     "text": [
      "testing\n"
     ]
    },
    {
     "name": "stderr",
     "output_type": "stream",
     "text": [
      "100%|██████████| 319/319 [00:51<00:00,  6.22it/s]\n"
     ]
    },
    {
     "name": "stdout",
     "output_type": "stream",
     "text": [
      "Train Loss: 1.8880962133407593\n",
      "Train Acc: 0.5721795558929443\n",
      "Val Loss: 0.9339594841003418\n",
      "Val Acc: 0.7393994331359863\n",
      "Test Loss: 0.987754762172699\n",
      "Test Acc: 0.7223713397979736\n",
      "\n",
      "Epoch: 40/40\n",
      "training\n"
     ]
    },
    {
     "name": "stderr",
     "output_type": "stream",
     "text": [
      "100%|██████████| 1180/1180 [03:42<00:00,  5.30it/s]\n"
     ]
    },
    {
     "name": "stdout",
     "output_type": "stream",
     "text": [
      "validating\n"
     ]
    },
    {
     "name": "stderr",
     "output_type": "stream",
     "text": [
      "100%|██████████| 156/156 [00:25<00:00,  6.23it/s]\n"
     ]
    },
    {
     "name": "stdout",
     "output_type": "stream",
     "text": [
      "testing\n"
     ]
    },
    {
     "name": "stderr",
     "output_type": "stream",
     "text": [
      "100%|██████████| 319/319 [00:51<00:00,  6.25it/s]\n"
     ]
    },
    {
     "name": "stdout",
     "output_type": "stream",
     "text": [
      "Train Loss: 1.8990693092346191\n",
      "Train Acc: 0.5683712363243103\n",
      "Val Loss: 0.9362149238586426\n",
      "Val Acc: 0.7399002313613892\n",
      "Test Loss: 0.9872126579284668\n",
      "Test Acc: 0.7220774292945862\n",
      "\n"
     ]
    },
    {
     "data": {
      "text/html": [
       "<style>\n",
       "    table.wandb td:nth-child(1) { padding: 0 10px; text-align: left ; width: auto;} td:nth-child(2) {text-align: left ; width: 100%}\n",
       "    .wandb-row { display: flex; flex-direction: row; flex-wrap: wrap; justify-content: flex-start; width: 100% }\n",
       "    .wandb-col { display: flex; flex-direction: column; flex-basis: 100%; flex: 1; padding: 10px; }\n",
       "    </style>\n",
       "<div class=\"wandb-row\"><div class=\"wandb-col\"><h3>Run history:</h3><br/><table class=\"wandb\"><tr><td>Counter</td><td>▁▁▁▁▁▁▁▁▂▁▁▂▁▂▁▁▂▄▁▁▁▂▁▁▂▁▂▄▁▂▄▁▂▄▁▂▄▅▇█</td></tr><tr><td>Learning Rate SSM</td><td>██████▇▇▇▇▇▇▆▆▆▆▅▅▅▅▄▄▄▃▃▃▃▂▂▂▂▂▂▁▁▁▁▁▁▁</td></tr><tr><td>Learning Rate Standard</td><td>██████▇▇▇▇▇▇▆▆▆▆▅▅▅▅▄▄▄▃▃▃▃▂▂▂▂▂▂▁▁▁▁▁▁▁</td></tr><tr><td>Max C imag</td><td>▁▂▃▄▄▄▄▄▄▅▅▅▅▆▆▆▆▇▇▇▇▇▇▇████████████████</td></tr><tr><td>Max C real</td><td>▁▂▂▃▃▃▄▄▄▅▅▅▅▆▆▆▆▆▇▇▇▇▇▇▇▇██████████████</td></tr><tr><td>Max Delta</td><td>▁▃▆▇▇▇▇▇▇▇▇▇██▇█████████████████████████</td></tr><tr><td>Max Lambda imag</td><td>▁▂▂▄▃▄▃▅▇▆▅▆▆██▇▇▇▇▇▇▇▇███▇▇▇▇▇██▇██████</td></tr><tr><td>Max Lambda real</td><td>▇▁▂▃▅▇█▇█▇▇▇▇██▇▇▇▆▆▆▆▆▄▃▄▄▃▃▃▃▃▂▂▂▂▂▂▂▂</td></tr><tr><td>Max Tau</td><td>▁▃▄▅▄▇▇▇▇▆▇▆▇▇█▇█▇▇▇▇▇▇▇▇▇▇▇▇▇▇▇▇▇▇▇▇▇▇▇</td></tr><tr><td>Min C imag</td><td>█▇▆▆▅▅▅▅▄▄▃▃▃▂▂▂▂▂▂▂▂▁▁▁▁▁▁▁▁▁▁▁▁▁▁▁▁▁▁▁</td></tr><tr><td>Min C real</td><td>██▇▆▆▆▅▅▅▄▄▃▃▂▂▂▂▂▂▂▂▂▂▁▁▁▁▁▁▁▁▁▁▁▁▁▁▁▁▁</td></tr><tr><td>Min Delta</td><td>█▇▆▅▄▄▄▃▃▂▂▂▂▂▂▂▁▁▁▁▁▁▁▁▂▁▂▂▂▂▂▂▂▂▂▂▂▂▂▂</td></tr><tr><td>Min Lambda imag</td><td>█▇▅▄▂▂▂▁▂▃▃▃▃▄▃▄▄▃▃▄▄▄▄▄▄▄▄▄▄▄▄▄▄▄▄▄▄▄▄▄</td></tr><tr><td>Min Lambda real</td><td>██▇▇▇▆▆▅▄▄▃▃▃▃▃▃▂▂▂▂▁▂▂▂▂▁▁▁▁▁▁▁▁▁▁▁▁▁▁▁</td></tr><tr><td>Min Tau</td><td>▂▁▂▄▇▇▇██▇▇▇█▇▇▇▇▇▇█▇█▇▇████████████████</td></tr><tr><td>Test Accuracy</td><td>▁▄▅▅▆▆▇▇▇▇▇▇▇▇▇▇▇▇██████████████████████</td></tr><tr><td>Test Avg Spikes</td><td>▆▆█▇▅▃▅▄▆▃▂▅▃▁▄▂▄▂▂▂▃▃▄▄▄▄▄▄▅▄▅▅▅▅▅▅▅▅▅▅</td></tr><tr><td>Test Loss</td><td>█▅▄▄▃▃▃▂▂▂▂▂▂▂▂▂▂▂▂▁▁▁▁▁▁▁▁▁▁▁▁▁▁▁▁▁▁▁▁▁</td></tr><tr><td>Test Num Spikes</td><td>▆▆█▇▅▃▅▄▆▃▂▅▃▁▄▂▄▂▂▂▃▃▄▄▄▄▄▄▅▄▅▅▅▅▅▅▅▅▅▅</td></tr><tr><td>Train Accuracy</td><td>▁▄▅▅▅▆▆▆▆▇▇▇▇▇▇▇▇▇▇▇▇██▇████████████████</td></tr><tr><td>Train Loss</td><td>█▅▄▄▃▃▃▃▃▂▂▂▂▂▂▂▂▂▂▂▂▂▁▂▁▁▁▁▁▁▁▁▁▁▁▁▁▁▁▁</td></tr><tr><td>Val Accuracy</td><td>▁▄▅▅▆▆▇▇▇▇▇▇▇▇▇▇▇▇██████████████████████</td></tr><tr><td>Val Avg Spikes</td><td>▄▅█▇▅▂▅▄▆▃▂▄▃▁▄▁▃▂▃▃▃▃▄▄▃▄▄▄▅▄▄▄▄▄▄▅▄▄▄▄</td></tr><tr><td>Val Loss</td><td>█▅▄▄▃▃▃▂▂▂▂▂▂▂▂▂▂▂▂▁▁▁▁▁▁▁▁▁▁▁▁▁▁▁▁▁▁▁▁▁</td></tr><tr><td>Val Num Spikes</td><td>▄▅█▇▅▂▅▄▆▃▂▄▃▁▄▁▃▂▃▃▃▃▄▄▃▄▄▄▅▄▄▄▄▄▄▅▄▄▄▄</td></tr></table><br/></div><div class=\"wandb-col\"><h3>Run summary:</h3><br/><table class=\"wandb\"><tr><td>Counter</td><td>5</td></tr><tr><td>Learning Rate SSM</td><td>0.0</td></tr><tr><td>Learning Rate Standard</td><td>0.0</td></tr><tr><td>Max C imag</td><td>3.24594</td></tr><tr><td>Max C real</td><td>2.8136</td></tr><tr><td>Max Delta</td><td>0.42187</td></tr><tr><td>Max Lambda imag</td><td>20.39694</td></tr><tr><td>Max Lambda real</td><td>-0.35942</td></tr><tr><td>Max Tau</td><td>0.8822</td></tr><tr><td>Min C imag</td><td>-2.905</td></tr><tr><td>Min C real</td><td>-3.55613</td></tr><tr><td>Min Delta</td><td>0.00059</td></tr><tr><td>Min Lambda imag</td><td>-20.50189</td></tr><tr><td>Min Lambda real</td><td>-11.67289</td></tr><tr><td>Min Tau</td><td>0.72781</td></tr><tr><td>Test Accuracy</td><td>0.72208</td></tr><tr><td>Test Avg Spikes</td><td>0.08399</td></tr><tr><td>Test Loss</td><td>0.98721</td></tr><tr><td>Test Num Spikes</td><td>1259</td></tr><tr><td>Train Accuracy</td><td>0.56837</td></tr><tr><td>Train Loss</td><td>1.89907</td></tr><tr><td>Val Accuracy</td><td>0.7399</td></tr><tr><td>Val Avg Spikes</td><td>0.08165</td></tr><tr><td>Val Loss</td><td>0.93621</td></tr><tr><td>Val Num Spikes</td><td>2490</td></tr></table><br/></div></div>"
      ],
      "text/plain": [
       "<IPython.core.display.HTML object>"
      ]
     },
     "metadata": {},
     "output_type": "display_data"
    },
    {
     "data": {
      "text/html": [
       " View run <strong style=\"color:#cdcd00\">hopeful-wave-19</strong> at: <a href='https://wandb.ai/thomashuber/S5_SSC/runs/akvstwec' target=\"_blank\">https://wandb.ai/thomashuber/S5_SSC/runs/akvstwec</a><br/> View project at: <a href='https://wandb.ai/thomashuber/S5_SSC' target=\"_blank\">https://wandb.ai/thomashuber/S5_SSC</a><br/>Synced 5 W&B file(s), 0 media file(s), 0 artifact file(s) and 0 other file(s)"
      ],
      "text/plain": [
       "<IPython.core.display.HTML object>"
      ]
     },
     "metadata": {},
     "output_type": "display_data"
    },
    {
     "data": {
      "text/html": [
       "Find logs at: <code>./wandb/run-20240618_204020-akvstwec/logs</code>"
      ],
      "text/plain": [
       "<IPython.core.display.HTML object>"
      ]
     },
     "metadata": {},
     "output_type": "display_data"
    }
   ],
   "source": [
    "from IPython.display import clear_output\n",
    "\n",
    "wandb.init(project=\"S5_SSC\")\n",
    "\n",
    "rng_key = jax.random.PRNGKey(42)\n",
    "tracker = BestAccTracker()\n",
    "track_layer = 0\n",
    "for epoch in range(EPOCHS):\n",
    "    if (epoch % 5) == 0: \n",
    "        clear_output(wait=True)\n",
    "    print(f\"Epoch: {epoch+1}/{EPOCHS}\")\n",
    "    model, opt_state, train_metrics, val_metrics, test_metrics = train_epoch(model, rng_key, opt_state, track_layer=track_layer)\n",
    "    tracker.update(val_metrics[\"accuracy\"])\n",
    "\n",
    "    wandb.log({\n",
    "        \"Train Loss\": train_metrics['loss'], \n",
    "        \"Train Accuracy\": train_metrics['accuracy'], \n",
    "        \"Val Loss\": val_metrics['loss'], \n",
    "        \"Val Accuracy\": val_metrics['accuracy'],\n",
    "        \"Test Loss\": test_metrics['loss'], \n",
    "        \"Test Accuracy\": test_metrics['accuracy'],\n",
    "        \"Max Lambda real\": -jnp.exp(model.neuron_layers[track_layer].Lambda[...,0].min()),\n",
    "        \"Min Lambda real\": -jnp.exp(model.neuron_layers[track_layer].Lambda[...,0].max()),\n",
    "        \"Max Lambda imag\": model.neuron_layers[track_layer].Lambda[...,1].max(),\n",
    "        \"Min Lambda imag\": model.neuron_layers[track_layer].Lambda[...,1].min(),\n",
    "        \"Max C real\": model.dense_layers[track_layer].C[...,0].max(),\n",
    "        \"Min C real\": model.dense_layers[track_layer].C[...,0].min(),\n",
    "        \"Max C imag\": model.dense_layers[track_layer].C[...,1].max(),\n",
    "        \"Min C imag\": model.dense_layers[track_layer].C[...,1].min(),\n",
    "        \"Max Delta\": jnp.exp(model.neuron_layers[track_layer].log_step.max()),\n",
    "        \"Min Delta\": jnp.exp(model.neuron_layers[track_layer].log_step.min()),\n",
    "        \"Val Num Spikes\": val_metrics['num_spikes'], \n",
    "        \"Val Avg Spikes\": val_metrics['avg_spikes'],\n",
    "        \"Test Num Spikes\": test_metrics['num_spikes'], \n",
    "        \"Test Avg Spikes\": test_metrics['avg_spikes'],\n",
    "        \"Learning Rate Standard\": opt_state.inner_states['standard'].inner_state.hyperparams['learning_rate'],\n",
    "        \"Learning Rate SSM\": opt_state.inner_states['ssm'].inner_state.hyperparams['learning_rate'],\n",
    "        \"Counter\": tracker.counter,\n",
    "        \"Max Tau\": jnp.exp(model.li.tau.max()),\n",
    "        \"Min Tau\": jnp.exp(model.li.tau.min()),\n",
    "        }\n",
    "    )\n",
    "\n",
    "    if tracker.counter >= 20:\n",
    "        lr_standard = opt_state.inner_states['standard'].inner_state.hyperparams['learning_rate']\n",
    "        lr_ssm = opt_state.inner_states['ssm'].inner_state.hyperparams['learning_rate']\n",
    "        lr_standard = max(0.2 * lr_standard, 1e-6) \n",
    "        lr_ssm = max(0.2 * lr_ssm, 1e-6)\n",
    "        opt_state.inner_states['standard'].inner_state.hyperparams['learning_rate'] = lr_standard\n",
    "        opt_state.inner_states['ssm'].inner_state.hyperparams['learning_rate'] = lr_ssm\n",
    "        tracker.reset_counter()\n",
    "\n",
    "    if some_nan(model.neuron_layers[track_layer].Lambda):\n",
    "        print(\"Lambda nan\")\n",
    "        break\n",
    "    if some_nan(model.dense_layers[track_layer].C):\n",
    "        print(\"C nan\")\n",
    "        break\n",
    "    if some_nan(model.neuron_layers[track_layer].log_step):\n",
    "        print(\"Delta nan\")\n",
    "        break\n",
    "\n",
    "wandb.finish()"
   ]
  },
  {
   "cell_type": "code",
   "execution_count": 19,
   "metadata": {},
   "outputs": [],
   "source": [
    "wandb.finish()"
   ]
  },
  {
   "cell_type": "code",
   "execution_count": 20,
   "metadata": {},
   "outputs": [
    {
     "data": {
      "text/plain": [
       "InjectStatefulHyperparamsState(count=Array(47200, dtype=int32), hyperparams={'b1': Array(0.9, dtype=float32), 'b2': Array(0.999, dtype=float32), 'eps': Array(1.e-08, dtype=float32), 'eps_root': Array(0., dtype=float32), 'learning_rate': Array(4.0000003e-09, dtype=float32), 'weight_decay': Array(1.e-04, dtype=float32)}, hyperparams_states={'learning_rate': WrappedScheduleState(count=Array(47200, dtype=int32))}, inner_state=(ScaleByAdamState(count=Array(47200, dtype=int32), mu=Classifier(\n",
       "  dense_layers=[\n",
       "    RFDense(\n",
       "      C=f32[128,140,2],\n",
       "      keep_imag=None,\n",
       "      norm=RadialNorm(\n",
       "        norm=LayerNorm(\n",
       "          shape=(128,),\n",
       "          eps=1e-05,\n",
       "          use_weight=True,\n",
       "          use_bias=True,\n",
       "          weight=f32[128],\n",
       "          bias=f32[128]\n",
       "        ),\n",
       "        keep_imag=None\n",
       "      )\n",
       "    ),\n",
       "    RFDense(\n",
       "      C=f32[128,128,2],\n",
       "      keep_imag=None,\n",
       "      norm=RadialNorm(\n",
       "        norm=LayerNorm(\n",
       "          shape=(128,),\n",
       "          eps=1e-05,\n",
       "          use_weight=True,\n",
       "          use_bias=True,\n",
       "          weight=f32[128],\n",
       "          bias=f32[128]\n",
       "        ),\n",
       "        keep_imag=None\n",
       "      )\n",
       "    ),\n",
       "    RFDense(\n",
       "      C=f32[128,128,2],\n",
       "      keep_imag=None,\n",
       "      norm=RadialNorm(\n",
       "        norm=LayerNorm(\n",
       "          shape=(128,),\n",
       "          eps=1e-05,\n",
       "          use_weight=True,\n",
       "          use_bias=True,\n",
       "          weight=f32[128],\n",
       "          bias=f32[128]\n",
       "        ),\n",
       "        keep_imag=None\n",
       "      )\n",
       "    ),\n",
       "    RFDense(\n",
       "      C=f32[128,128,2],\n",
       "      keep_imag=None,\n",
       "      norm=RadialNorm(\n",
       "        norm=LayerNorm(\n",
       "          shape=(128,),\n",
       "          eps=1e-05,\n",
       "          use_weight=True,\n",
       "          use_bias=True,\n",
       "          weight=f32[128],\n",
       "          bias=f32[128]\n",
       "        ),\n",
       "        keep_imag=None\n",
       "      )\n",
       "    ),\n",
       "    RFDense(\n",
       "      C=f32[128,128,2],\n",
       "      keep_imag=None,\n",
       "      norm=RadialNorm(\n",
       "        norm=LayerNorm(\n",
       "          shape=(128,),\n",
       "          eps=1e-05,\n",
       "          use_weight=True,\n",
       "          use_bias=True,\n",
       "          weight=f32[128],\n",
       "          bias=f32[128]\n",
       "        ),\n",
       "        keep_imag=None\n",
       "      )\n",
       "    ),\n",
       "    RFDense(\n",
       "      C=f32[128,128,2],\n",
       "      keep_imag=None,\n",
       "      norm=RadialNorm(\n",
       "        norm=LayerNorm(\n",
       "          shape=(128,),\n",
       "          eps=1e-05,\n",
       "          use_weight=True,\n",
       "          use_bias=True,\n",
       "          weight=f32[128],\n",
       "          bias=f32[128]\n",
       "        ),\n",
       "        keep_imag=None\n",
       "      )\n",
       "    )\n",
       "  ],\n",
       "  neuron_layers=[\n",
       "    RF(\n",
       "      Lambda=MaskedNode(),\n",
       "      V=c64[128,128],\n",
       "      log_step=MaskedNode(),\n",
       "      keep_imag=None,\n",
       "      discretization=None,\n",
       "      activation=None,\n",
       "      bidirectional=None,\n",
       "      step_rescale=None\n",
       "    ),\n",
       "    RF(\n",
       "      Lambda=MaskedNode(),\n",
       "      V=c64[128,128],\n",
       "      log_step=MaskedNode(),\n",
       "      keep_imag=None,\n",
       "      discretization=None,\n",
       "      activation=None,\n",
       "      bidirectional=None,\n",
       "      step_rescale=None\n",
       "    ),\n",
       "    RF(\n",
       "      Lambda=MaskedNode(),\n",
       "      V=c64[128,128],\n",
       "      log_step=MaskedNode(),\n",
       "      keep_imag=None,\n",
       "      discretization=None,\n",
       "      activation=None,\n",
       "      bidirectional=None,\n",
       "      step_rescale=None\n",
       "    ),\n",
       "    RF(\n",
       "      Lambda=MaskedNode(),\n",
       "      V=c64[128,128],\n",
       "      log_step=MaskedNode(),\n",
       "      keep_imag=None,\n",
       "      discretization=None,\n",
       "      activation=None,\n",
       "      bidirectional=None,\n",
       "      step_rescale=None\n",
       "    ),\n",
       "    RF(\n",
       "      Lambda=MaskedNode(),\n",
       "      V=c64[128,128],\n",
       "      log_step=MaskedNode(),\n",
       "      keep_imag=None,\n",
       "      discretization=None,\n",
       "      activation=None,\n",
       "      bidirectional=None,\n",
       "      step_rescale=None\n",
       "    ),\n",
       "    RF(\n",
       "      Lambda=MaskedNode(),\n",
       "      V=c64[128,128],\n",
       "      log_step=MaskedNode(),\n",
       "      keep_imag=None,\n",
       "      discretization=None,\n",
       "      activation=None,\n",
       "      bidirectional=None,\n",
       "      step_rescale=None\n",
       "    )\n",
       "  ],\n",
       "  drop=Dropout(p=None, inference=None),\n",
       "  output_dense=RFDense(\n",
       "    C=f32[35,128,2],\n",
       "    keep_imag=None,\n",
       "    norm=RadialNorm(\n",
       "      norm=LayerNorm(\n",
       "        shape=(35,),\n",
       "        eps=1e-05,\n",
       "        use_weight=True,\n",
       "        use_bias=True,\n",
       "        weight=f32[35],\n",
       "        bias=f32[35]\n",
       "      ),\n",
       "      keep_imag=None\n",
       "    )\n",
       "  ),\n",
       "  li=LI(tau=f32[35], dim=None),\n",
       "  apply_skip=None,\n",
       "  dense_dropout=None\n",
       "), nu=Classifier(\n",
       "  dense_layers=[\n",
       "    RFDense(\n",
       "      C=f32[128,140,2],\n",
       "      keep_imag=None,\n",
       "      norm=RadialNorm(\n",
       "        norm=LayerNorm(\n",
       "          shape=(128,),\n",
       "          eps=1e-05,\n",
       "          use_weight=True,\n",
       "          use_bias=True,\n",
       "          weight=f32[128],\n",
       "          bias=f32[128]\n",
       "        ),\n",
       "        keep_imag=None\n",
       "      )\n",
       "    ),\n",
       "    RFDense(\n",
       "      C=f32[128,128,2],\n",
       "      keep_imag=None,\n",
       "      norm=RadialNorm(\n",
       "        norm=LayerNorm(\n",
       "          shape=(128,),\n",
       "          eps=1e-05,\n",
       "          use_weight=True,\n",
       "          use_bias=True,\n",
       "          weight=f32[128],\n",
       "          bias=f32[128]\n",
       "        ),\n",
       "        keep_imag=None\n",
       "      )\n",
       "    ),\n",
       "    RFDense(\n",
       "      C=f32[128,128,2],\n",
       "      keep_imag=None,\n",
       "      norm=RadialNorm(\n",
       "        norm=LayerNorm(\n",
       "          shape=(128,),\n",
       "          eps=1e-05,\n",
       "          use_weight=True,\n",
       "          use_bias=True,\n",
       "          weight=f32[128],\n",
       "          bias=f32[128]\n",
       "        ),\n",
       "        keep_imag=None\n",
       "      )\n",
       "    ),\n",
       "    RFDense(\n",
       "      C=f32[128,128,2],\n",
       "      keep_imag=None,\n",
       "      norm=RadialNorm(\n",
       "        norm=LayerNorm(\n",
       "          shape=(128,),\n",
       "          eps=1e-05,\n",
       "          use_weight=True,\n",
       "          use_bias=True,\n",
       "          weight=f32[128],\n",
       "          bias=f32[128]\n",
       "        ),\n",
       "        keep_imag=None\n",
       "      )\n",
       "    ),\n",
       "    RFDense(\n",
       "      C=f32[128,128,2],\n",
       "      keep_imag=None,\n",
       "      norm=RadialNorm(\n",
       "        norm=LayerNorm(\n",
       "          shape=(128,),\n",
       "          eps=1e-05,\n",
       "          use_weight=True,\n",
       "          use_bias=True,\n",
       "          weight=f32[128],\n",
       "          bias=f32[128]\n",
       "        ),\n",
       "        keep_imag=None\n",
       "      )\n",
       "    ),\n",
       "    RFDense(\n",
       "      C=f32[128,128,2],\n",
       "      keep_imag=None,\n",
       "      norm=RadialNorm(\n",
       "        norm=LayerNorm(\n",
       "          shape=(128,),\n",
       "          eps=1e-05,\n",
       "          use_weight=True,\n",
       "          use_bias=True,\n",
       "          weight=f32[128],\n",
       "          bias=f32[128]\n",
       "        ),\n",
       "        keep_imag=None\n",
       "      )\n",
       "    )\n",
       "  ],\n",
       "  neuron_layers=[\n",
       "    RF(\n",
       "      Lambda=MaskedNode(),\n",
       "      V=c64[128,128],\n",
       "      log_step=MaskedNode(),\n",
       "      keep_imag=None,\n",
       "      discretization=None,\n",
       "      activation=None,\n",
       "      bidirectional=None,\n",
       "      step_rescale=None\n",
       "    ),\n",
       "    RF(\n",
       "      Lambda=MaskedNode(),\n",
       "      V=c64[128,128],\n",
       "      log_step=MaskedNode(),\n",
       "      keep_imag=None,\n",
       "      discretization=None,\n",
       "      activation=None,\n",
       "      bidirectional=None,\n",
       "      step_rescale=None\n",
       "    ),\n",
       "    RF(\n",
       "      Lambda=MaskedNode(),\n",
       "      V=c64[128,128],\n",
       "      log_step=MaskedNode(),\n",
       "      keep_imag=None,\n",
       "      discretization=None,\n",
       "      activation=None,\n",
       "      bidirectional=None,\n",
       "      step_rescale=None\n",
       "    ),\n",
       "    RF(\n",
       "      Lambda=MaskedNode(),\n",
       "      V=c64[128,128],\n",
       "      log_step=MaskedNode(),\n",
       "      keep_imag=None,\n",
       "      discretization=None,\n",
       "      activation=None,\n",
       "      bidirectional=None,\n",
       "      step_rescale=None\n",
       "    ),\n",
       "    RF(\n",
       "      Lambda=MaskedNode(),\n",
       "      V=c64[128,128],\n",
       "      log_step=MaskedNode(),\n",
       "      keep_imag=None,\n",
       "      discretization=None,\n",
       "      activation=None,\n",
       "      bidirectional=None,\n",
       "      step_rescale=None\n",
       "    ),\n",
       "    RF(\n",
       "      Lambda=MaskedNode(),\n",
       "      V=c64[128,128],\n",
       "      log_step=MaskedNode(),\n",
       "      keep_imag=None,\n",
       "      discretization=None,\n",
       "      activation=None,\n",
       "      bidirectional=None,\n",
       "      step_rescale=None\n",
       "    )\n",
       "  ],\n",
       "  drop=Dropout(p=None, inference=None),\n",
       "  output_dense=RFDense(\n",
       "    C=f32[35,128,2],\n",
       "    keep_imag=None,\n",
       "    norm=RadialNorm(\n",
       "      norm=LayerNorm(\n",
       "        shape=(35,),\n",
       "        eps=1e-05,\n",
       "        use_weight=True,\n",
       "        use_bias=True,\n",
       "        weight=f32[35],\n",
       "        bias=f32[35]\n",
       "      ),\n",
       "      keep_imag=None\n",
       "    )\n",
       "  ),\n",
       "  li=LI(tau=f32[35], dim=None),\n",
       "  apply_skip=None,\n",
       "  dense_dropout=None\n",
       ")), EmptyState(), EmptyState()))"
      ]
     },
     "execution_count": 20,
     "metadata": {},
     "output_type": "execute_result"
    }
   ],
   "source": [
    "opt_state.inner_states['standard'].inner_state#.hyperparams['learning_rate']"
   ]
  },
  {
   "cell_type": "code",
   "execution_count": 21,
   "metadata": {},
   "outputs": [
    {
     "data": {
      "text/plain": [
       "Array([[[ 0.5612016 ,  0.24061255],\n",
       "        [ 0.09483978,  0.18571655],\n",
       "        [-0.14064732,  1.1366497 ],\n",
       "        ...,\n",
       "        [-0.12996866, -0.49846843],\n",
       "        [ 0.5404331 , -0.8442935 ],\n",
       "        [-0.07383841, -1.1170496 ]],\n",
       "\n",
       "       [[-0.8365227 , -0.57221526],\n",
       "        [-0.22534093,  0.858842  ],\n",
       "        [ 1.7784208 , -0.7163357 ],\n",
       "        ...,\n",
       "        [-0.00929436,  0.32410818],\n",
       "        [ 0.30637085,  0.35014072],\n",
       "        [-0.21457562,  0.70076746]],\n",
       "\n",
       "       [[ 0.0574888 , -0.8637586 ],\n",
       "        [-0.64097637, -1.2214905 ],\n",
       "        [ 1.0241233 , -0.99533176],\n",
       "        ...,\n",
       "        [ 0.4151726 ,  0.37747246],\n",
       "        [-0.07557665,  0.8084335 ],\n",
       "        [ 0.08066111,  0.6787049 ]],\n",
       "\n",
       "       ...,\n",
       "\n",
       "       [[-0.02335975, -0.01589949],\n",
       "        [ 1.0454738 ,  0.15441346],\n",
       "        [ 0.6679944 ,  0.12644981],\n",
       "        ...,\n",
       "        [ 0.890263  , -0.18520698],\n",
       "        [ 1.2244103 , -0.5750573 ],\n",
       "        [ 0.90659887, -0.8349935 ]],\n",
       "\n",
       "       [[-0.12791693, -0.9422269 ],\n",
       "        [ 0.13146015,  0.21181895],\n",
       "        [-0.75444496, -0.6741837 ],\n",
       "        ...,\n",
       "        [ 0.39684898, -0.43957326],\n",
       "        [ 0.31970918, -0.02437881],\n",
       "        [ 0.6781248 , -0.9292114 ]],\n",
       "\n",
       "       [[ 2.0025277 , -1.0452111 ],\n",
       "        [ 1.1385145 , -2.692539  ],\n",
       "        [ 0.8111474 , -0.7746177 ],\n",
       "        ...,\n",
       "        [-0.18134487,  0.29233983],\n",
       "        [-0.4284134 ,  0.67920154],\n",
       "        [-0.70767653,  0.71370226]]], dtype=float32)"
      ]
     },
     "execution_count": 21,
     "metadata": {},
     "output_type": "execute_result"
    }
   ],
   "source": [
    "model.dense_layers[0].C"
   ]
  },
  {
   "cell_type": "code",
   "execution_count": 22,
   "metadata": {},
   "outputs": [
    {
     "data": {
      "text/plain": [
       "Array([[-3.446196 ],\n",
       "       [-4.0523095],\n",
       "       [-7.414656 ],\n",
       "       [-5.1316743],\n",
       "       [-1.3078438],\n",
       "       [-2.9639528],\n",
       "       [-4.534997 ],\n",
       "       [-4.8199096],\n",
       "       [-3.684426 ],\n",
       "       [-2.5869176],\n",
       "       [-2.8252864],\n",
       "       [-7.1607327],\n",
       "       [-6.4738727],\n",
       "       [-1.9090204],\n",
       "       [-5.038769 ],\n",
       "       [-5.634285 ],\n",
       "       [-4.373396 ],\n",
       "       [-3.2266722],\n",
       "       [-3.5400832],\n",
       "       [-6.808921 ],\n",
       "       [-5.312518 ],\n",
       "       [-2.4331856],\n",
       "       [-5.678553 ],\n",
       "       [-6.637503 ],\n",
       "       [-3.8560238],\n",
       "       [-3.8020449],\n",
       "       [-5.8722577],\n",
       "       [-5.9108486],\n",
       "       [-5.7063017],\n",
       "       [-2.7967448],\n",
       "       [-4.461726 ],\n",
       "       [-5.138158 ],\n",
       "       [-3.979386 ],\n",
       "       [-6.501038 ],\n",
       "       [-2.7595172],\n",
       "       [-2.5429664],\n",
       "       [-6.3601737],\n",
       "       [-2.4241514],\n",
       "       [-3.5795934],\n",
       "       [-3.5895524],\n",
       "       [-5.7809215],\n",
       "       [-2.6502302],\n",
       "       [-3.5499427],\n",
       "       [-6.4383698],\n",
       "       [-1.4990965],\n",
       "       [-2.0045643],\n",
       "       [-5.1629157],\n",
       "       [-4.1397977],\n",
       "       [-2.1568875],\n",
       "       [-2.456764 ],\n",
       "       [-3.8187678],\n",
       "       [-3.8870225],\n",
       "       [-1.0826956],\n",
       "       [-3.3857217],\n",
       "       [-6.231103 ],\n",
       "       [-5.263215 ],\n",
       "       [-4.3421097],\n",
       "       [-2.909832 ],\n",
       "       [-5.3679504],\n",
       "       [-3.0119793],\n",
       "       [-5.416758 ],\n",
       "       [-2.6866624],\n",
       "       [-5.365711 ],\n",
       "       [-3.9169164],\n",
       "       [-3.5328777],\n",
       "       [-1.7460529],\n",
       "       [-5.2148657],\n",
       "       [-7.25576  ],\n",
       "       [-1.9497968],\n",
       "       [-1.450781 ],\n",
       "       [-6.200205 ],\n",
       "       [-3.1439044],\n",
       "       [-5.152275 ],\n",
       "       [-2.9368362],\n",
       "       [-4.742053 ],\n",
       "       [-6.709483 ],\n",
       "       [-5.8666573],\n",
       "       [-2.4826856],\n",
       "       [-4.286703 ],\n",
       "       [-6.3056855],\n",
       "       [-4.6606064],\n",
       "       [-2.2559798],\n",
       "       [-4.9623795],\n",
       "       [-3.3670387],\n",
       "       [-6.9894276],\n",
       "       [-6.539547 ],\n",
       "       [-0.8630674],\n",
       "       [-5.325162 ],\n",
       "       [-2.9287803],\n",
       "       [-2.9646115],\n",
       "       [-7.4364357],\n",
       "       [-1.3762461],\n",
       "       [-2.9976091],\n",
       "       [-6.748829 ],\n",
       "       [-6.900238 ],\n",
       "       [-3.3286514],\n",
       "       [-6.3206697],\n",
       "       [-2.7188532],\n",
       "       [-7.011791 ],\n",
       "       [-4.4440837],\n",
       "       [-1.4495032],\n",
       "       [-2.5004606],\n",
       "       [-3.4198048],\n",
       "       [-4.4010386],\n",
       "       [-1.7277274],\n",
       "       [-5.850881 ],\n",
       "       [-4.5101066],\n",
       "       [-4.4356017],\n",
       "       [-4.69667  ],\n",
       "       [-3.3827698],\n",
       "       [-3.0798192],\n",
       "       [-3.5689774],\n",
       "       [-2.5074887],\n",
       "       [-4.3805113],\n",
       "       [-4.1695333],\n",
       "       [-4.88177  ],\n",
       "       [-6.1208224],\n",
       "       [-6.902354 ],\n",
       "       [-2.6727626],\n",
       "       [-6.825372 ],\n",
       "       [-3.4847748],\n",
       "       [-1.4060559],\n",
       "       [-6.767178 ],\n",
       "       [-6.2364106],\n",
       "       [-1.7433457],\n",
       "       [-7.0679054],\n",
       "       [-4.2370763],\n",
       "       [-6.2019534]], dtype=float32)"
      ]
     },
     "execution_count": 22,
     "metadata": {},
     "output_type": "execute_result"
    }
   ],
   "source": [
    "model.neuron_layers[0].log_step"
   ]
  },
  {
   "cell_type": "code",
   "execution_count": 23,
   "metadata": {},
   "outputs": [
    {
     "data": {
      "text/plain": [
       "Array([[  1.9329531 , -19.100328  ],\n",
       "       [  1.2198097 ,  -5.619456  ],\n",
       "       [  1.0152681 ,  -2.4111097 ],\n",
       "       [  2.0834892 ,  -1.036959  ],\n",
       "       [  0.3605228 ,   0.7464873 ],\n",
       "       [  0.8492885 ,   2.7275515 ],\n",
       "       [  1.1237726 ,   5.6097946 ],\n",
       "       [  1.7914962 ,  19.989573  ],\n",
       "       [  1.0130281 , -19.755547  ],\n",
       "       [  1.0444394 ,  -5.11604   ],\n",
       "       [  0.5557074 ,  -2.3900132 ],\n",
       "       [  0.555835  ,   1.0623438 ],\n",
       "       [  1.9873435 ,   1.8435651 ],\n",
       "       [  0.15442324,   2.1219215 ],\n",
       "       [  1.7716149 ,   5.1477413 ],\n",
       "       [  1.8913652 ,  19.421059  ],\n",
       "       [  1.2105979 , -19.425982  ],\n",
       "       [  0.49248794,  -5.362897  ],\n",
       "       [  0.1957226 ,  -3.0087101 ],\n",
       "       [  1.585769  ,  -1.1395358 ],\n",
       "       [  2.035081  ,   1.4296837 ],\n",
       "       [  0.17942618,   3.2882044 ],\n",
       "       [  1.8872374 ,   5.8967533 ],\n",
       "       [  1.1169449 ,  20.311756  ],\n",
       "       [  1.4086263 , -19.145153  ],\n",
       "       [  0.79197246,  -5.917852  ],\n",
       "       [  1.6169649 ,  -2.0988743 ],\n",
       "       [  2.0355442 ,  -0.50854653],\n",
       "       [  1.7617282 ,  -0.15220705],\n",
       "       [  0.10922875,   1.917179  ],\n",
       "       [  1.1717383 ,   6.1897516 ],\n",
       "       [  1.3591725 ,  19.023022  ],\n",
       "       [  1.5007317 , -19.599852  ],\n",
       "       [  1.9116244 ,  -5.9643273 ],\n",
       "       [  0.44497767,  -2.721107  ],\n",
       "       [  0.17746098,  -1.4863666 ],\n",
       "       [  2.2676136 ,   0.07181723],\n",
       "       [  0.27943867,   2.3169346 ],\n",
       "       [  0.8868589 ,   5.5643373 ],\n",
       "       [  1.4043914 ,  19.390743  ],\n",
       "       [  1.5946991 , -20.501888  ],\n",
       "       [  0.75547636,  -5.5135007 ],\n",
       "       [  0.71609294,  -2.230663  ],\n",
       "       [  2.3737872 ,  -0.52925974],\n",
       "       [  0.26667973,   0.40492463],\n",
       "       [  0.4082377 ,   2.310452  ],\n",
       "       [  1.9089012 ,   6.517174  ],\n",
       "       [  1.6787014 ,  17.929523  ],\n",
       "       [  1.4075568 , -19.095217  ],\n",
       "       [  0.614486  ,  -5.7997575 ],\n",
       "       [  0.5981122 ,  -1.2607856 ],\n",
       "       [  0.4610147 ,  -0.22097756],\n",
       "       [ -1.0232528 ,   1.2078699 ],\n",
       "       [  0.47066662,   1.8008562 ],\n",
       "       [ -0.12577613,   4.9268346 ],\n",
       "       [  1.6664966 ,  19.747381  ],\n",
       "       [  1.540592  , -19.780901  ],\n",
       "       [  0.5103677 ,  -5.058013  ],\n",
       "       [  1.4227506 ,  -1.8367244 ],\n",
       "       [  0.453534  ,  -0.50562745],\n",
       "       [  1.779627  ,   0.7730864 ],\n",
       "       [  0.5526502 ,   2.946642  ],\n",
       "       [  2.050717  ,   5.4468093 ],\n",
       "       [  1.5378174 ,  19.258604  ],\n",
       "       [  1.2114083 , -20.170238  ],\n",
       "       [  0.04382592,  -5.938714  ],\n",
       "       [  1.3069849 ,  -2.8826451 ],\n",
       "       [  0.23479374,  -1.3347002 ],\n",
       "       [  0.7805391 ,   0.49161136],\n",
       "       [ -0.11869725,   2.9579017 ],\n",
       "       [  2.389039  ,   4.5606112 ],\n",
       "       [  1.3858451 ,  18.627186  ],\n",
       "       [  1.474768  , -19.829374  ],\n",
       "       [  0.46965772,  -5.1793184 ],\n",
       "       [  1.5183402 ,  -1.8080266 ],\n",
       "       [  1.2772936 ,  -0.15859215],\n",
       "       [  1.1657535 ,   1.8683352 ],\n",
       "       [ -0.22336096,   2.308087  ],\n",
       "       [  1.0432674 ,   6.0827456 ],\n",
       "       [  1.24315   ,  20.396942  ],\n",
       "       [  1.8635768 , -20.450447  ],\n",
       "       [  1.6841979 ,  -5.306631  ],\n",
       "       [  2.3435457 ,  -2.5762527 ],\n",
       "       [  0.76235205,  -1.3002512 ],\n",
       "       [  2.457269  ,   0.865073  ],\n",
       "       [  1.8980671 ,   1.6960287 ],\n",
       "       [  0.5504856 ,   6.6237655 ],\n",
       "       [  1.5228401 ,  19.652458  ],\n",
       "       [  0.54525584, -20.192087  ],\n",
       "       [  0.548178  ,  -5.2127843 ],\n",
       "       [  1.0294312 ,  -1.9711609 ],\n",
       "       [ -0.48303026,  -1.683086  ],\n",
       "       [  0.6546365 ,   1.4537209 ],\n",
       "       [  0.51150644,   1.8333786 ],\n",
       "       [  0.58141834,   4.4468517 ],\n",
       "       [  0.9742065 ,  18.385614  ],\n",
       "       [  1.8590583 , -20.16513   ],\n",
       "       [  0.9153244 ,  -4.789202  ],\n",
       "       [  1.5790452 ,  -2.9250197 ],\n",
       "       [  1.7986275 ,  -0.5266483 ],\n",
       "       [  0.10544622,   0.5563562 ],\n",
       "       [  0.74702144,   2.0717084 ],\n",
       "       [  1.4706146 ,   5.2832985 ],\n",
       "       [  1.7841014 ,  17.986753  ],\n",
       "       [  0.23053326, -20.450743  ],\n",
       "       [  1.5721653 ,  -6.7500043 ],\n",
       "       [  1.3383791 ,  -2.3032877 ],\n",
       "       [  1.2143307 ,  -0.7959598 ],\n",
       "       [  1.5901017 ,   0.7897735 ],\n",
       "       [  0.8217643 ,   2.309143  ],\n",
       "       [  0.64678186,   5.881071  ],\n",
       "       [  1.2405498 ,  19.352041  ],\n",
       "       [  0.6725683 , -20.03439   ],\n",
       "       [  1.1014193 ,  -4.1611557 ],\n",
       "       [  1.5398372 ,  -2.2784934 ],\n",
       "       [  1.5160155 ,  -0.685556  ],\n",
       "       [  1.6028366 ,   0.17207207],\n",
       "       [  1.8732132 ,   1.7986444 ],\n",
       "       [  0.61396766,   5.5324516 ],\n",
       "       [  1.5444032 ,  19.721975  ],\n",
       "       [  1.1631736 , -18.986197  ],\n",
       "       [  1.37172   ,  -5.9898624 ],\n",
       "       [  0.64598215,  -1.3238325 ],\n",
       "       [  0.4315823 ,  -0.45253095],\n",
       "       [  0.05312835,   0.5563393 ],\n",
       "       [ -0.5255378 ,   2.2169523 ],\n",
       "       [  1.079976  ,   5.310477  ],\n",
       "       [  1.620634  ,  19.216005  ]], dtype=float32)"
      ]
     },
     "execution_count": 23,
     "metadata": {},
     "output_type": "execute_result"
    }
   ],
   "source": [
    "model.neuron_layers[0].Lambda"
   ]
  },
  {
   "cell_type": "code",
   "execution_count": 24,
   "metadata": {},
   "outputs": [
    {
     "ename": "Exception",
     "evalue": "",
     "output_type": "error",
     "traceback": [
      "\u001b[0;31m---------------------------------------------------------------------------\u001b[0m",
      "\u001b[0;31mException\u001b[0m                                 Traceback (most recent call last)",
      "Cell \u001b[0;32mIn[24], line 1\u001b[0m\n\u001b[0;32m----> 1\u001b[0m \u001b[38;5;28;01mraise\u001b[39;00m \u001b[38;5;167;01mException\u001b[39;00m()\n",
      "\u001b[0;31mException\u001b[0m: "
     ]
    }
   ],
   "source": [
    "raise Exception()"
   ]
  },
  {
   "cell_type": "markdown",
   "metadata": {},
   "source": [
    "# Plots for Surrogat Gradients"
   ]
  },
  {
   "cell_type": "code",
   "execution_count": null,
   "metadata": {},
   "outputs": [],
   "source": [
    "import matplotlib.pyplot as plt\n",
    "\n",
    "x = jnp.linspace(-3, 3, 100)\n",
    "h = 0.15\n",
    "s = 6\n",
    "sigma = 0.5\n",
    "theta = 0\n",
    "gaussian1 = lambda x, mu, std: jnp.exp(-0.5*((x-mu)/std)**2)\n",
    "\n",
    "df1 = (1+h)*gaussian1(x, theta, sigma) - 2*h*gaussian1(x, theta, s*sigma)\n",
    "\n",
    "plt.plot(x, df1)"
   ]
  },
  {
   "cell_type": "code",
   "execution_count": null,
   "metadata": {},
   "outputs": [],
   "source": [
    "import matplotlib.pyplot as plt\n",
    "\n",
    "x = jnp.linspace(-3, 3, 100)\n",
    "h = 0.15\n",
    "s = 6\n",
    "sigma = 0.5\n",
    "theta = 0\n",
    "gaussian2 = lambda x, mu, std: 1/((2*jnp.pi)**(0.5) * std) * jnp.exp(-0.5*((x-mu)/std)**2)\n",
    "\n",
    "df2 = (1+h)*gaussian2(x, theta, sigma) - h*gaussian2(x, sigma, s*sigma) - h*gaussian2(x, -sigma, s*sigma)\n",
    "\n",
    "plt.plot(x, df2)"
   ]
  },
  {
   "cell_type": "code",
   "execution_count": null,
   "metadata": {},
   "outputs": [],
   "source": [
    "import matplotlib.pyplot as plt\n",
    "\n",
    "x = jnp.linspace(-3, 3, 100)\n",
    "h = 0.15\n",
    "s = 6\n",
    "sigma = 0.5\n",
    "theta = 0\n",
    "gaussian2 = lambda x, mu, std: 1/((2*jnp.pi)**(0.5) * std) * jnp.exp(-0.5*((x-mu)/std)**2)\n",
    "\n",
    "df3 = (4 / (jnp.exp(-x) + jnp.exp(x))**2).astype(jnp.float32)\n",
    "\n",
    "plt.plot(x, df3)"
   ]
  },
  {
   "cell_type": "code",
   "execution_count": null,
   "metadata": {},
   "outputs": [],
   "source": [
    "df1"
   ]
  },
  {
   "cell_type": "code",
   "execution_count": null,
   "metadata": {},
   "outputs": [],
   "source": [
    "df2"
   ]
  },
  {
   "cell_type": "code",
   "execution_count": null,
   "metadata": {},
   "outputs": [],
   "source": [
    "import numpy as np\n",
    "import matplotlib.pyplot as plt\n",
    "\n",
    "P0 = lambda x: np.ones_like(x)\n",
    "P1 = lambda x: x\n",
    "P2 = lambda x: (1/2) * (3 * x**2 - 1)\n",
    "P3 = lambda x: (1/2) * (5 * x**3 - 3*x)\n",
    "P4 = lambda x: (1/8) * (35 * x**4 - 30*x**2 + 3)\n",
    "P5 = lambda x: (1/8) * (63 * x**5 - 70*x**3 + 15*x)\n",
    "P6 = lambda x: (1/16) * (231 * x**6 - 315*x**4 + 105*x**2-5)\n",
    "\n",
    "factor = lambda n: (2*n+1) / 2\n",
    "\n",
    "x = np.linspace(-6, 6, 100)\n",
    "x0 = 0.5\n",
    "y = factor(0)*P0(x0)*P0(x) * factor(1)*P1(x0)*P1(x) * factor(2)*P2(x0)*P2(x) * factor(3)*P3(x0)*P3(x) * factor(4)*P4(x0)*P4(x) * factor(5)*P5(x0)*P5(x) * factor(6)*P6(x0)*P6(x)"
   ]
  },
  {
   "cell_type": "code",
   "execution_count": null,
   "metadata": {},
   "outputs": [],
   "source": [
    "plt.plot(x, y)"
   ]
  },
  {
   "cell_type": "code",
   "execution_count": null,
   "metadata": {},
   "outputs": [],
   "source": [
    "plt.plot(x, P6(x))"
   ]
  },
  {
   "cell_type": "code",
   "execution_count": null,
   "metadata": {},
   "outputs": [],
   "source": [
    "def sin(m, x):\n",
    "    # return 2**(0.5) * np.sin(2*np.pi * m * x)\n",
    "    return np.sin(2*np.pi * m * x)\n",
    "\n",
    "def cos(m, x):\n",
    "    # return 2**(0.5) * np.cos(2*np.pi * m * x)\n",
    "    return np.cos(2*np.pi * m * x)\n",
    "\n",
    "def basis(n, x):\n",
    "    if np.abs(n) % 2 == 0:\n",
    "        return sin(n/2, x)\n",
    "    else:\n",
    "        return cos(int(n/2), x)\n",
    "\n",
    "\n",
    "x = np.linspace(-5, 5, 100)\n",
    "x0 = 2.1\n",
    "y = np.sum(np.array([basis(n, x0) * basis(n, x) for n in range(-64, 64, 1)]), axis=0)"
   ]
  },
  {
   "cell_type": "code",
   "execution_count": null,
   "metadata": {},
   "outputs": [],
   "source": [
    "plt.plot(x, y)"
   ]
  },
  {
   "cell_type": "code",
   "execution_count": null,
   "metadata": {},
   "outputs": [],
   "source": [
    "y = [0, 0, 1, 0, 0]\n",
    "np.fft.fft(y*2)"
   ]
  }
 ],
 "metadata": {
  "kernelspec": {
   "display_name": ".venv",
   "language": "python",
   "name": "python3"
  },
  "language_info": {
   "codemirror_mode": {
    "name": "ipython",
    "version": 3
   },
   "file_extension": ".py",
   "mimetype": "text/x-python",
   "name": "python",
   "nbconvert_exporter": "python",
   "pygments_lexer": "ipython3",
   "version": "3.9.5"
  }
 },
 "nbformat": 4,
 "nbformat_minor": 2
}
